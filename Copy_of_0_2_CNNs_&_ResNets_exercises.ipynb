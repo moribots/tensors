{
  "cells": [
    {
      "cell_type": "markdown",
      "metadata": {
        "id": "view-in-github",
        "colab_type": "text"
      },
      "source": [
        "<a href=\"https://colab.research.google.com/github/moribots/tensors/blob/main/Copy_of_0_2_CNNs_%26_ResNets_exercises.ipynb\" target=\"_parent\"><img src=\"https://colab.research.google.com/assets/colab-badge.svg\" alt=\"Open In Colab\"/></a>"
      ]
    },
    {
      "cell_type": "markdown",
      "metadata": {
        "id": "M9VAXa0XBLIB"
      },
      "source": [
        "# [0.2] - CNNs & ResNets (exercises)\n",
        "\n",
        "> **ARENA [Streamlit Page](https://arena-chapter0-fundamentals.streamlit.app/02_[0.2]_CNNs_&_ResNets)**\n",
        ">\n",
        "> **Colab: [exercises](https://colab.research.google.com/github/callummcdougall/ARENA_3.0/blob/main/chapter0_fundamentals/exercises/part2_cnns/0.2_CNNs_&_ResNets_exercises.ipynb?t=20250126) | [solutions](https://colab.research.google.com/github/callummcdougall/ARENA_3.0/blob/main/chapter0_fundamentals/exercises/part2_cnns/0.2_CNNs_&_ResNets_solutions.ipynb?t=20250126)**\n",
        "\n",
        "Please send any problems / bugs on the `#errata` channel in the [Slack group](https://join.slack.com/t/arena-uk/shared_invite/zt-2noug8mpy-TRYbCnc3pzj7ITNrZIjKww), and ask any questions on the dedicated channels for this chapter of material.\n",
        "\n",
        "You can collapse each section so only the headers are visible, by clicking the arrow symbol on the left hand side of the markdown header cells.\n",
        "\n",
        "Links to all other chapters: [(0) Fundamentals](https://arena-chapter0-fundamentals.streamlit.app/), [(1) Transformer Interpretability](https://arena-chapter1-transformer-interp.streamlit.app/), [(2) RL](https://arena-chapter2-rl.streamlit.app/)."
      ]
    },
    {
      "cell_type": "markdown",
      "metadata": {
        "id": "CcYRMAvnBLIG"
      },
      "source": [
        "<img src=\"https://raw.githubusercontent.com/info-arena/ARENA_img/main/misc/headers/header-02.png\" width=\"350\">"
      ]
    },
    {
      "cell_type": "markdown",
      "metadata": {
        "id": "jwTob1FJBLII"
      },
      "source": [
        "# Introduction"
      ]
    },
    {
      "cell_type": "markdown",
      "metadata": {
        "id": "3VBAqEHpBLII"
      },
      "source": [
        "This section is designed to get you familiar with basic neural networks: how they are structured, the basic operations like linear layers and convolutions which go into making them, and why they work as well as they do. You'll start by making very simple neural networks, and by the end of today you'll build up to assembling ResNet34, a comparatively much more complicated architecture."
      ]
    },
    {
      "cell_type": "markdown",
      "metadata": {
        "id": "IQjxtg06BLIJ"
      },
      "source": [
        "## Content & Learning Objectives\n",
        "\n",
        "### 1️⃣ Making your own modules\n",
        "\n",
        "In the first set of exercises, we'll cover the general structure of modules in PyTorch. You'll also implement your own basic modules, including for ReLU and Linear layers. You'll finish by assembling a very simple neural network.\n",
        "\n",
        "> ##### Learning Objectives\n",
        ">\n",
        "> - Learn how to create your own modules in PyTorch, by inheriting from `nn.Module`\n",
        "> - Assemble the pieces together to create a simple fully-connected network, to classify MNIST digits\n",
        "\n",
        "### 2️⃣ Training Neural Networks\n",
        "\n",
        "Here, you'll learn how to write a training loop in PyTorch. We'll keep it simple for today (and later on we'll experiment with more modular and extensible designs).\n",
        "\n",
        "> ##### Learning Objectives\n",
        ">\n",
        "> - Understand how to work with transforms, datasets and dataloaders\n",
        "> - Understand the basic structure of a training loop\n",
        "> - Learn how to write your own validation loop\n",
        "\n",
        "### 3️⃣ Convolutions\n",
        "\n",
        "In this section, you'll read about convolutions, and implement them as an `nn.Module` (not from scratch; we leave that to the bonus exercises). You'll also learn about maxpooling, and implement that as well.\n",
        "\n",
        "> ##### Learning Objectives\n",
        ">\n",
        "> * Learn how convolutions work, and why they are useful for vision models\n",
        "> * Implement your own convolutions, and maxpooling layers\n",
        "\n",
        "### 4️⃣ ResNets\n",
        "\n",
        "Here, you'll combine all the pieces you've learned so far to assemble ResNet34, a much more complex architecture used for image classification.\n",
        "\n",
        "> ##### Learning Objectives\n",
        ">\n",
        "> * Learn about skip connections, and how they help overcome the degradation problem\n",
        "> * Learn about batch normalization, and why it is used in training\n",
        "> * Assemble your own ResNet, and load in weights from PyTorch's ResNet implementation\n",
        "\n",
        "### ☆ Bonus - Feature Extraction\n",
        "\n",
        "In this section, you'll learn how to repurpose your ResNet to perform a different task than it was designed for, using feature extraction.\n",
        "\n",
        "> ##### Learning Objectives\n",
        ">\n",
        "> * Understand the difference between feature extraction and finetuning\n",
        "> * Perform feature extraction on a pre-trained ResNet\n",
        "\n",
        "### ☆ Bonus - Convolutions From Scratch\n",
        "\n",
        "This section takes you through the low-level details of how to actually implement convolutions. It's not necessary to understand this section to complete the exercises, but it's a good way to get a deeper understanding of how convolutions work.\n",
        "\n",
        "> ##### Learning Objectives\n",
        ">\n",
        "> * Understand how array strides work, and why they're important for efficient linear operations\n",
        "> * Learn how to use `as_strided` to perform simple linear operations like trace and matrix multiplication\n",
        "> * Implement your own convolutions and maxpooling functions using stride-based methods"
      ]
    },
    {
      "cell_type": "markdown",
      "metadata": {
        "id": "COoYgA5ZBLIL"
      },
      "source": [
        "## Setup code"
      ]
    },
    {
      "cell_type": "code",
      "execution_count": 1,
      "metadata": {
        "id": "mQ3_Z55iBLIL",
        "colab": {
          "base_uri": "https://localhost:8080/"
        },
        "outputId": "dc1921f7-5bf5-4cd4-f853-47813db86f0a"
      },
      "outputs": [
        {
          "output_type": "stream",
          "name": "stdout",
          "text": [
            "Collecting torchinfo\n",
            "  Downloading torchinfo-1.8.0-py3-none-any.whl.metadata (21 kB)\n",
            "Collecting jaxtyping\n",
            "  Downloading jaxtyping-0.2.37-py3-none-any.whl.metadata (6.6 kB)\n",
            "Collecting wadler-lindig>=0.1.3 (from jaxtyping)\n",
            "  Downloading wadler_lindig-0.1.3-py3-none-any.whl.metadata (17 kB)\n",
            "Downloading torchinfo-1.8.0-py3-none-any.whl (23 kB)\n",
            "Downloading jaxtyping-0.2.37-py3-none-any.whl (56 kB)\n",
            "\u001b[2K   \u001b[90m━━━━━━━━━━━━━━━━━━━━━━━━━━━━━━━━━━━━━━━━\u001b[0m \u001b[32m56.3/56.3 kB\u001b[0m \u001b[31m3.2 MB/s\u001b[0m eta \u001b[36m0:00:00\u001b[0m\n",
            "\u001b[?25hDownloading wadler_lindig-0.1.3-py3-none-any.whl (20 kB)\n",
            "Installing collected packages: wadler-lindig, torchinfo, jaxtyping\n",
            "Successfully installed jaxtyping-0.2.37 torchinfo-1.8.0 wadler-lindig-0.1.3\n",
            "--2025-02-03 04:09:19--  https://github.com/callummcdougall/ARENA_3.0/archive/refs/heads/main.zip\n",
            "Resolving github.com (github.com)... 20.27.177.113\n",
            "Connecting to github.com (github.com)|20.27.177.113|:443... connected.\n",
            "HTTP request sent, awaiting response... 302 Found\n",
            "Location: https://codeload.github.com/callummcdougall/ARENA_3.0/zip/refs/heads/main [following]\n",
            "--2025-02-03 04:09:20--  https://codeload.github.com/callummcdougall/ARENA_3.0/zip/refs/heads/main\n",
            "Resolving codeload.github.com (codeload.github.com)... 20.27.177.114\n",
            "Connecting to codeload.github.com (codeload.github.com)|20.27.177.114|:443... connected.\n",
            "HTTP request sent, awaiting response... 200 OK\n",
            "Length: unspecified [application/zip]\n",
            "Saving to: ‘/content/main.zip’\n",
            "\n",
            "main.zip                [          <=>       ]  20.96M  9.26MB/s    in 2.3s    \n",
            "\n",
            "2025-02-03 04:09:23 (9.26 MB/s) - ‘/content/main.zip’ saved [21977541]\n",
            "\n",
            "Archive:  /content/main.zip\n",
            "b6e030f1358727802a42489579a8449f4cc9e935\n",
            "   creating: /content/ARENA_3.0-main/chapter0_fundamentals/exercises/\n",
            "   creating: /content/ARENA_3.0-main/chapter0_fundamentals/exercises/part0_prereqs/\n",
            "  inflating: /content/ARENA_3.0-main/chapter0_fundamentals/exercises/part0_prereqs/0.0_Prerequisites_exercises.ipynb  \n",
            "  inflating: /content/ARENA_3.0-main/chapter0_fundamentals/exercises/part0_prereqs/0.0_Prerequisites_solutions.ipynb  \n",
            "  inflating: /content/ARENA_3.0-main/chapter0_fundamentals/exercises/part0_prereqs/numbers.npy  \n",
            "  inflating: /content/ARENA_3.0-main/chapter0_fundamentals/exercises/part0_prereqs/solutions.py  \n",
            "  inflating: /content/ARENA_3.0-main/chapter0_fundamentals/exercises/part0_prereqs/tests.py  \n",
            "  inflating: /content/ARENA_3.0-main/chapter0_fundamentals/exercises/part0_prereqs/utils.py  \n",
            "   creating: /content/ARENA_3.0-main/chapter0_fundamentals/exercises/part1_ray_tracing/\n",
            "  inflating: /content/ARENA_3.0-main/chapter0_fundamentals/exercises/part1_ray_tracing/0.1_Ray_Tracing_exercises.ipynb  \n",
            "  inflating: /content/ARENA_3.0-main/chapter0_fundamentals/exercises/part1_ray_tracing/0.1_Ray_Tracing_solutions.ipynb  \n",
            "  inflating: /content/ARENA_3.0-main/chapter0_fundamentals/exercises/part1_ray_tracing/pikachu.pt  \n",
            "  inflating: /content/ARENA_3.0-main/chapter0_fundamentals/exercises/part1_ray_tracing/pikachu.stl  \n",
            "  inflating: /content/ARENA_3.0-main/chapter0_fundamentals/exercises/part1_ray_tracing/solutions.py  \n",
            "  inflating: /content/ARENA_3.0-main/chapter0_fundamentals/exercises/part1_ray_tracing/test_with_pytest.py  \n",
            "  inflating: /content/ARENA_3.0-main/chapter0_fundamentals/exercises/part1_ray_tracing/tests.py  \n",
            "  inflating: /content/ARENA_3.0-main/chapter0_fundamentals/exercises/part1_ray_tracing/utils.py  \n",
            "   creating: /content/ARENA_3.0-main/chapter0_fundamentals/exercises/part2_cnns/\n",
            "  inflating: /content/ARENA_3.0-main/chapter0_fundamentals/exercises/part2_cnns/0.2_CNNs_&_ResNets_exercises.ipynb  \n",
            "  inflating: /content/ARENA_3.0-main/chapter0_fundamentals/exercises/part2_cnns/0.2_CNNs_&_ResNets_solutions.ipynb  \n",
            "  inflating: /content/ARENA_3.0-main/chapter0_fundamentals/exercises/part2_cnns/imagenet_labels.json  \n",
            "   creating: /content/ARENA_3.0-main/chapter0_fundamentals/exercises/part2_cnns/resnet_inputs/\n",
            "  inflating: /content/ARENA_3.0-main/chapter0_fundamentals/exercises/part2_cnns/resnet_inputs/astronaut.jpg  \n",
            "  inflating: /content/ARENA_3.0-main/chapter0_fundamentals/exercises/part2_cnns/resnet_inputs/chimpanzee.jpg  \n",
            "  inflating: /content/ARENA_3.0-main/chapter0_fundamentals/exercises/part2_cnns/resnet_inputs/dragonfly.jpg  \n",
            "  inflating: /content/ARENA_3.0-main/chapter0_fundamentals/exercises/part2_cnns/resnet_inputs/fireworks.jpg  \n",
            "  inflating: /content/ARENA_3.0-main/chapter0_fundamentals/exercises/part2_cnns/resnet_inputs/frogs.jpg  \n",
            "  inflating: /content/ARENA_3.0-main/chapter0_fundamentals/exercises/part2_cnns/resnet_inputs/golden_retriever.jpg  \n",
            "  inflating: /content/ARENA_3.0-main/chapter0_fundamentals/exercises/part2_cnns/resnet_inputs/goofy.jpg  \n",
            "  inflating: /content/ARENA_3.0-main/chapter0_fundamentals/exercises/part2_cnns/resnet_inputs/hourglass.jpg  \n",
            "  inflating: /content/ARENA_3.0-main/chapter0_fundamentals/exercises/part2_cnns/resnet_inputs/iguana.jpg  \n",
            "  inflating: /content/ARENA_3.0-main/chapter0_fundamentals/exercises/part2_cnns/resnet_inputs/platypus.jpg  \n",
            "  inflating: /content/ARENA_3.0-main/chapter0_fundamentals/exercises/part2_cnns/resnet_inputs/volcano.jpg  \n",
            "  inflating: /content/ARENA_3.0-main/chapter0_fundamentals/exercises/part2_cnns/solutions.py  \n",
            "  inflating: /content/ARENA_3.0-main/chapter0_fundamentals/exercises/part2_cnns/tests.py  \n",
            "  inflating: /content/ARENA_3.0-main/chapter0_fundamentals/exercises/part2_cnns/utils.py  \n",
            "   creating: /content/ARENA_3.0-main/chapter0_fundamentals/exercises/part3_optimization/\n",
            "  inflating: /content/ARENA_3.0-main/chapter0_fundamentals/exercises/part3_optimization/0.3_Optimization_exercises.ipynb  \n",
            "  inflating: /content/ARENA_3.0-main/chapter0_fundamentals/exercises/part3_optimization/0.3_Optimization_solutions.ipynb  \n",
            "  inflating: /content/ARENA_3.0-main/chapter0_fundamentals/exercises/part3_optimization/solutions.py  \n",
            "  inflating: /content/ARENA_3.0-main/chapter0_fundamentals/exercises/part3_optimization/tests.py  \n",
            "  inflating: /content/ARENA_3.0-main/chapter0_fundamentals/exercises/part3_optimization/utils.py  \n",
            "   creating: /content/ARENA_3.0-main/chapter0_fundamentals/exercises/part4_backprop/\n",
            "  inflating: /content/ARENA_3.0-main/chapter0_fundamentals/exercises/part4_backprop/0.4_Backprop_exercises.ipynb  \n",
            "  inflating: /content/ARENA_3.0-main/chapter0_fundamentals/exercises/part4_backprop/0.4_Backprop_solutions.ipynb  \n",
            "  inflating: /content/ARENA_3.0-main/chapter0_fundamentals/exercises/part4_backprop/solutions.py  \n",
            "  inflating: /content/ARENA_3.0-main/chapter0_fundamentals/exercises/part4_backprop/tests.py  \n",
            "  inflating: /content/ARENA_3.0-main/chapter0_fundamentals/exercises/part4_backprop/utils.py  \n",
            "   creating: /content/ARENA_3.0-main/chapter0_fundamentals/exercises/part5_vaes_and_gans/\n",
            "  inflating: /content/ARENA_3.0-main/chapter0_fundamentals/exercises/part5_vaes_and_gans/0.5_VAEs_&_GANs_exercises.ipynb  \n",
            "  inflating: /content/ARENA_3.0-main/chapter0_fundamentals/exercises/part5_vaes_and_gans/0.5_VAEs_&_GANs_solutions.ipynb  \n",
            "  inflating: /content/ARENA_3.0-main/chapter0_fundamentals/exercises/part5_vaes_and_gans/solutions.py  \n",
            "  inflating: /content/ARENA_3.0-main/chapter0_fundamentals/exercises/part5_vaes_and_gans/tests.py  \n",
            "  inflating: /content/ARENA_3.0-main/chapter0_fundamentals/exercises/part5_vaes_and_gans/utils.py  \n",
            "  inflating: /content/ARENA_3.0-main/chapter0_fundamentals/exercises/plotly_utils.py  \n"
          ]
        }
      ],
      "source": [
        "import os\n",
        "import sys\n",
        "from pathlib import Path\n",
        "\n",
        "IN_COLAB = \"google.colab\" in sys.modules\n",
        "\n",
        "chapter = \"chapter0_fundamentals\"\n",
        "repo = \"ARENA_3.0\"\n",
        "branch = \"main\"\n",
        "\n",
        "# Install dependencies\n",
        "try:\n",
        "    import torchinfo\n",
        "except:\n",
        "    %pip install torchinfo jaxtyping\n",
        "\n",
        "# Get root directory, handling 3 different cases: (1) Colab, (2) notebook not in ARENA repo, (3) notebook in ARENA repo\n",
        "root = (\n",
        "    \"/content\"\n",
        "    if IN_COLAB\n",
        "    else \"/root\"\n",
        "    if repo not in os.getcwd()\n",
        "    else str(next(p for p in Path.cwd().parents if p.name == repo))\n",
        ")\n",
        "\n",
        "if Path(root).exists() and not Path(f\"{root}/{chapter}\").exists():\n",
        "    if not IN_COLAB:\n",
        "        !sudo apt-get install unzip\n",
        "        %pip install jupyter ipython --upgrade\n",
        "\n",
        "    if not os.path.exists(f\"{root}/{chapter}\"):\n",
        "        !wget -P {root} https://github.com/callummcdougall/ARENA_3.0/archive/refs/heads/{branch}.zip\n",
        "        !unzip {root}/{branch}.zip '{repo}-{branch}/{chapter}/exercises/*' -d {root}\n",
        "        !mv {root}/{repo}-{branch}/{chapter} {root}/{chapter}\n",
        "        !rm {root}/{branch}.zip\n",
        "        !rmdir {root}/{repo}-{branch}\n",
        "\n",
        "\n",
        "if f\"{root}/{chapter}/exercises\" not in sys.path:\n",
        "    sys.path.append(f\"{root}/{chapter}/exercises\")\n",
        "\n",
        "os.chdir(f\"{root}/{chapter}/exercises\")"
      ]
    },
    {
      "cell_type": "code",
      "execution_count": 2,
      "metadata": {
        "id": "P5wP3H4YBLIO"
      },
      "outputs": [],
      "source": [
        "import json\n",
        "import sys\n",
        "from collections import namedtuple\n",
        "from dataclasses import dataclass\n",
        "from pathlib import Path\n",
        "\n",
        "import einops\n",
        "import numpy as np\n",
        "import torch as t\n",
        "import torch.nn as nn\n",
        "import torch.nn.functional as F\n",
        "import torchinfo\n",
        "from IPython.display import display\n",
        "from jaxtyping import Float, Int\n",
        "from PIL import Image\n",
        "from rich import print as rprint\n",
        "from rich.table import Table\n",
        "from torch import Tensor\n",
        "from torch.utils.data import DataLoader, Subset\n",
        "from torchvision import datasets, models, transforms\n",
        "from tqdm.notebook import tqdm\n",
        "\n",
        "# Make sure exercises are in the path\n",
        "chapter = \"chapter0_fundamentals\"\n",
        "section = \"part2_cnns\"\n",
        "root_dir = next(p for p in Path.cwd().parents if (p / chapter).exists())\n",
        "exercises_dir = root_dir / chapter / \"exercises\"\n",
        "section_dir = exercises_dir / section\n",
        "if str(exercises_dir) not in sys.path:\n",
        "    sys.path.append(str(exercises_dir))\n",
        "\n",
        "\n",
        "import part2_cnns.tests as tests\n",
        "import part2_cnns.utils as utils\n",
        "from plotly_utils import line"
      ]
    },
    {
      "cell_type": "markdown",
      "metadata": {
        "id": "uvCAJqOjBLIP"
      },
      "source": [
        "<details>\n",
        "<summary>Help - I get a NumPy-related error</summary>\n",
        "\n",
        "This is an annoying colab-related issue which I haven't been able to find a satisfying fix for. If you restart runtime (but don't delete runtime), and run just the imports cell above again (but not the `%pip install` cell), the problem should go away.\n",
        "</details>"
      ]
    },
    {
      "cell_type": "markdown",
      "metadata": {
        "id": "-kCjZ727BLIQ"
      },
      "source": [
        "# 1️⃣ Making your own modules\n",
        "\n",
        "> ##### Learning Objectives\n",
        ">\n",
        "> - Learn how to create your own modules in PyTorch, by inheriting from `nn.Module`\n",
        "> - Assemble the pieces together to create a simple fully-connected network, to classify MNIST digits"
      ]
    },
    {
      "cell_type": "markdown",
      "metadata": {
        "id": "l_KSMig4BLIQ"
      },
      "source": [
        "Note - from this point on we'll start referring to the PyTorch documentation pages quite a lot. We will also include a lot of content within this material if we want to highlight it for you, however it's also an important skill to be able to use documentation pages to find answers to specific questions & assist you in debugging."
      ]
    },
    {
      "cell_type": "markdown",
      "metadata": {
        "id": "SLRSbJHbBLIR"
      },
      "source": [
        "## Subclassing `nn.Module`\n",
        "\n",
        "One of the most basic parts of PyTorch that you will see over and over is the `nn.Module` class. All types of neural net components inherit from it, from the simplest `nn.Relu` to the most complex `nn.Transformer`. Often, a complex `nn.Module` will have sub-`Module`s which implement smaller pieces of its functionality.\n",
        "\n",
        "Other common `Module`s  you'll see include\n",
        "\n",
        "- `nn.Linear`, for fully-connected layers with or without a bias\n",
        "- `nn.Conv2d`, for a two-dimensional convolution (we'll see more of these in a future section)\n",
        "- `nn.Softmax`, which implements the [softmax](https://pytorch.org/docs/stable/generated/torch.nn.Softmax.html) function\n",
        "\n",
        "The list goes on, including activation functions, normalizations, pooling, attention, and more. You can see all the `Module`s that PyTorch provides [here](https://pytorch.org/docs/stable/nn.html). You can also create your own `Module`s, as we will do often!\n",
        "\n",
        "The `Module` class provides a lot of functionality, but we'll only cover a little bit of it here.\n",
        "\n",
        "In this section, we'll add another layer of abstraction to all the linear operations we've done in previous sections, by packaging them inside `nn.Module` objects."
      ]
    },
    {
      "cell_type": "markdown",
      "metadata": {
        "id": "IQpwmKmmBLIS"
      },
      "source": [
        "### `__init__` and `forward`\n",
        "\n",
        "A subclass of `nn.Module` usually looks something like this:\n",
        "\n",
        "```python\n",
        "import torch.nn as nn\n",
        "\n",
        "class MyModule(nn.Module):\n",
        "    def __init__(self, arg1, arg2, ...):\n",
        "        super().__init__()\n",
        "        # Initialization code\n",
        "\n",
        "    def forward(self, x: t.Tensor) -> t.Tensor:\n",
        "        # Forward pass code\n",
        "```\n",
        "\n",
        "The initialization sets up attributes that will be used for the life of the `Module`, like its parameters, hyperparameters, or other sub-`Module`s it might need to use. These are usually added to the instance with something like `self.attribute = attr`, where `attr` might be provided as an argument. Some modules are simple enough that they don't need any persistent attributes, and in this case you can skip the `__init__`.\n",
        "\n",
        "The `forward` method is called on each forward pass of the `Module`, possibly using the attributes that were set up in the `__init__`. It should take in the input, do whatever it's supposed to do, and return the result. Subclassing `nn.Module` automatically makes instances of your class callable, so you can do `model(x)` on an input `x` to invoke the `forward` method."
      ]
    },
    {
      "cell_type": "markdown",
      "metadata": {
        "id": "sCCPgXyiBLIT"
      },
      "source": [
        "### The `nn.Parameter` class\n",
        "\n",
        "A `nn.Parameter` is a special type of `Tensor`. Basically, this is the class that torch has provided for storing the weights and biases of a `Module`. It has some special properties for doing this:\n",
        "\n",
        "- If a `Parameter` is set as an attribute of a `Module`, it will be auto-detected by torch and returned when you call `module.parameters()` (along with all the other `Parameters` associated with the `Module`, or any of the `Module`'s sub-modules!).\n",
        "- This makes it easy to pass all the parameters of a model into an optimizer and update them all at once.\n",
        "\n",
        "When you create a `Module` that has weights or biases, be sure to wrap them in `nn.Parameter` so that torch can detect and update them appropriately:\n",
        "\n",
        "```python\n",
        "class MyModule(nn.Module):\n",
        "    def __init__(self, weights: t.Tensor, biases: t.Tensor):\n",
        "        super().__init__()\n",
        "        self.weights = nn.Parameter(weights) # wrapping a tensor in nn.Parameter\n",
        "        self.biases = nn.Parameter(biases)\n",
        "```"
      ]
    },
    {
      "cell_type": "markdown",
      "metadata": {
        "id": "sFqG2KN1BLIT"
      },
      "source": [
        "### Printing information with `extra_repr`\n",
        "\n",
        "Another useful method is called `extra_repr`. This allows you to format the string representation of your `Module` in a way that's more informative than the default. For example, the following:\n",
        "\n",
        "```python\n",
        "class MyModule(nn.Module):\n",
        "    def __init__(self, arg1, arg2, ...):\n",
        "        super().__init__()\n",
        "        # Initialization code\n",
        "\n",
        "    def extra_repr(self) -> str:\n",
        "        return f\"arg1={self.arg1}, arg2={self.arg2}, ...\"\n",
        "```\n",
        "\n",
        "will result in the output `\"MyModule(arg1=arg1, arg2=arg2, ...)\"` when you print an instance of this module. You might want to take this opportunity to print out useful invariant information about the module. The Python built-in function `getattr` might be helpful here (it can be used e.g. as `getattr(self, \"arg1\")`, which returns the same as `self.arg1` would). For simple modules, it's fine not to implement `extra_repr`."
      ]
    },
    {
      "cell_type": "markdown",
      "metadata": {
        "id": "8-dm61kCBLIU"
      },
      "source": [
        "## ReLU\n",
        "\n",
        "The first module you should implement is `ReLU`. This will relatively simple, since it doesn't involve any argument (so we only need to implement `forward`). Make sure you look at the PyTorch documentation page for [ReLU](https://pytorch.org/docs/stable/generated/torch.nn.ReLU.html) so that you're comfortable with how they work.\n",
        "\n",
        "ReLU is defined as the element-wise maximum between the input and a tensor of zeros. It's one of the simplest types of **nonlinear activation functions**. These are essential because linear operations compose to make more linear operations, which is very limiting. On the other hand, the **universal approximation theorem** tells us that we can approximate any continuous function using a sufficiently large neural network, if we use nonlinear activation functions. It's worth emphasizing that the theory of the UAT and what networks look like in practice are very different - in particular, many versions of the UAT are based on a shallow but extremely wide neural network, on the other hand most of the power of modern neural networks comes from their ability to compose between layers: feeding the output of one layer into the input of another, and create increasingly expressive functions. We'll explore this idea more when we study circuits in next week's interpretability material."
      ]
    },
    {
      "cell_type": "markdown",
      "metadata": {
        "id": "sdi8rGsvBLIU"
      },
      "source": [
        "### Exercise - implement `ReLU`\n",
        "\n",
        "> ```yaml\n",
        "> Difficulty: 🔴🔴⚪⚪⚪\n",
        "> Importance: 🔵🔵🔵⚪⚪\n",
        ">\n",
        "> You should spend up to ~10 minutes on this exercise.\n",
        "> ```\n",
        "\n",
        "You should fill in the `forward` method of the `ReLU` class below."
      ]
    },
    {
      "cell_type": "code",
      "execution_count": 3,
      "metadata": {
        "id": "INH7DUHQBLIV",
        "colab": {
          "base_uri": "https://localhost:8080/"
        },
        "outputId": "1b36b0f8-533c-4292-e427-823e462bfcce"
      },
      "outputs": [
        {
          "output_type": "stream",
          "name": "stdout",
          "text": [
            "All tests in `test_relu` passed!\n"
          ]
        }
      ],
      "source": [
        "class ReLU(nn.Module):\n",
        "    def forward(self, x: Tensor) -> Tensor:\n",
        "        return t.max(t.zeros(x.shape),x)\n",
        "\n",
        "\n",
        "tests.test_relu(ReLU)"
      ]
    },
    {
      "cell_type": "markdown",
      "metadata": {
        "id": "kq00w5CQBLIW"
      },
      "source": [
        "<details><summary>Solution</summary>\n",
        "\n",
        "```python\n",
        "class ReLU(nn.Module):\n",
        "    def forward(self, x: Tensor) -> Tensor:\n",
        "        return t.maximum(x, t.tensor(0.0))\n",
        "```\n",
        "</details>"
      ]
    },
    {
      "cell_type": "markdown",
      "metadata": {
        "id": "EvE4Uq4JBLIX"
      },
      "source": [
        "## Linear\n",
        "\n",
        "Now implement your own `Linear` module. This applies a simple linear transformation, with a weight matrix and optional bias vector. The PyTorch documentation page is [here](https://pytorch.org/docs/stable/generated/torch.nn.Linear.html). Note that this is the first `Module` you'll implement that has learnable weights and biases.\n",
        "\n",
        "<details>\n",
        "<summary>Question - what type do you think these variables should be?</summary>\n",
        "\n",
        "They have to be `torch.Tensor` objects wrapped in `nn.Parameter` in order for `nn.Module` to recognize them. If you forget to do this, `module.parameters()` won't include your `Parameter`, which prevents an optimizer from being able to modify it during training.\n",
        "        \n",
        "Also, in tomorrow's exercises we'll be building a ResNet and loading in weights from a pretrained model, and this is hard to do if you haven't registered all your parameters!\n",
        "</details>\n",
        "\n",
        "For any layer, initialization is very important for the stability of training: with a bad initialization, your model will take much longer to converge or may completely fail to learn anything. The default PyTorch behavior isn't necessarily optimal and you can often improve performance by using something more custom, but we'll follow it for today because it's simple and works decently well.\n",
        "\n",
        "Each float in the weight and bias tensors are drawn independently from the uniform distribution on the interval:\n",
        "\n",
        "$$\n",
        "\\bigg[-\\frac{1}{\\sqrt{N_{in}}}, \\frac{1}{\\sqrt{N_{in}}}\\bigg]\n",
        "$$\n",
        "\n",
        "where $N_{in}$ is the number of inputs contributing to each output value. The rough intuition for this is that it keeps the variance of the activations at each layer constant, since each one is calculated by taking the sum over $N_{in}$ inputs multiplied by the weights (and standard deviation of the sum of independent random variables scales as the square root of number of variables).\n",
        "\n",
        "This initialization technique is called **uniform Kaiming initialization**. A few last notes on initialization methods:\n",
        "\n",
        "- Kaiming often has a different constant in the numerator depending on what the target variance is, also there are uniform & normal variants of it (we'll only be using the uniform variant)\n",
        "- **Xavier initialization** is the other well-known technique, and differs in that it uses $N_{in} + N_{out}$ in the denominator (this makes sense when also considering variance scaling of backward passes as well as forward passes - see the next dropdown for technical details)\n",
        "\n",
        "<details>\n",
        "<summary>Technical details (derivation of distribution)</summary>\n",
        "\n",
        "The key intuition behind Kaiming initialisation (and others like it) is that we want the variance of our activations to be the same through all layers of the model when we initialize. Suppose $x$ and $y$ are activations from two adjacent layers, and $w$ are the weights connecting them (so we have $y_i = \\sum_j w_{ij} x_j + b_i$, where $b$ is the bias). With $N_{x}$ as the number of neurons in layer $x$, we have:\n",
        "\n",
        "$$\n",
        "\\begin{aligned}\n",
        "\\operatorname{Var}\\left(y_i\\right)=\\sigma_x^2 & =\\operatorname{Var}\\left(\\sum_j w_{i j} x_j\\right) \\\\\n",
        "& =\\sum_j \\operatorname{Var}\\left(w_{i j} x_j\\right) \\quad \\text { Inputs and weights are independent of each other } \\\\\n",
        "& =\\sum_j \\operatorname{Var}\\left(w_{i j}\\right) \\cdot \\operatorname{Var}\\left(x_j\\right) \\quad \\text { Variance of product of independent RVs with zero mean is product of variances } \\\\\n",
        "& = N_x \\cdot \\sigma_x^2 \\cdot \\operatorname{Var}\\left(w_{i j}\\right) \\quad \\text { Variance equal for all } N_x \\text { neurons, call this value } \\sigma_x^2\n",
        "\\end{aligned}\n",
        "$$\n",
        "\n",
        "For this to be the same as $\\sigma_x^2$, we need $\\operatorname{Var}(w_{ij}) = \\frac{1}{N_x}$, so the standard deviation is $\\frac{1}{\\sqrt{N_x}}$.\n",
        "\n",
        "This is not exactly the case for the Kaiming uniform distribution (which has variance $\\frac{12}{(2 \\sqrt{N_x})^2} = \\frac{3}{N_x}$), and as far as I'm aware there's no principled reason why PyTorch does this. But the most important thing is that the variance scales as $O(1 / N_x)$, rather than what the exact scaling constant is.\n",
        "\n",
        "There are other initializations with some theoretical justification. For instance, **Xavier initialization** has a uniform distribution in the interval:\n",
        "\n",
        "$$\n",
        "\\bigg[-\\frac{\\sqrt{6}}{\\sqrt{N_{in} + N_{out} + 1}}, \\frac{\\sqrt{6}}{\\sqrt{N_{in} + N_{out} + 1}}\\bigg]\n",
        "$$\n",
        "\n",
        "which is motivated by the idea of both keeping the variance of activations constant and keeping the ***gradients*** constant when we backpropagate.\n",
        "\n",
        "However, you don't need to worry about any of this here, just implement Kaiming He uniform with a bound of $\\frac{1}{\\sqrt{N_{in}}}$!\n",
        "</details>"
      ]
    },
    {
      "cell_type": "markdown",
      "metadata": {
        "id": "Lkb69F97BLIY"
      },
      "source": [
        "### Exercise - implement `Linear`\n",
        "\n",
        "> ```yaml\n",
        "> Difficulty: 🔴🔴⚪⚪⚪\n",
        "> Importance: 🔵🔵🔵🔵⚪\n",
        ">\n",
        "> You should spend up to ~10 minutes on this exercise.\n",
        "> ```\n",
        "\n",
        "Remember, you should define the weights (and bias, if `bias=True`) in the `__init__` block. Also, make sure not to mix up `bias` (which is the boolean parameter to `__init__`) and `self.bias` (which should either be the actual bias tensor, or `None` if `bias` is false).\n",
        "\n",
        "You should also fill in `forward` (which will multiply the input by the weight matrix and add the bias, if present).\n",
        "\n",
        "Lastly, you should fill in `extra_repr` to give a string representation of the `Linear` module. There are no tests for this method, you should just make sure it's suitably informative (this will help when printing out your model later on)."
      ]
    },
    {
      "cell_type": "code",
      "execution_count": 4,
      "metadata": {
        "id": "WkhtvbjABLIY",
        "colab": {
          "base_uri": "https://localhost:8080/"
        },
        "outputId": "be9790a1-b6c4-4b20-bfb6-6fbc99855d3a"
      },
      "outputs": [
        {
          "output_type": "stream",
          "name": "stdout",
          "text": [
            "All tests in `test_linear_parameters` passed!\n",
            "All tests in `test_linear_parameters` passed!\n",
            "All tests in `test_linear_forward` passed!\n",
            "All tests in `test_linear_forward` passed!\n"
          ]
        }
      ],
      "source": [
        "class Linear(nn.Module):\n",
        "    def __init__(self, in_features: int, out_features: int, bias=True):\n",
        "        \"\"\"\n",
        "        A simple linear (technically, affine) transformation.\n",
        "\n",
        "        The fields should be named `weight` and `bias` for compatibility with PyTorch.\n",
        "        If `bias` is False, set `self.bias` to None.\n",
        "        self.weight = t.Tensor\n",
        "        \"\"\"\n",
        "        super().__init__()\n",
        "        self.weight = nn.Parameter(t.zeros(out_features, in_features)) # wrapping a tensor in nn.Parameter\n",
        "        if bias:\n",
        "          self.bias = nn.Parameter(t.zeros(out_features))\n",
        "        else:\n",
        "          self.bias = None\n",
        "\n",
        "    def forward(self, x: Tensor) -> Tensor:\n",
        "        \"\"\"\n",
        "        x: shape (*, in_features)\n",
        "        Return: shape (*, out_features)\n",
        "        \"\"\"\n",
        "        # This is equiv. to doing x @ self.weight.t(), but more explicit. Notice that I don't have to\n",
        "        # transpose self.weight, I just tell it what the output shape is and it figures it out.\n",
        "        x = einops.einsum(x, self.weight, \"any_dim in_feats, out_feats in_feats -> any_dim out_feats\")\n",
        "        if self.bias is not None:\n",
        "            x += self.bias\n",
        "        return x\n",
        "\n",
        "    def extra_repr(self) -> str:\n",
        "        return f\"weight={self.weight}, bias={self.bias}, ...\"\n",
        "\n",
        "\n",
        "tests.test_linear_parameters(Linear, bias=False)\n",
        "tests.test_linear_parameters(Linear, bias=True)\n",
        "tests.test_linear_forward(Linear, bias=False)\n",
        "tests.test_linear_forward(Linear, bias=True)"
      ]
    },
    {
      "cell_type": "markdown",
      "metadata": {
        "id": "p500kuB4BLIZ"
      },
      "source": [
        "<details>\n",
        "<summary>Help - when I print my Linear module, it also prints a large tensor.</summary>\n",
        "\n",
        "This is because you've (correctly) defined `self.bias` as either `torch.Tensor` or `None`, rather than set it to the boolean value of `bias` used in initialisation.\n",
        "        \n",
        "To fix this, you will need to change `extra_repr` so that it prints the boolean value of `bias` rather than the value of `self.bias`.\n",
        "</details>\n",
        "\n",
        "\n",
        "<details><summary>Solution</summary>\n",
        "\n",
        "```python\n",
        "class Linear(nn.Module):\n",
        "    def __init__(self, in_features: int, out_features: int, bias=True):\n",
        "        \"\"\"\n",
        "        A simple linear (technically, affine) transformation.\n",
        "\n",
        "        The fields should be named `weight` and `bias` for compatibility with PyTorch.\n",
        "        If `bias` is False, set `self.bias` to None.\n",
        "        \"\"\"\n",
        "        super().__init__()\n",
        "        self.in_features = in_features\n",
        "        self.out_features = out_features\n",
        "        self.bias = bias\n",
        "\n",
        "        sf = 1 / np.sqrt(in_features)\n",
        "\n",
        "        weight = sf * (2 * t.rand(out_features, in_features) - 1)\n",
        "        self.weight = nn.Parameter(weight)\n",
        "\n",
        "        if bias:\n",
        "            bias = sf * (2 * t.rand(out_features) - 1)\n",
        "            self.bias = nn.Parameter(bias)\n",
        "        else:\n",
        "            self.bias = None\n",
        "\n",
        "    def forward(self, x: Tensor) -> Tensor:\n",
        "        \"\"\"\n",
        "        x: shape (*, in_features)\n",
        "        Return: shape (*, out_features)\n",
        "        \"\"\"\n",
        "        x = einops.einsum(x, self.weight, \"... in_feats, out_feats in_feats -> ... out_feats\")\n",
        "        if self.bias is not None:\n",
        "            x += self.bias\n",
        "        return x\n",
        "\n",
        "    def extra_repr(self) -> str:\n",
        "        # note, we need to use `self.bias is not None`, because `self.bias` is either a tensor or None, not bool\n",
        "        return f\"in_features={self.in_features}, out_features={self.out_features}, bias={self.bias is not None}\"\n",
        "```\n",
        "</details>"
      ]
    },
    {
      "cell_type": "markdown",
      "metadata": {
        "id": "RhQwNQY2BLIa"
      },
      "source": [
        "## Flatten\n",
        "\n",
        "Lastly, we've given you the `Flatten` module rather than including it as an exercise (because it's simple but quite finnicky to implement). This is a standardised way to rearrange our tensors so that they can be fed into a linear layer. It's a bit like `einops.rearrange`, but more specialised and less flexible (it flattens over some contiguous range of dimensions, rather than allowing for general reshape operations). By default we use `Flatten(start_dim=1, end_dim=-1)` which means flattening over the dimensions from `input.shape[1:]`, in other words over all except the batch dimension.\n",
        "\n",
        "Make sure you understand what this module is doing before moving on.\n",
        "\n",
        "<!-- <details>\n",
        "<summary>Help - I can't figure out what shape the output should be in Flatten.</summary>\n",
        "\n",
        "If `input.shape = (n0, n1, ..., nk)`, and the `Flatten` module has `start_dim=i, end_dim=j`, then the new shape should be `(n0, n1, ..., ni*...*nj, ..., nk)`. This is because we're **flattening** over the dimensions `(ni, ..., nj)`.\n",
        "\n",
        "</details>\n",
        "\n",
        "<details>\n",
        "<summary>Help - I can't see why my Flatten module is failing the tests.</summary>\n",
        "\n",
        "The most common reason is failing to correctly handle indices. Make sure that:\n",
        "* You're indexing up to **and including** `end_dim`.\n",
        "* You're correctly managing the times when `end_dim` is negative (e.g. if `input` is an nD tensor, and `end_dim=-1`, this should be interpreted as `end_dim=n-1`).\n",
        "</details> -->"
      ]
    },
    {
      "cell_type": "code",
      "execution_count": 5,
      "metadata": {
        "id": "O7m39jg5BLIb"
      },
      "outputs": [],
      "source": [
        "class Flatten(nn.Module):\n",
        "    def __init__(self, start_dim: int = 1, end_dim: int = -1) -> None:\n",
        "        super().__init__()\n",
        "        self.start_dim = start_dim\n",
        "        self.end_dim = end_dim\n",
        "\n",
        "    def forward(self, input: Tensor) -> Tensor:\n",
        "        \"\"\"\n",
        "        Flatten out dimensions from start_dim to end_dim, inclusive of both.\n",
        "        \"\"\"\n",
        "        shape = input.shape\n",
        "\n",
        "        # Get start & end dims, handling negative indexing for end dim\n",
        "        start_dim = self.start_dim\n",
        "        end_dim = self.end_dim if self.end_dim >= 0 else len(shape) + self.end_dim\n",
        "\n",
        "        # Get the shapes to the left / right of flattened dims, as well as the size of the flattened middle\n",
        "        shape_left = shape[:start_dim]\n",
        "        shape_right = shape[end_dim + 1 :]\n",
        "        shape_middle = t.prod(t.tensor(shape[start_dim : end_dim + 1])).item()\n",
        "\n",
        "        return t.reshape(input, shape_left + (shape_middle,) + shape_right)\n",
        "\n",
        "    def extra_repr(self) -> str:\n",
        "        return \", \".join([f\"{key}={getattr(self, key)}\" for key in [\"start_dim\", \"end_dim\"]])"
      ]
    },
    {
      "cell_type": "markdown",
      "metadata": {
        "id": "jTNFj7q7BLIb"
      },
      "source": [
        "## Simple Multi-Layer Perceptron\n",
        "\n",
        "Now, we can put together these two modules to create a neural network. We'll create one of the simplest networks which can be used to separate data that is non-linearly separable: a single linear layer, followed by a nonlinear function (ReLU), followed by another linear layer. This type of architecture (alternating linear layers and nonlinear functions) is often called a **multi-layer perceptron** (MLP).\n",
        "\n",
        "The output of this network will have 10 dimensions, corresponding to the 10 classes of MNIST digits. We can then use the **softmax function** $x_i \\to \\frac{e^{x_i}}{\\sum_i e^{x_i}}$ to turn these values into probabilities. However, it's common practice for the output of a neural network to be the values before we take softmax, rather than after. We call these pre-softmax values the **logits**.\n",
        "\n",
        "<details>\n",
        "<summary>Question - can you see what makes logits non-unique (i.e. why any given set of probabilities might correspond to several different possible sets of logits)?</summary>\n",
        "\n",
        "Logits are **translation invariant**. If you add some constant $c$ to all logits $x_i$, then the new probabilities are:\n",
        "\n",
        "$$\n",
        "p_i' = \\frac{e^{x_i + c}}{\\sum_j e^{x_j + c}} = \\frac{e^{x_i}}{\\sum_j e^{x_j}} = p_i\n",
        "$$\n",
        "\n",
        "in other words, the probabilities don't change.\n",
        "\n",
        "We can define **logprobs** as the log of the probabilities, i.e. $y_i = \\log p_i$. Unlike logits, these are uniquely defined.\n",
        "\n",
        "</details>"
      ]
    },
    {
      "cell_type": "markdown",
      "metadata": {
        "id": "iLXUB3W4BLIc"
      },
      "source": [
        "### Exercise - implement the simple MLP\n",
        "\n",
        "> ```yaml\n",
        "> Difficulty: 🔴🔴🔴⚪⚪\n",
        "> Importance: 🔵🔵🔵🔵⚪\n",
        ">\n",
        "> You should spend up to ~20 minutes on this exercise.\n",
        "> ```\n",
        "\n",
        "The diagram below shows what your MLP should look like:\n",
        "\n",
        "<img src=\"https://raw.githubusercontent.com/info-arena/ARENA_img/main/misc/mlp-mermaid.svg\" width=\"170\">\n",
        "\n",
        "Please ask a TA (or message the Slack group) if any part of this diagram is unclear."
      ]
    },
    {
      "cell_type": "code",
      "execution_count": 6,
      "metadata": {
        "id": "fYQIK3sWBLId",
        "colab": {
          "base_uri": "https://localhost:8080/"
        },
        "outputId": "3ad09f08-2ca4-411d-ff7a-6da3bd431ff7"
      },
      "outputs": [
        {
          "output_type": "stream",
          "name": "stdout",
          "text": [
            "All tests in `test_mlp_module` passed!\n",
            "All tests in `test_mlp_forward` passed!\n"
          ]
        }
      ],
      "source": [
        "class SimpleMLP(nn.Module):\n",
        "    def __init__(self):\n",
        "        super().__init__()\n",
        "        # Init using the fcns we created. normally I would do nn.<ModuleName>\n",
        "        self.flatten = Flatten()\n",
        "        self.linear1 = Linear(in_features=28 * 28, out_features=100)\n",
        "        self.relu = ReLU()\n",
        "        self.linear2 = Linear(in_features=100, out_features=10)\n",
        "\n",
        "    def forward(self, x: Tensor) -> Tensor:\n",
        "        # You can just compose the layers in reverse order.\n",
        "        return self.linear2(self.relu(self.linear1(self.flatten(x))))\n",
        "\n",
        "\n",
        "tests.test_mlp_module(SimpleMLP)\n",
        "tests.test_mlp_forward(SimpleMLP)"
      ]
    },
    {
      "cell_type": "markdown",
      "metadata": {
        "id": "keLb_PdpBLIe"
      },
      "source": [
        "<details><summary>Solution</summary>\n",
        "\n",
        "```python\n",
        "class SimpleMLP(nn.Module):\n",
        "    def __init__(self):\n",
        "        super().__init__()\n",
        "        self.flatten = Flatten()\n",
        "        self.linear1 = Linear(in_features=28 * 28, out_features=100)\n",
        "        self.relu = ReLU()\n",
        "        self.linear2 = Linear(in_features=100, out_features=10)\n",
        "\n",
        "    def forward(self, x: Tensor) -> Tensor:\n",
        "        return self.linear2(self.relu(self.linear1(self.flatten(x))))\n",
        "```\n",
        "</details>"
      ]
    },
    {
      "cell_type": "markdown",
      "metadata": {
        "id": "b-2m42UuBLIe"
      },
      "source": [
        "In the next section, we'll learn how to train and evaluate our model on real data."
      ]
    },
    {
      "cell_type": "markdown",
      "metadata": {
        "id": "-QjrgA2QBLIf"
      },
      "source": [
        "# 2️⃣ Training Neural Networks\n",
        "\n",
        "> ##### Learning Objectives\n",
        ">\n",
        "> - Understand how to work with transforms, datasets and dataloaders\n",
        "> - Understand the basic structure of a training loop\n",
        "> - Learn how to write your own validation loop"
      ]
    },
    {
      "cell_type": "markdown",
      "metadata": {
        "id": "FSYNtqoXBLIf"
      },
      "source": [
        "## Transforms, Datasets & DataLoaders\n",
        "\n",
        "Before we use this model to make any predictions, we first need to think about our input data. Below is a block of code to fetch and process MNIST data. We will go through it line by line."
      ]
    },
    {
      "cell_type": "code",
      "execution_count": 7,
      "metadata": {
        "id": "7JLa88wMBLIg",
        "colab": {
          "base_uri": "https://localhost:8080/"
        },
        "outputId": "e72c87bd-993f-4e0a-89a7-679142760073"
      },
      "outputs": [
        {
          "output_type": "stream",
          "name": "stdout",
          "text": [
            "Downloading http://yann.lecun.com/exdb/mnist/train-images-idx3-ubyte.gz\n",
            "Failed to download (trying next):\n",
            "HTTP Error 404: Not Found\n",
            "\n",
            "Downloading https://ossci-datasets.s3.amazonaws.com/mnist/train-images-idx3-ubyte.gz\n",
            "Downloading https://ossci-datasets.s3.amazonaws.com/mnist/train-images-idx3-ubyte.gz to /content/chapter0_fundamentals/exercises/data/MNIST/raw/train-images-idx3-ubyte.gz\n"
          ]
        },
        {
          "output_type": "stream",
          "name": "stderr",
          "text": [
            "100%|██████████| 9.91M/9.91M [00:01<00:00, 5.26MB/s]\n"
          ]
        },
        {
          "output_type": "stream",
          "name": "stdout",
          "text": [
            "Extracting /content/chapter0_fundamentals/exercises/data/MNIST/raw/train-images-idx3-ubyte.gz to /content/chapter0_fundamentals/exercises/data/MNIST/raw\n",
            "\n",
            "Downloading http://yann.lecun.com/exdb/mnist/train-labels-idx1-ubyte.gz\n",
            "Failed to download (trying next):\n",
            "HTTP Error 404: Not Found\n",
            "\n",
            "Downloading https://ossci-datasets.s3.amazonaws.com/mnist/train-labels-idx1-ubyte.gz\n",
            "Downloading https://ossci-datasets.s3.amazonaws.com/mnist/train-labels-idx1-ubyte.gz to /content/chapter0_fundamentals/exercises/data/MNIST/raw/train-labels-idx1-ubyte.gz\n"
          ]
        },
        {
          "output_type": "stream",
          "name": "stderr",
          "text": [
            "100%|██████████| 28.9k/28.9k [00:00<00:00, 150kB/s]\n"
          ]
        },
        {
          "output_type": "stream",
          "name": "stdout",
          "text": [
            "Extracting /content/chapter0_fundamentals/exercises/data/MNIST/raw/train-labels-idx1-ubyte.gz to /content/chapter0_fundamentals/exercises/data/MNIST/raw\n",
            "\n",
            "Downloading http://yann.lecun.com/exdb/mnist/t10k-images-idx3-ubyte.gz\n",
            "Failed to download (trying next):\n",
            "HTTP Error 404: Not Found\n",
            "\n",
            "Downloading https://ossci-datasets.s3.amazonaws.com/mnist/t10k-images-idx3-ubyte.gz\n",
            "Downloading https://ossci-datasets.s3.amazonaws.com/mnist/t10k-images-idx3-ubyte.gz to /content/chapter0_fundamentals/exercises/data/MNIST/raw/t10k-images-idx3-ubyte.gz\n"
          ]
        },
        {
          "output_type": "stream",
          "name": "stderr",
          "text": [
            "100%|██████████| 1.65M/1.65M [00:01<00:00, 1.45MB/s]\n"
          ]
        },
        {
          "output_type": "stream",
          "name": "stdout",
          "text": [
            "Extracting /content/chapter0_fundamentals/exercises/data/MNIST/raw/t10k-images-idx3-ubyte.gz to /content/chapter0_fundamentals/exercises/data/MNIST/raw\n",
            "\n",
            "Downloading http://yann.lecun.com/exdb/mnist/t10k-labels-idx1-ubyte.gz\n",
            "Failed to download (trying next):\n",
            "HTTP Error 404: Not Found\n",
            "\n",
            "Downloading https://ossci-datasets.s3.amazonaws.com/mnist/t10k-labels-idx1-ubyte.gz\n",
            "Downloading https://ossci-datasets.s3.amazonaws.com/mnist/t10k-labels-idx1-ubyte.gz to /content/chapter0_fundamentals/exercises/data/MNIST/raw/t10k-labels-idx1-ubyte.gz\n"
          ]
        },
        {
          "output_type": "stream",
          "name": "stderr",
          "text": [
            "100%|██████████| 4.54k/4.54k [00:00<00:00, 8.69MB/s]\n"
          ]
        },
        {
          "output_type": "stream",
          "name": "stdout",
          "text": [
            "Extracting /content/chapter0_fundamentals/exercises/data/MNIST/raw/t10k-labels-idx1-ubyte.gz to /content/chapter0_fundamentals/exercises/data/MNIST/raw\n",
            "\n",
            "img_batch.shape=torch.Size([64, 1, 28, 28])\n",
            "label_batch.shape=torch.Size([64])\n",
            "\n",
            "img.shape=torch.Size([1, 28, 28])\n",
            "label=7\n",
            "\n"
          ]
        }
      ],
      "source": [
        "MNIST_TRANSFORM = transforms.Compose(\n",
        "    [\n",
        "        transforms.ToTensor(),\n",
        "        transforms.Normalize(0.1307, 0.3081),\n",
        "    ]\n",
        ")\n",
        "\n",
        "\n",
        "def get_mnist(trainset_size: int = 10_000, testset_size: int = 1_000) -> tuple[Subset, Subset]:\n",
        "    \"\"\"Returns a subset of MNIST training data.\"\"\"\n",
        "\n",
        "    # Get original datasets, which are downloaded to \"chapter0_fundamentals/exercises/data\" for future use\n",
        "    mnist_trainset = datasets.MNIST(exercises_dir / \"data\", train=True, download=True, transform=MNIST_TRANSFORM)\n",
        "    mnist_testset = datasets.MNIST(exercises_dir / \"data\", train=False, download=True, transform=MNIST_TRANSFORM)\n",
        "\n",
        "    # # Return a subset of the original datasets\n",
        "    mnist_trainset = Subset(mnist_trainset, indices=range(trainset_size))\n",
        "    mnist_testset = Subset(mnist_testset, indices=range(testset_size))\n",
        "\n",
        "    return mnist_trainset, mnist_testset\n",
        "\n",
        "\n",
        "mnist_trainset, mnist_testset = get_mnist()\n",
        "mnist_trainloader = DataLoader(mnist_trainset, batch_size=64, shuffle=True)\n",
        "mnist_testloader = DataLoader(mnist_testset, batch_size=64, shuffle=False)\n",
        "\n",
        "# Get the first batch of test data, by starting to iterate over `mnist_testloader`\n",
        "for img_batch, label_batch in mnist_testloader:\n",
        "    print(f\"{img_batch.shape=}\\n{label_batch.shape=}\\n\")\n",
        "    break\n",
        "\n",
        "# Get the first datapoint in the test set, by starting to iterate over `mnist_testset`\n",
        "for img, label in mnist_testset:\n",
        "    print(f\"{img.shape=}\\n{label=}\\n\")\n",
        "    break\n",
        "\n",
        "t.testing.assert_close(img, img_batch[0])\n",
        "assert label == label_batch[0].item()"
      ]
    },
    {
      "cell_type": "markdown",
      "metadata": {
        "id": "BdRBjecqBLIh"
      },
      "source": [
        "The `torchvision` package consists of popular datasets, model architectures, and common image transformations for computer vision, and `torchvision.transforms` provides access to a suite of functions for preprocessing data. We define a transform for the MNIST data (which is applied to each image in the dataset) by composing `ToTensor` (which converts a `PIL.Image` object into a PyTorch tensor) and `Normalize` (which takes arguments for the mean and standard deviation, and performs the linear transformation `x -> (x - mean) / std`). For the latter, we use `0.1307` and `0.3081` which are the empirical mean & std of the raw data (so after this transformation, the data will have mean 0 and variance 1).\n",
        "\n",
        "Next, we define our datasets using `torchvision.datasets`. The first argument tells us where to save our data to (so that when we run this in the future we won't have to re-save it), and `transform=MNIST_TRANSFORM` tells us that we should apply our previously defined `transform` to each element in our dataset. We also use `Subset` which allows us to return a slice of the dataset rather than the whole thing (because our model won't need much data to train!).\n",
        "\n",
        "Finally, since our dataset only allows for iteration over individual datapoints, we wrap it in `DataLoader` which enables iteration over **batches**. It also provides useful arguments like `shuffle`, which determine whether we randomize the order after each epoch. The code above demonstrates iteration over the dataset & dataloader respectively, showing how the first element in the dataloader's first batch equals the first element in the dataset (note that this wouldn't be true for the training set, because we've shuffled it).\n",
        "\n",
        "<details>\n",
        "<summary>Aside - why batch sizes are often powers of 2</summary>\n",
        "\n",
        "It's common to see batch sizes which are powers of two. The motivation is for efficient GPU utilisation, since processor architectures are normally organised around powers of 2, and computational efficiency is often increased by having the items in each batch split across processors. Or at least, that's the idea. The truth is a bit more complicated, and some studies dispute whether it actually saves time, so at this point it's more of a standard convention than a hard rule which will always lead to more efficient training.\n",
        "\n",
        "</details>"
      ]
    },
    {
      "cell_type": "markdown",
      "metadata": {
        "id": "liT7ZEp7BLIh"
      },
      "source": [
        "Before proceeding, try and answer the following questions:\n",
        "\n",
        "\n",
        "<details>\n",
        "<summary>Question - can you explain why we include a data normalization function in <code>torchvision.transforms</code> ?</summary>\n",
        "\n",
        "One consequence of unnormalized data is that you might find yourself stuck in a very flat region of the domain, and gradient descent may take much longer to converge.\n",
        "\n",
        "Normalization isn't strictly necessary for this reason, because any rescaling of an input vector can be effectively undone by the network learning different weights and biases. But in practice, it does usually help speed up convergence.\n",
        "\n",
        "Normalization also helps avoid numerical issues.\n",
        "</details>\n",
        "\n",
        "<details>\n",
        "<summary>Question - what is the benefit of using <code>shuffle=True</code> when defining our dataloaders? What might the problem be if we didn't do this?</summary>\n",
        "\n",
        "Shuffling is done during the training to make sure we aren't exposing our model to the same cycle (order) of data in every epoch. It is basically done to ensure the model isn't adapting its learning to any kind of spurious pattern.\n",
        "</details>"
      ]
    },
    {
      "cell_type": "markdown",
      "metadata": {
        "id": "ugM1ZbtjBLIi"
      },
      "source": [
        "### Aside - `tqdm`\n",
        "\n",
        "You might have seen some blue progress bars running when you first downloaded your MNIST data. These were generated using a library called `tqdm`, which is also a really useful tool when training models or running any process that takes a long period of time.\n",
        "\n",
        "The `tqdm` function wraps around an iterable, and displays a progress bar as you iterate through it. The code below shows a minimal example:\n",
        "\n",
        "```python\n",
        "from tqdm.notebook import tqdm\n",
        "import time\n",
        "\n",
        "for i in tqdm(range(100)):\n",
        "    time.sleep(0.1)\n",
        "```\n",
        "\n",
        "There are some more advanced features of `tqdm` too, for example:\n",
        "\n",
        "- If you define the progress bar `pbar = tqdm(...)` before your iteration, then you have the option of adding extra information to it using `pbar.set_description` or `pbar.set_postfix`\n",
        "- You can specify the total number of iterations with `tqdm(iterable, total=...)`; this is actually very important when the iterable is something like `enumerate(...)` which doesn't have a length attribute, since tqdm will usually try and infer the total from calling `len` on the iterable you pass it.\n",
        "\n",
        "Here's some code that demonstrates these extra features:\n",
        "\n",
        "```python\n",
        "word = \"hello!\"\n",
        "pbar = tqdm(enumerate(word), total=len(word))\n",
        "t0 = time.time()\n",
        "\n",
        "for i, letter in pbar:\n",
        "    time.sleep(1.0)\n",
        "    pbar.set_postfix(i=i, letter=letter, time=f\"{time.time()-t0:.3f}\")\n",
        "```"
      ]
    },
    {
      "cell_type": "markdown",
      "metadata": {
        "id": "1w5SI4DPBLIi"
      },
      "source": [
        "### Aside - `device`\n",
        "\n",
        "One last thing to discuss before we move onto training our model: **GPUs**. We'll discuss this in more detail in later exercises. For now, [this page](https://wandb.ai/wandb/common-ml-errors/reports/How-To-Use-GPU-with-PyTorch---VmlldzozMzAxMDk) should provide a basic overview of how to use your GPU. A few things to be aware of here:\n",
        "\n",
        "* The `to` method is really useful here - it can move objects between different devices (i.e. CPU and GPU) *as well as* changing a tensor's datatype.\n",
        "    * Note that `to` is never inplace for tensors (i.e. you have to call `x = x.to(device)`), but when working with models, calling `model = model.to(device)` or `model.to(device)` are both perfectly valid.\n",
        "* Errors from having one tensor on cpu and another on cuda are very common. Some useful practices to avoid this:\n",
        "    * Throw in assert statements, to make sure tensors are on the same device\n",
        "    * Remember that when you initialise an array (e.g. with `t.zeros` or `t.arange`), it will be on CPU by default.\n",
        "    * Tensor methods like [`new_zeros`](https://pytorch.org/docs/stable/generated/torch.Tensor.new_zeros.html) or [`new_full`](https://pytorch.org/docs/stable/generated/torch.Tensor.new_full.html) are useful, because they'll create tensors which match the device and dtype of the base tensor.\n",
        "\n",
        "It's common practice to put a line like this at the top of your file, defining a global variable which you can use in subsequent modules and functions (excluding the print statement):"
      ]
    },
    {
      "cell_type": "code",
      "execution_count": 8,
      "metadata": {
        "id": "gzpWrLBzBLIj",
        "colab": {
          "base_uri": "https://localhost:8080/"
        },
        "outputId": "62522c17-6f14-4827-df27-745d8786a914"
      },
      "outputs": [
        {
          "output_type": "stream",
          "name": "stdout",
          "text": [
            "cpu\n"
          ]
        }
      ],
      "source": [
        "device = t.device(\"mps\" if t.backends.mps.is_available() else \"cuda\" if t.cuda.is_available() else \"cpu\")\n",
        "\n",
        "# If this is CPU, we recommend figuring out how to get cuda access (or MPS if you're on a Mac).\n",
        "print(device)"
      ]
    },
    {
      "cell_type": "markdown",
      "metadata": {
        "id": "ZQy0H-2DBLIk"
      },
      "source": [
        "## Training loop\n",
        "\n",
        "Below is a very simple training loop, which you can run to train your model.\n",
        "\n",
        "In later exercises, we'll try to **modularize** our training loops. This will involve things like creating a `Trainer` class which wraps around our model, and giving it methods like `training_step` and `validation_step` which correspond to different parts of the training loop. This will make it easier to add features like logging and validation, and will also make our code more readable and easier to refactor. However, for now we've kept things simple."
      ]
    },
    {
      "cell_type": "code",
      "execution_count": 9,
      "metadata": {
        "id": "TTN8WBBsBLI0",
        "colab": {
          "base_uri": "https://localhost:8080/",
          "height": 113,
          "referenced_widgets": [
            "3281f5641b254dab84a36ed19933440c",
            "4bf96abc102c4664a1d8f7f21810b219",
            "d9156503f2aa435195537142dd060b35",
            "2b966fe5c889494fa493faabfe292727",
            "dfbd92d0697d422aac1b143277e2ca29",
            "87031a51d9e04fadbcead2bfe6df3352",
            "aa3f7bccb45a4e5a8a3125bf6fc5600d",
            "f925b0bfda5745a989a1cffbd352a243",
            "00edba2bc1a44a98b10568abdb386bda",
            "f6411d000643413db837092a24333e98",
            "9d200dbec0b04d8bae00eca157d4c3e0",
            "8f6805daa743447c944eb857bc28ceb1",
            "0d6a45c4b88f4dea924be88506f519f9",
            "027a19fb65c2478f842f9dd7b87c279e",
            "b0b67f3556904e1a8099d920813f5bba",
            "bd2ee774fa5c4bfaae23dec01802f5f5",
            "4237c74ee0584484b786223f4039fb1e",
            "062cf8c7768842a3aaf4280f6817e104",
            "1e9153a86a2f4d61ad18b36c2c80d53c",
            "b15c9768ad7a4ef380e7679cdb51a85d",
            "48b072f9b6cd42feaa849d1442db51b5",
            "20fa04ab09bd4aa1b40fc54ee7e2e640",
            "8d0aefb3ea594f6382f044b467c03b8c",
            "b32f9c4dfab94af19cc6d9092dc70613",
            "9b3d48bb97734c3a94b22e44d6b05d50",
            "eb0b0a49eef34c34ae731df7c6dbca09",
            "725f0fde7848439ea02304bdc9fc944a",
            "16c442fc06f74a9b8980c281921e2bf4",
            "54b7ebfcb1b6417aab0bacdca8abb9ae",
            "c0c7c1752288445e8490de4bf51fab1d",
            "5b70120e7d594e17b9e292dbfb79b6ae",
            "154d8ce376884fefa6b45fdd1634ffcb",
            "d88fca7fe41d4863800b964ca9727c91"
          ]
        },
        "outputId": "40ea5ca0-e307-4853-b857-9c53c981b94d"
      },
      "outputs": [
        {
          "output_type": "display_data",
          "data": {
            "text/plain": [
              "  0%|          | 0/79 [00:00<?, ?it/s]"
            ],
            "application/vnd.jupyter.widget-view+json": {
              "version_major": 2,
              "version_minor": 0,
              "model_id": "3281f5641b254dab84a36ed19933440c"
            }
          },
          "metadata": {}
        },
        {
          "output_type": "display_data",
          "data": {
            "text/plain": [
              "  0%|          | 0/79 [00:00<?, ?it/s]"
            ],
            "application/vnd.jupyter.widget-view+json": {
              "version_major": 2,
              "version_minor": 0,
              "model_id": "8f6805daa743447c944eb857bc28ceb1"
            }
          },
          "metadata": {}
        },
        {
          "output_type": "display_data",
          "data": {
            "text/plain": [
              "  0%|          | 0/79 [00:00<?, ?it/s]"
            ],
            "application/vnd.jupyter.widget-view+json": {
              "version_major": 2,
              "version_minor": 0,
              "model_id": "8d0aefb3ea594f6382f044b467c03b8c"
            }
          },
          "metadata": {}
        }
      ],
      "source": [
        "model = SimpleMLP().to(device)\n",
        "\n",
        "batch_size = 128\n",
        "epochs = 3\n",
        "\n",
        "mnist_trainset, _ = get_mnist()\n",
        "mnist_trainloader = DataLoader(mnist_trainset, batch_size=batch_size, shuffle=True)\n",
        "\n",
        "optimizer = t.optim.Adam(model.parameters(), lr=1e-3)\n",
        "loss_list = []\n",
        "\n",
        "for epoch in range(epochs):\n",
        "    pbar = tqdm(mnist_trainloader)\n",
        "\n",
        "    for imgs, labels in pbar:\n",
        "        # Move data to device, perform forward pass\n",
        "        imgs, labels = imgs.to(device), labels.to(device)\n",
        "        logits = model(imgs)\n",
        "\n",
        "        # Calculate loss, perform backward pass\n",
        "        loss = F.cross_entropy(logits, labels)\n",
        "        loss.backward()\n",
        "        optimizer.step()\n",
        "        optimizer.zero_grad()\n",
        "\n",
        "        # Update logs & progress bar\n",
        "        loss_list.append(loss.item())\n",
        "        pbar.set_postfix(epoch=f\"{epoch+1}/{epochs}\", loss=f\"{loss:.3f}\")"
      ]
    },
    {
      "cell_type": "code",
      "execution_count": 10,
      "metadata": {
        "id": "9miwekd5BLI1",
        "colab": {
          "base_uri": "https://localhost:8080/",
          "height": 542
        },
        "outputId": "6cc99d58-179f-4278-ac8d-8634412a29ef"
      },
      "outputs": [
        {
          "output_type": "display_data",
          "data": {
            "text/html": [
              "<html>\n",
              "<head><meta charset=\"utf-8\" /></head>\n",
              "<body>\n",
              "    <div>            <script src=\"https://cdnjs.cloudflare.com/ajax/libs/mathjax/2.7.5/MathJax.js?config=TeX-AMS-MML_SVG\"></script><script type=\"text/javascript\">if (window.MathJax && window.MathJax.Hub && window.MathJax.Hub.Config) {window.MathJax.Hub.Config({SVG: {font: \"STIX-Web\"}});}</script>                <script type=\"text/javascript\">window.PlotlyConfig = {MathJaxConfig: 'local'};</script>\n",
              "        <script charset=\"utf-8\" src=\"https://cdn.plot.ly/plotly-2.35.2.min.js\"></script>                <div id=\"4910d7b5-fed0-4ac0-96b3-f29fd3df493d\" class=\"plotly-graph-div\" style=\"height:525px; width:700px;\"></div>            <script type=\"text/javascript\">                                    window.PLOTLYENV=window.PLOTLYENV || {};                                    if (document.getElementById(\"4910d7b5-fed0-4ac0-96b3-f29fd3df493d\")) {                    Plotly.newPlot(                        \"4910d7b5-fed0-4ac0-96b3-f29fd3df493d\",                        [{\"hovertemplate\":\"Examples seen=%{x}\\u003cbr\\u003eCross entropy loss=%{y}\\u003cextra\\u003e\\u003c\\u002fextra\\u003e\",\"legendgroup\":\"\",\"line\":{\"color\":\"#636efa\",\"dash\":\"solid\"},\"marker\":{\"symbol\":\"circle\"},\"mode\":\"lines\",\"name\":\"\",\"orientation\":\"v\",\"showlegend\":false,\"x\":[0.0,127.11864406779661,254.23728813559322,381.35593220338984,508.47457627118644,635.5932203389831,762.7118644067797,889.8305084745763,1016.9491525423729,1144.0677966101696,1271.1864406779662,1398.3050847457628,1525.4237288135594,1652.542372881356,1779.6610169491526,1906.7796610169491,2033.8983050847457,2161.0169491525426,2288.135593220339,2415.2542372881358,2542.3728813559323,2669.491525423729,2796.6101694915255,2923.728813559322,3050.8474576271187,3177.9661016949153,3305.084745762712,3432.2033898305085,3559.322033898305,3686.4406779661017,3813.5593220338983,3940.677966101695,4067.7966101694915,4194.9152542372885,4322.033898305085,4449.152542372882,4576.271186440678,4703.389830508475,4830.5084745762715,4957.627118644068,5084.745762711865,5211.864406779661,5338.983050847458,5466.1016949152545,5593.220338983051,5720.338983050848,5847.457627118644,5974.576271186441,6101.6949152542375,6228.813559322034,6355.932203389831,6483.050847457627,6610.169491525424,6737.28813559322,6864.406779661017,6991.525423728814,7118.64406779661,7245.762711864407,7372.881355932203,7500.0,7627.118644067797,7754.237288135593,7881.35593220339,8008.474576271186,8135.593220338983,8262.71186440678,8389.830508474577,8516.949152542373,8644.06779661017,8771.186440677966,8898.305084745763,9025.42372881356,9152.542372881357,9279.661016949152,9406.77966101695,9533.898305084746,9661.016949152543,9788.135593220339,9915.254237288136,10042.372881355932,10169.49152542373,10296.610169491525,10423.728813559323,10550.847457627118,10677.966101694916,10805.084745762711,10932.203389830509,11059.322033898305,11186.440677966102,11313.559322033898,11440.677966101695,11567.796610169491,11694.915254237289,11822.033898305084,11949.152542372882,12076.271186440677,12203.389830508475,12330.50847457627,12457.627118644068,12584.745762711864,12711.864406779661,12838.983050847457,12966.101694915254,13093.22033898305,13220.338983050848,13347.457627118643,13474.57627118644,13601.694915254237,13728.813559322034,13855.93220338983,13983.050847457627,14110.169491525423,14237.28813559322,14364.406779661016,14491.525423728814,14618.64406779661,14745.762711864407,14872.881355932202,15000.0,15127.118644067796,15254.237288135593,15381.355932203389,15508.474576271186,15635.593220338982,15762.71186440678,15889.830508474575,16016.949152542373,16144.067796610168,16271.186440677966,16398.305084745763,16525.42372881356,16652.542372881355,16779.661016949154,16906.77966101695,17033.898305084746,17161.01694915254,17288.13559322034,17415.254237288136,17542.372881355932,17669.491525423728,17796.610169491527,17923.728813559323,18050.84745762712,18177.966101694914,18305.084745762713,18432.20338983051,18559.322033898305,18686.4406779661,18813.5593220339,18940.677966101695,19067.79661016949,19194.915254237287,19322.033898305086,19449.15254237288,19576.271186440677,19703.389830508473,19830.508474576272,19957.627118644068,20084.745762711864,20211.86440677966,20338.98305084746,20466.101694915254,20593.22033898305,20720.338983050846,20847.457627118645,20974.57627118644,21101.694915254237,21228.813559322032,21355.93220338983,21483.050847457627,21610.169491525423,21737.28813559322,21864.406779661018,21991.525423728814,22118.64406779661,22245.762711864405,22372.881355932204,22500.0,22627.118644067796,22754.23728813559,22881.35593220339,23008.474576271186,23135.593220338982,23262.711864406778,23389.830508474577,23516.949152542373,23644.06779661017,23771.186440677964,23898.305084745763,24025.42372881356,24152.542372881355,24279.66101694915,24406.77966101695,24533.898305084746,24661.01694915254,24788.13559322034,24915.254237288136,25042.372881355932,25169.491525423728,25296.610169491527,25423.728813559323,25550.84745762712,25677.966101694914,25805.084745762713,25932.20338983051,26059.322033898305,26186.4406779661,26313.5593220339,26440.677966101695,26567.79661016949,26694.915254237287,26822.033898305086,26949.15254237288,27076.271186440677,27203.389830508473,27330.508474576272,27457.627118644068,27584.745762711864,27711.86440677966,27838.98305084746,27966.101694915254,28093.22033898305,28220.338983050846,28347.457627118645,28474.57627118644,28601.694915254237,28728.813559322032,28855.93220338983,28983.050847457627,29110.169491525423,29237.28813559322,29364.406779661018,29491.525423728814,29618.64406779661,29745.762711864405,29872.881355932204,30000.0],\"xaxis\":\"x\",\"y\":[2.3025853633880615,2.302504777908325,2.302617073059082,2.3024330139160156,2.302978754043579,2.302201271057129,2.3022117614746094,2.302337884902954,2.3026299476623535,2.3023252487182617,2.302734851837158,2.302588939666748,2.302893877029419,2.3026862144470215,2.302072525024414,2.302730083465576,2.3026227951049805,2.3014514446258545,2.3027944564819336,2.302868127822876,2.3026607036590576,2.3026719093322754,2.3019888401031494,2.301798105239868,2.303079605102539,2.302154541015625,2.301731586456299,2.3030481338500977,2.3025190830230713,2.3033838272094727,2.301710367202759,2.301884651184082,2.3019330501556396,2.302659511566162,2.3022830486297607,2.301469326019287,2.3027663230895996,2.302187204360962,2.3021957874298096,2.3035738468170166,2.3020591735839844,2.301806926727295,2.3026280403137207,2.3014094829559326,2.301711320877075,2.303786039352417,2.300682544708252,2.3047385215759277,2.30019211769104,2.302194118499756,2.302011013031006,2.3009426593780518,2.3021295070648193,2.301201581954956,2.3027660846710205,2.3015971183776855,2.3047683238983154,2.302199125289917,2.30196475982666,2.302485942840576,2.303591012954712,2.30163311958313,2.3028132915496826,2.3017640113830566,2.302539587020874,2.30059814453125,2.3012678623199463,2.3013365268707275,2.2984423637390137,2.2992875576019287,2.3018603324890137,2.3023500442504883,2.3007700443267822,2.3027195930480957,2.300607681274414,2.3001413345336914,2.299828052520752,2.3025670051574707,2.297830104827881,2.3009393215179443,2.300402879714966,2.2988240718841553,2.302792549133301,2.302046298980713,2.3013288974761963,2.3011527061462402,2.300973415374756,2.302452564239502,2.2989003658294678,2.299732208251953,2.3021907806396484,2.3019421100616455,2.3023643493652344,2.3000357151031494,2.3036000728607178,2.3021750450134277,2.301265001296997,2.300473928451538,2.298475742340088,2.301443099975586,2.3007919788360596,2.3017578125,2.3020248413085938,2.3011152744293213,2.299849033355713,2.2976207733154297,2.302675485610962,2.3030617237091064,2.301149606704712,2.297987937927246,2.3043134212493896,2.2995309829711914,2.3028552532196045,2.2967402935028076,2.3019602298736572,2.3018882274627686,2.3033676147460938,2.3025481700897217,2.300074338912964,2.300898790359497,2.306518793106079,2.2988672256469727,2.2985925674438477,2.3053672313690186,2.3043622970581055,2.3011398315429688,2.3010363578796387,2.2992470264434814,2.3053393363952637,2.3019275665283203,2.300713062286377,2.300804853439331,2.304703712463379,2.2983713150024414,2.2978174686431885,2.3008229732513428,2.3012328147888184,2.3046820163726807,2.3017935752868652,2.3009040355682373,2.3035717010498047,2.301403284072876,2.3067033290863037,2.3052167892456055,2.2986135482788086,2.2983193397521973,2.3057217597961426,2.3028085231781006,2.302104949951172,2.3023641109466553,2.3013455867767334,2.302903890609741,2.3010945320129395,2.3011507987976074,2.296334981918335,2.3005666732788086,2.296868324279785,2.3000876903533936,2.300424098968506,2.3008856773376465,2.302478790283203,2.3001461029052734,2.2989206314086914,2.3014659881591797,2.301333427429199,2.2965004444122314,2.298499822616577,2.2995522022247314,2.2976043224334717,2.302384853363037,2.2980661392211914,2.3013579845428467,2.3034110069274902,2.3013875484466553,2.301628828048706,2.3056044578552246,2.295609712600708,2.3034636974334717,2.302769660949707,2.300039768218994,2.3020994663238525,2.3030741214752197,2.3016531467437744,2.300313711166382,2.3030409812927246,2.302057981491089,2.303004264831543,2.3007824420928955,2.300387144088745,2.3002796173095703,2.30375337600708,2.302781105041504,2.2982399463653564,2.303135871887207,2.299903631210327,2.2986574172973633,2.300368309020996,2.296499729156494,2.307284116744995,2.30187726020813,2.3036930561065674,2.3017079830169678,2.2986903190612793,2.300267219543457,2.2997937202453613,2.3001818656921387,2.3015432357788086,2.299302816390991,2.2973546981811523,2.300774335861206,2.2981719970703125,2.3050272464752197,2.302863121032715,2.295046329498291,2.3032729625701904,2.3019983768463135,2.298933744430542,2.2991790771484375,2.302154302597046,2.302992820739746,2.3019847869873047,2.30336594581604,2.3046069145202637,2.297410249710083,2.3014485836029053,2.3051445484161377,2.292355537414551,2.294218063354492,2.302985906600952,2.3001465797424316,2.3035762310028076,2.3056304454803467,2.2955870628356934,2.306702136993408,2.3064866065979004,2.297708034515381,2.2938132286071777],\"yaxis\":\"y\",\"type\":\"scatter\"}],                        {\"template\":{\"data\":{\"histogram2dcontour\":[{\"type\":\"histogram2dcontour\",\"colorbar\":{\"outlinewidth\":0,\"ticks\":\"\"},\"colorscale\":[[0.0,\"#0d0887\"],[0.1111111111111111,\"#46039f\"],[0.2222222222222222,\"#7201a8\"],[0.3333333333333333,\"#9c179e\"],[0.4444444444444444,\"#bd3786\"],[0.5555555555555556,\"#d8576b\"],[0.6666666666666666,\"#ed7953\"],[0.7777777777777778,\"#fb9f3a\"],[0.8888888888888888,\"#fdca26\"],[1.0,\"#f0f921\"]]}],\"choropleth\":[{\"type\":\"choropleth\",\"colorbar\":{\"outlinewidth\":0,\"ticks\":\"\"}}],\"histogram2d\":[{\"type\":\"histogram2d\",\"colorbar\":{\"outlinewidth\":0,\"ticks\":\"\"},\"colorscale\":[[0.0,\"#0d0887\"],[0.1111111111111111,\"#46039f\"],[0.2222222222222222,\"#7201a8\"],[0.3333333333333333,\"#9c179e\"],[0.4444444444444444,\"#bd3786\"],[0.5555555555555556,\"#d8576b\"],[0.6666666666666666,\"#ed7953\"],[0.7777777777777778,\"#fb9f3a\"],[0.8888888888888888,\"#fdca26\"],[1.0,\"#f0f921\"]]}],\"heatmap\":[{\"type\":\"heatmap\",\"colorbar\":{\"outlinewidth\":0,\"ticks\":\"\"},\"colorscale\":[[0.0,\"#0d0887\"],[0.1111111111111111,\"#46039f\"],[0.2222222222222222,\"#7201a8\"],[0.3333333333333333,\"#9c179e\"],[0.4444444444444444,\"#bd3786\"],[0.5555555555555556,\"#d8576b\"],[0.6666666666666666,\"#ed7953\"],[0.7777777777777778,\"#fb9f3a\"],[0.8888888888888888,\"#fdca26\"],[1.0,\"#f0f921\"]]}],\"heatmapgl\":[{\"type\":\"heatmapgl\",\"colorbar\":{\"outlinewidth\":0,\"ticks\":\"\"},\"colorscale\":[[0.0,\"#0d0887\"],[0.1111111111111111,\"#46039f\"],[0.2222222222222222,\"#7201a8\"],[0.3333333333333333,\"#9c179e\"],[0.4444444444444444,\"#bd3786\"],[0.5555555555555556,\"#d8576b\"],[0.6666666666666666,\"#ed7953\"],[0.7777777777777778,\"#fb9f3a\"],[0.8888888888888888,\"#fdca26\"],[1.0,\"#f0f921\"]]}],\"contourcarpet\":[{\"type\":\"contourcarpet\",\"colorbar\":{\"outlinewidth\":0,\"ticks\":\"\"}}],\"contour\":[{\"type\":\"contour\",\"colorbar\":{\"outlinewidth\":0,\"ticks\":\"\"},\"colorscale\":[[0.0,\"#0d0887\"],[0.1111111111111111,\"#46039f\"],[0.2222222222222222,\"#7201a8\"],[0.3333333333333333,\"#9c179e\"],[0.4444444444444444,\"#bd3786\"],[0.5555555555555556,\"#d8576b\"],[0.6666666666666666,\"#ed7953\"],[0.7777777777777778,\"#fb9f3a\"],[0.8888888888888888,\"#fdca26\"],[1.0,\"#f0f921\"]]}],\"surface\":[{\"type\":\"surface\",\"colorbar\":{\"outlinewidth\":0,\"ticks\":\"\"},\"colorscale\":[[0.0,\"#0d0887\"],[0.1111111111111111,\"#46039f\"],[0.2222222222222222,\"#7201a8\"],[0.3333333333333333,\"#9c179e\"],[0.4444444444444444,\"#bd3786\"],[0.5555555555555556,\"#d8576b\"],[0.6666666666666666,\"#ed7953\"],[0.7777777777777778,\"#fb9f3a\"],[0.8888888888888888,\"#fdca26\"],[1.0,\"#f0f921\"]]}],\"mesh3d\":[{\"type\":\"mesh3d\",\"colorbar\":{\"outlinewidth\":0,\"ticks\":\"\"}}],\"scatter\":[{\"fillpattern\":{\"fillmode\":\"overlay\",\"size\":10,\"solidity\":0.2},\"type\":\"scatter\"}],\"parcoords\":[{\"type\":\"parcoords\",\"line\":{\"colorbar\":{\"outlinewidth\":0,\"ticks\":\"\"}}}],\"scatterpolargl\":[{\"type\":\"scatterpolargl\",\"marker\":{\"colorbar\":{\"outlinewidth\":0,\"ticks\":\"\"}}}],\"bar\":[{\"error_x\":{\"color\":\"#2a3f5f\"},\"error_y\":{\"color\":\"#2a3f5f\"},\"marker\":{\"line\":{\"color\":\"#E5ECF6\",\"width\":0.5},\"pattern\":{\"fillmode\":\"overlay\",\"size\":10,\"solidity\":0.2}},\"type\":\"bar\"}],\"scattergeo\":[{\"type\":\"scattergeo\",\"marker\":{\"colorbar\":{\"outlinewidth\":0,\"ticks\":\"\"}}}],\"scatterpolar\":[{\"type\":\"scatterpolar\",\"marker\":{\"colorbar\":{\"outlinewidth\":0,\"ticks\":\"\"}}}],\"histogram\":[{\"marker\":{\"pattern\":{\"fillmode\":\"overlay\",\"size\":10,\"solidity\":0.2}},\"type\":\"histogram\"}],\"scattergl\":[{\"type\":\"scattergl\",\"marker\":{\"colorbar\":{\"outlinewidth\":0,\"ticks\":\"\"}}}],\"scatter3d\":[{\"type\":\"scatter3d\",\"line\":{\"colorbar\":{\"outlinewidth\":0,\"ticks\":\"\"}},\"marker\":{\"colorbar\":{\"outlinewidth\":0,\"ticks\":\"\"}}}],\"scattermapbox\":[{\"type\":\"scattermapbox\",\"marker\":{\"colorbar\":{\"outlinewidth\":0,\"ticks\":\"\"}}}],\"scatterternary\":[{\"type\":\"scatterternary\",\"marker\":{\"colorbar\":{\"outlinewidth\":0,\"ticks\":\"\"}}}],\"scattercarpet\":[{\"type\":\"scattercarpet\",\"marker\":{\"colorbar\":{\"outlinewidth\":0,\"ticks\":\"\"}}}],\"carpet\":[{\"aaxis\":{\"endlinecolor\":\"#2a3f5f\",\"gridcolor\":\"white\",\"linecolor\":\"white\",\"minorgridcolor\":\"white\",\"startlinecolor\":\"#2a3f5f\"},\"baxis\":{\"endlinecolor\":\"#2a3f5f\",\"gridcolor\":\"white\",\"linecolor\":\"white\",\"minorgridcolor\":\"white\",\"startlinecolor\":\"#2a3f5f\"},\"type\":\"carpet\"}],\"table\":[{\"cells\":{\"fill\":{\"color\":\"#EBF0F8\"},\"line\":{\"color\":\"white\"}},\"header\":{\"fill\":{\"color\":\"#C8D4E3\"},\"line\":{\"color\":\"white\"}},\"type\":\"table\"}],\"barpolar\":[{\"marker\":{\"line\":{\"color\":\"#E5ECF6\",\"width\":0.5},\"pattern\":{\"fillmode\":\"overlay\",\"size\":10,\"solidity\":0.2}},\"type\":\"barpolar\"}],\"pie\":[{\"automargin\":true,\"type\":\"pie\"}]},\"layout\":{\"autotypenumbers\":\"strict\",\"colorway\":[\"#636efa\",\"#EF553B\",\"#00cc96\",\"#ab63fa\",\"#FFA15A\",\"#19d3f3\",\"#FF6692\",\"#B6E880\",\"#FF97FF\",\"#FECB52\"],\"font\":{\"color\":\"#2a3f5f\"},\"hovermode\":\"closest\",\"hoverlabel\":{\"align\":\"left\"},\"paper_bgcolor\":\"white\",\"plot_bgcolor\":\"#E5ECF6\",\"polar\":{\"bgcolor\":\"#E5ECF6\",\"angularaxis\":{\"gridcolor\":\"white\",\"linecolor\":\"white\",\"ticks\":\"\"},\"radialaxis\":{\"gridcolor\":\"white\",\"linecolor\":\"white\",\"ticks\":\"\"}},\"ternary\":{\"bgcolor\":\"#E5ECF6\",\"aaxis\":{\"gridcolor\":\"white\",\"linecolor\":\"white\",\"ticks\":\"\"},\"baxis\":{\"gridcolor\":\"white\",\"linecolor\":\"white\",\"ticks\":\"\"},\"caxis\":{\"gridcolor\":\"white\",\"linecolor\":\"white\",\"ticks\":\"\"}},\"coloraxis\":{\"colorbar\":{\"outlinewidth\":0,\"ticks\":\"\"}},\"colorscale\":{\"sequential\":[[0.0,\"#0d0887\"],[0.1111111111111111,\"#46039f\"],[0.2222222222222222,\"#7201a8\"],[0.3333333333333333,\"#9c179e\"],[0.4444444444444444,\"#bd3786\"],[0.5555555555555556,\"#d8576b\"],[0.6666666666666666,\"#ed7953\"],[0.7777777777777778,\"#fb9f3a\"],[0.8888888888888888,\"#fdca26\"],[1.0,\"#f0f921\"]],\"sequentialminus\":[[0.0,\"#0d0887\"],[0.1111111111111111,\"#46039f\"],[0.2222222222222222,\"#7201a8\"],[0.3333333333333333,\"#9c179e\"],[0.4444444444444444,\"#bd3786\"],[0.5555555555555556,\"#d8576b\"],[0.6666666666666666,\"#ed7953\"],[0.7777777777777778,\"#fb9f3a\"],[0.8888888888888888,\"#fdca26\"],[1.0,\"#f0f921\"]],\"diverging\":[[0,\"#8e0152\"],[0.1,\"#c51b7d\"],[0.2,\"#de77ae\"],[0.3,\"#f1b6da\"],[0.4,\"#fde0ef\"],[0.5,\"#f7f7f7\"],[0.6,\"#e6f5d0\"],[0.7,\"#b8e186\"],[0.8,\"#7fbc41\"],[0.9,\"#4d9221\"],[1,\"#276419\"]]},\"xaxis\":{\"gridcolor\":\"white\",\"linecolor\":\"white\",\"ticks\":\"\",\"title\":{\"standoff\":15},\"zerolinecolor\":\"white\",\"automargin\":true,\"zerolinewidth\":2},\"yaxis\":{\"gridcolor\":\"white\",\"linecolor\":\"white\",\"ticks\":\"\",\"title\":{\"standoff\":15},\"zerolinecolor\":\"white\",\"automargin\":true,\"zerolinewidth\":2},\"scene\":{\"xaxis\":{\"backgroundcolor\":\"#E5ECF6\",\"gridcolor\":\"white\",\"linecolor\":\"white\",\"showbackground\":true,\"ticks\":\"\",\"zerolinecolor\":\"white\",\"gridwidth\":2},\"yaxis\":{\"backgroundcolor\":\"#E5ECF6\",\"gridcolor\":\"white\",\"linecolor\":\"white\",\"showbackground\":true,\"ticks\":\"\",\"zerolinecolor\":\"white\",\"gridwidth\":2},\"zaxis\":{\"backgroundcolor\":\"#E5ECF6\",\"gridcolor\":\"white\",\"linecolor\":\"white\",\"showbackground\":true,\"ticks\":\"\",\"zerolinecolor\":\"white\",\"gridwidth\":2}},\"shapedefaults\":{\"line\":{\"color\":\"#2a3f5f\"}},\"annotationdefaults\":{\"arrowcolor\":\"#2a3f5f\",\"arrowhead\":0,\"arrowwidth\":1},\"geo\":{\"bgcolor\":\"white\",\"landcolor\":\"#E5ECF6\",\"subunitcolor\":\"white\",\"showland\":true,\"showlakes\":true,\"lakecolor\":\"white\"},\"title\":{\"x\":0.05},\"mapbox\":{\"style\":\"light\"}}},\"xaxis\":{\"anchor\":\"y\",\"domain\":[0.0,1.0],\"title\":{\"text\":\"Examples seen\"}},\"yaxis\":{\"anchor\":\"x\",\"domain\":[0.0,1.0],\"title\":{\"text\":\"Cross entropy loss\"}},\"legend\":{\"tracegroupgap\":0},\"title\":{\"text\":\"SimpleMLP training on MNIST\"},\"width\":700,\"hovermode\":\"x unified\"},                        {\"displaylogo\": false, \"responsive\": true}                    ).then(function(){\n",
              "                            \n",
              "var gd = document.getElementById('4910d7b5-fed0-4ac0-96b3-f29fd3df493d');\n",
              "var x = new MutationObserver(function (mutations, observer) {{\n",
              "        var display = window.getComputedStyle(gd).display;\n",
              "        if (!display || display === 'none') {{\n",
              "            console.log([gd, 'removed!']);\n",
              "            Plotly.purge(gd);\n",
              "            observer.disconnect();\n",
              "        }}\n",
              "}});\n",
              "\n",
              "// Listen for the removal of the full notebook cells\n",
              "var notebookContainer = gd.closest('#notebook-container');\n",
              "if (notebookContainer) {{\n",
              "    x.observe(notebookContainer, {childList: true});\n",
              "}}\n",
              "\n",
              "// Listen for the clearing of the current output cell\n",
              "var outputEl = gd.closest('.output');\n",
              "if (outputEl) {{\n",
              "    x.observe(outputEl, {childList: true});\n",
              "}}\n",
              "\n",
              "                        })                };                            </script>        </div>\n",
              "</body>\n",
              "</html>"
            ]
          },
          "metadata": {}
        }
      ],
      "source": [
        "line(\n",
        "    loss_list,\n",
        "    x_max=epochs * len(mnist_trainset),\n",
        "    labels={\"x\": \"Examples seen\", \"y\": \"Cross entropy loss\"},\n",
        "    title=\"SimpleMLP training on MNIST\",\n",
        "    width=700,\n",
        ")"
      ]
    },
    {
      "cell_type": "markdown",
      "metadata": {
        "id": "d5u_PE8wBLI2"
      },
      "source": [
        "Let's break down the important parts of this code.\n",
        "\n",
        "The batch size is the number of samples in each batch (i.e. the number of samples we feed into the model at once). While training our model, we differentiate with respect to the average loss over all samples in the batch (so a smaller batch usually means the loss is more noisy). However, if you're working with large models, then often having a batch size too large will result in a memory error. This will be relevant for models later on in the course, but for now we're working with very small models so this isn't an issue.\n",
        "\n",
        "Next, we get our training set, via the helper function `get_mnist`. This helper function used `torchvision.datasets.MNIST` to load in data, and then (optionally) the `torch.utils.data.Subset` function to return a subset of this data. Don't worry about the details of this function, it's not the kind of thing you'll need to know by heart.\n",
        "\n",
        "We then define our optimizer, using `torch.optim.Adam`. The `torch.optim` module gives a wide variety of modules, such as Adam, SGD, and RMSProp. Adam is generally the most popular and seen as the most effective in the majority of cases. We'll discuss optimizers in more detail tomorrow, but for now it's enough to understand that the optimizer calculates the amount to update parameters by (as a function of those parameters' gradients, and sometimes other inputs), and performs this update step. The first argument passed to our optimizer is the parameters of our model (because these are the values that will be updated via gradient descent), and you can also pass keyword arguments to the optimizer which change its behaviour (e.g. the learning rate).\n",
        "\n",
        "Lastly, we have the actual training loop. We iterate through our training data, and for each batch we:\n",
        "\n",
        "1. Evaluate our model on the batch of data, to get the logits for our class predictions,\n",
        "2. Calculate the loss between our logits and the true class labels,\n",
        "3. Backpropagate the loss through our model (this step accumulates gradients in our model parameters),\n",
        "4. Step our optimizer, which is what actually updates the model parameters,\n",
        "5. Zero the gradients of our optimizer, ready for the next step."
      ]
    },
    {
      "cell_type": "markdown",
      "metadata": {
        "id": "Xdl-SOPQBLI2"
      },
      "source": [
        "### Cross entropy loss\n",
        "\n",
        "The formula for cross entropy loss over a batch of size $N$ is:\n",
        "\n",
        "$$\n",
        "\\begin{aligned}\n",
        "l &= \\frac{1}{N} \\sum_{n=1}^{N} l_n \\\\\n",
        "l_n &=-\\log p_{n, y_{n}}\n",
        "\\end{aligned}\n",
        "$$\n",
        "\n",
        "where $p_{n, c}$ is the probability the model assigns to class $c$ for sample $n$, and $y_{n}$ is the true label for this sample.\n",
        "\n",
        "<details>\n",
        "<summary>See this dropdown, if you're still confused about this formula, and how this relates to the information-theoretic general formula for cross entropy.</summary>\n",
        "\n",
        "The cross entropy of a distribution $p$ relate to a distribution $q$ is:\n",
        "\n",
        "$$\n",
        "\\begin{aligned}\n",
        "H(q, p) &= -\\sum_{n} q(n) \\log p(n)\n",
        "\\end{aligned}\n",
        "$$\n",
        "\n",
        "In our case, $q$ is the true distribution (i.e. the one-hot encoded labels, which equals one for $n = y_n$, zero otherwise), and $p$ is our model's output. With these subsitutions, this formula becomes equivalent to the formula for $l$ given above.\n",
        "</details>\n",
        "\n",
        "<details>\n",
        "<summary>See this dropdown, if you're confused about how this is the same as the <a href=\"https://pytorch.org/docs/stable/generated/torch.nn.CrossEntropyLoss.html#torch.nn.CrossEntropyLoss\">PyTorch definition</a>.</summary>\n",
        "\n",
        "The PyTorch definition of cross entropy loss is:\n",
        "\n",
        "$$\n",
        "\\ell(x, y)=\\frac{1}{N}\\sum_{n=1}^{N} l_n, \\quad l_n=-\\sum_{c=1}^C w_c \\log \\frac{\\exp \\left(x_{n, c}\\right)}{\\sum_{i=1}^C \\exp \\left(x_{n, i}\\right)} y_{n, c}\n",
        "$$\n",
        "\n",
        "$w_c$ are the weights (which all equal one by default), $p_{n, c} = \\frac{\\exp \\left(x_{n, c}\\right)}{\\sum_{i=1}^C \\exp \\left(x_{n, i}\\right)}$ are the probabilities, and $y_{n, c}$ are the true labels (which are one-hot encoded, i.e. their value is one at the correct label $c$ and zero everywhere else). With this, the formula for $l_n$ reduces to the one we see above (i.e. the mean of the negative log probabilities).\n",
        "\n",
        "</details>\n",
        "\n",
        "The function `torch.functional.cross_entropy` expects the **unnormalized logits** as its first input, rather than probabilities. We get probabilities from logits by applying the softmax function:\n",
        "\n",
        "$$\n",
        "\\begin{aligned}\n",
        "p_{n, c} &= \\frac{\\exp(x_{n, c})}{\\sum_{c'=1}^{C} \\exp(x_{n, c'})}\n",
        "\\end{aligned}\n",
        "$$\n",
        "\n",
        "where $x_{n, c}$ is the model's output for class $c$ and sample $n$, and $C$ is the number of classes (in the case of MNIST, $C = 10$).\n",
        "\n",
        "Some terminology notes:\n",
        "\n",
        "* When we say **logits**, we mean the output of the model before applying softmax. We can uniquely define a distribution with a set of logits, just like we can define a distribution with a set of probabilities (and sometimes it's easier to think of a distribution in terms of logits, as we'll see later in the course).\n",
        "\n",
        "* When we say **unnormalized**, we mean the denominator term $\\sum_{c'} \\exp(x_{n, c'})$ isn't necessarily equal to 1. We can add a constant value onto all the logits which makes this term 1 without changing any of the actual probabilities, then we have the relation $p_{n, c} = \\exp(-l_{n, c})$. Here, we call $-l_{n, c}$ the **log probabilities** (or log probs), since $-l_{n, c} = \\log p_{n, c}$.\n",
        "\n",
        "If you're interested in the intuition behind cross entropy as a loss function, see [this post on KL divergence](https://www.lesswrong.com/posts/no5jDTut5Byjqb4j5/six-and-a-half-intuitions-for-kl-divergence) (note that KL divergence and cross entropy differ by an amount which is independent of our model's predictions, so minimizing cross entropy is equivalent to minimizing KL divergence). Also see these two videos:\n",
        "\n",
        "* [Intuitively Understanding the Cross Entropy Loss](https://www.youtube.com/watch?v=Pwgpl9mKars&amp;ab_channel=AdianLiusie)\n",
        "* [Intuitively Understanding the KL Divergence](https://www.youtube.com/watch?v=SxGYPqCgJWM&amp;ab_channel=AdianLiusie)"
      ]
    },
    {
      "cell_type": "markdown",
      "metadata": {
        "id": "hpLc4jtKBLI4"
      },
      "source": [
        "### Aside - `dataclasses`\n",
        "\n",
        "Sometimes, when we have a lot of different input parameters to our model, it can be helpful to use dataclasses to keep track of them all. Dataclasses are a special kind of class which come with built-in methods for initialising and printing (i.e. no need to define an `__init__` or `__repr__`). Another advantage of using them is autocompletion: when you type in `args.` in VSCode, you'll get a dropdown of all your different dataclass attributes, which can be useful when you've forgotten what you called a variable!\n",
        "\n",
        "Here's an example of how we might rewrite our training code above using dataclasses. We've wrapped all the training code inside a single argument called `train`, which takes a `SimpleMLPTrainingArgs` object as its only argument."
      ]
    },
    {
      "cell_type": "code",
      "execution_count": 24,
      "metadata": {
        "id": "X8hJ7U3eBLI4",
        "colab": {
          "base_uri": "https://localhost:8080/",
          "height": 113,
          "referenced_widgets": [
            "8d7bcf1433b048c983ed35a2fb9f4e46",
            "693ca2479b66453ea6993fdb2e0e7dcf",
            "04a2c8ea58c04978b137ed26f1438ac5",
            "cf9e442d6bcd4b90a8af38faebc33db9",
            "7b296f6b39174e889c0b2da08ce77c9f",
            "b0d37a527ff940e1a499d09a4cd4d138",
            "4e8b24ddb07a40268c9444b73201c3c0",
            "5037d5bb5e58441d9ed7196a72c2ace8",
            "4af5b1e1def64284a87b3949caece4e1",
            "72b3b9117fa44cc6b43f70db4f4fbd52",
            "1de0a95ebdb44949b42bd6d454d9fe3e",
            "f8c7c0a1d4f9475082f7dea05710d4b9",
            "8f58ac9f23b14740a09ea502b66309ce",
            "de39b06691d24764b473e6d23950e8dc",
            "03129f5ce5cd4ecca65016f34ef3dc41",
            "bfbb79ebb4454dc1b4e2c7bf1ab6684f",
            "d0bd0f15d7a7463c8e66bc06d32167bb",
            "40f8c920190d438ba1ae572bcf31aaf3",
            "26c0454026854227843715455fd97e1a",
            "7367861ca9dd40bba039c87d4944c57e",
            "e0048b87acfc4e29bed6e3de46c77881",
            "8e189beeb2c6455c8b016146742f60c3",
            "8ef37609ff61433681a5daadebae0a3e",
            "4a539e911ce64cc598c26f243e9d670e",
            "f80caff7cb754c3081204d9f59ff696c",
            "8a9c5349e99a411caf65958d38256e36",
            "4c56fa136fec4bdd8964f1af178e078b",
            "527c3f0cf7a247d98561c205bf45c007",
            "3353511ac8914b00917deba1761b4c2f",
            "e9acfae021c3482788777546f6c3684d",
            "f9947ee762864e658c65205846d8d49b",
            "706f85ecfd204db2b2fdf2b4b2a7ede8",
            "51255f2b71e64c72912c9caa6e14d9bb"
          ]
        },
        "outputId": "ccf0b270-2683-4a3c-8ac9-27b7a04da84b"
      },
      "outputs": [
        {
          "output_type": "display_data",
          "data": {
            "text/plain": [
              "  0%|          | 0/157 [00:00<?, ?it/s]"
            ],
            "application/vnd.jupyter.widget-view+json": {
              "version_major": 2,
              "version_minor": 0,
              "model_id": "8d7bcf1433b048c983ed35a2fb9f4e46"
            }
          },
          "metadata": {}
        },
        {
          "output_type": "display_data",
          "data": {
            "text/plain": [
              "  0%|          | 0/157 [00:00<?, ?it/s]"
            ],
            "application/vnd.jupyter.widget-view+json": {
              "version_major": 2,
              "version_minor": 0,
              "model_id": "f8c7c0a1d4f9475082f7dea05710d4b9"
            }
          },
          "metadata": {}
        },
        {
          "output_type": "display_data",
          "data": {
            "text/plain": [
              "  0%|          | 0/157 [00:00<?, ?it/s]"
            ],
            "application/vnd.jupyter.widget-view+json": {
              "version_major": 2,
              "version_minor": 0,
              "model_id": "8ef37609ff61433681a5daadebae0a3e"
            }
          },
          "metadata": {}
        }
      ],
      "source": [
        "@dataclass\n",
        "class SimpleMLPTrainingArgs:\n",
        "    \"\"\"\n",
        "    Defining this class implicitly creates an __init__ method, which sets arguments as below, e.g. self.batch_size=64.\n",
        "    Any of these fields can also be overridden when you create an instance, e.g. SimpleMLPTrainingArgs(batch_size=128).\n",
        "    \"\"\"\n",
        "\n",
        "    batch_size: int = 64\n",
        "    epochs: int = 3\n",
        "    learning_rate: float = 1e-3\n",
        "\n",
        "\n",
        "def train(args: SimpleMLPTrainingArgs) -> tuple[list[float], SimpleMLP]:\n",
        "    \"\"\"\n",
        "    Trains & returns the model, using training parameters from the `args` object. Returns the model, and loss list.\n",
        "    \"\"\"\n",
        "    model = SimpleMLP().to(device)\n",
        "\n",
        "    mnist_trainset, _ = get_mnist()\n",
        "    mnist_trainloader = DataLoader(mnist_trainset, batch_size=args.batch_size, shuffle=True)\n",
        "\n",
        "    optimizer = t.optim.Adam(model.parameters(), lr=args.learning_rate)\n",
        "    loss_list = []\n",
        "\n",
        "    for epoch in range(args.epochs):\n",
        "        pbar = tqdm(mnist_trainloader)\n",
        "\n",
        "        for imgs, labels in pbar:\n",
        "            # Move data to device, perform forward pass\n",
        "            imgs, labels = imgs.to(device), labels.to(device)\n",
        "            logits = model(imgs)\n",
        "\n",
        "            # Calculate loss, perform backward pass\n",
        "            loss = F.cross_entropy(logits, labels)\n",
        "            loss.backward()\n",
        "            optimizer.step()\n",
        "            optimizer.zero_grad()\n",
        "\n",
        "            # Update logs & progress bar\n",
        "            loss_list.append(loss.item())\n",
        "            pbar.set_postfix(epoch=f\"{epoch+1}/{epochs}\", loss=f\"{loss:.3f}\")\n",
        "\n",
        "    return loss_list, model\n",
        "\n",
        "\n",
        "args = SimpleMLPTrainingArgs()\n",
        "loss_list, model = train(args)"
      ]
    },
    {
      "cell_type": "code",
      "execution_count": 12,
      "metadata": {
        "id": "B4jmqTfEBLI5",
        "colab": {
          "base_uri": "https://localhost:8080/",
          "height": 542
        },
        "outputId": "956b5aab-661f-468c-b1dc-9aeac4cc2e7f"
      },
      "outputs": [
        {
          "output_type": "display_data",
          "data": {
            "text/html": [
              "<html>\n",
              "<head><meta charset=\"utf-8\" /></head>\n",
              "<body>\n",
              "    <div>            <script src=\"https://cdnjs.cloudflare.com/ajax/libs/mathjax/2.7.5/MathJax.js?config=TeX-AMS-MML_SVG\"></script><script type=\"text/javascript\">if (window.MathJax && window.MathJax.Hub && window.MathJax.Hub.Config) {window.MathJax.Hub.Config({SVG: {font: \"STIX-Web\"}});}</script>                <script type=\"text/javascript\">window.PlotlyConfig = {MathJaxConfig: 'local'};</script>\n",
              "        <script charset=\"utf-8\" src=\"https://cdn.plot.ly/plotly-2.35.2.min.js\"></script>                <div id=\"014d5428-e501-4571-a1b3-2f03d40940c9\" class=\"plotly-graph-div\" style=\"height:525px; width:700px;\"></div>            <script type=\"text/javascript\">                                    window.PLOTLYENV=window.PLOTLYENV || {};                                    if (document.getElementById(\"014d5428-e501-4571-a1b3-2f03d40940c9\")) {                    Plotly.newPlot(                        \"014d5428-e501-4571-a1b3-2f03d40940c9\",                        [{\"hovertemplate\":\"Examples seen=%{x}\\u003cbr\\u003eCross entropy loss=%{y}\\u003cextra\\u003e\\u003c\\u002fextra\\u003e\",\"legendgroup\":\"\",\"line\":{\"color\":\"#636efa\",\"dash\":\"solid\"},\"marker\":{\"symbol\":\"circle\"},\"mode\":\"lines\",\"name\":\"\",\"orientation\":\"v\",\"showlegend\":false,\"x\":[0.0,63.829787234042556,127.65957446808511,191.48936170212767,255.31914893617022,319.1489361702128,382.97872340425533,446.8085106382979,510.63829787234044,574.468085106383,638.2978723404256,702.1276595744681,765.9574468085107,829.7872340425532,893.6170212765958,957.4468085106383,1021.2765957446809,1085.1063829787236,1148.936170212766,1212.7659574468084,1276.595744680851,1340.4255319148938,1404.2553191489362,1468.0851063829787,1531.9148936170213,1595.744680851064,1659.5744680851064,1723.404255319149,1787.2340425531916,1851.0638297872342,1914.8936170212767,1978.723404255319,2042.5531914893618,2106.3829787234044,2170.212765957447,2234.0425531914893,2297.872340425532,2361.7021276595747,2425.531914893617,2489.3617021276596,2553.191489361702,2617.021276595745,2680.8510638297876,2744.68085106383,2808.5106382978724,2872.340425531915,2936.1702127659573,3000.0,3063.8297872340427,3127.6595744680853,3191.489361702128,3255.31914893617,3319.148936170213,3382.9787234042556,3446.808510638298,3510.6382978723404,3574.468085106383,3638.297872340426,3702.1276595744685,3765.9574468085107,3829.7872340425533,3893.617021276596,3957.446808510638,4021.276595744681,4085.1063829787236,4148.936170212766,4212.765957446809,4276.595744680852,4340.425531914894,4404.255319148936,4468.085106382979,4531.914893617021,4595.744680851064,4659.574468085107,4723.404255319149,4787.234042553192,4851.063829787234,4914.893617021276,4978.723404255319,5042.553191489362,5106.382978723404,5170.212765957447,5234.04255319149,5297.8723404255325,5361.702127659575,5425.531914893617,5489.36170212766,5553.191489361702,5617.021276595745,5680.851063829788,5744.68085106383,5808.510638297873,5872.340425531915,5936.170212765957,6000.0,6063.829787234043,6127.659574468085,6191.489361702128,6255.319148936171,6319.148936170213,6382.978723404256,6446.808510638298,6510.63829787234,6574.468085106383,6638.297872340426,6702.127659574468,6765.957446808511,6829.787234042554,6893.617021276596,6957.446808510638,7021.276595744681,7085.106382978724,7148.936170212766,7212.765957446809,7276.595744680852,7340.425531914894,7404.255319148937,7468.085106382979,7531.914893617021,7595.744680851064,7659.574468085107,7723.404255319149,7787.234042553192,7851.063829787235,7914.893617021276,7978.723404255319,8042.553191489362,8106.382978723404,8170.212765957447,8234.04255319149,8297.872340425532,8361.702127659575,8425.531914893618,8489.36170212766,8553.191489361703,8617.021276595746,8680.851063829788,8744.68085106383,8808.510638297872,8872.340425531915,8936.170212765957,9000.0,9063.829787234043,9127.659574468085,9191.489361702128,9255.31914893617,9319.148936170213,9382.978723404256,9446.808510638299,9510.638297872341,9574.468085106384,9638.297872340427,9702.127659574468,9765.95744680851,9829.787234042553,9893.617021276596,9957.446808510638,10021.27659574468,10085.106382978724,10148.936170212766,10212.765957446809,10276.595744680852,10340.425531914894,10404.255319148937,10468.08510638298,10531.914893617022,10595.744680851065,10659.574468085108,10723.40425531915,10787.234042553191,10851.063829787234,10914.893617021276,10978.72340425532,11042.553191489362,11106.382978723404,11170.212765957447,11234.04255319149,11297.872340425532,11361.702127659575,11425.531914893618,11489.36170212766,11553.191489361703,11617.021276595746,11680.851063829788,11744.68085106383,11808.510638297872,11872.340425531915,11936.170212765957,12000.0,12063.829787234043,12127.659574468085,12191.489361702128,12255.31914893617,12319.148936170213,12382.978723404256,12446.808510638299,12510.638297872341,12574.468085106384,12638.297872340427,12702.12765957447,12765.957446808512,12829.787234042553,12893.617021276596,12957.446808510638,13021.27659574468,13085.106382978724,13148.936170212766,13212.765957446809,13276.595744680852,13340.425531914894,13404.255319148937,13468.08510638298,13531.914893617022,13595.744680851065,13659.574468085108,13723.40425531915,13787.234042553191,13851.063829787234,13914.893617021276,13978.72340425532,14042.553191489362,14106.382978723404,14170.212765957447,14234.04255319149,14297.872340425532,14361.702127659575,14425.531914893618,14489.36170212766,14553.191489361703,14617.021276595746,14680.851063829788,14744.680851063831,14808.510638297874,14872.340425531915,14936.170212765957,15000.0,15063.829787234043,15127.659574468085,15191.489361702128,15255.31914893617,15319.148936170213,15382.978723404256,15446.808510638299,15510.638297872341,15574.468085106384,15638.297872340427,15702.12765957447,15765.957446808512,15829.787234042553,15893.617021276596,15957.446808510638,16021.27659574468,16085.106382978724,16148.936170212766,16212.765957446809,16276.595744680852,16340.425531914894,16404.255319148935,16468.08510638298,16531.91489361702,16595.744680851065,16659.574468085106,16723.40425531915,16787.23404255319,16851.063829787236,16914.893617021276,16978.72340425532,17042.55319148936,17106.382978723406,17170.212765957447,17234.04255319149,17297.872340425532,17361.702127659577,17425.531914893618,17489.36170212766,17553.191489361703,17617.021276595744,17680.85106382979,17744.68085106383,17808.510638297874,17872.340425531915,17936.17021276596,18000.0,18063.829787234044,18127.659574468085,18191.48936170213,18255.31914893617,18319.148936170215,18382.978723404256,18446.808510638297,18510.63829787234,18574.468085106382,18638.297872340427,18702.127659574468,18765.957446808512,18829.787234042553,18893.617021276597,18957.44680851064,19021.276595744683,19085.106382978724,19148.936170212768,19212.76595744681,19276.595744680853,19340.425531914894,19404.255319148935,19468.08510638298,19531.91489361702,19595.744680851065,19659.574468085106,19723.40425531915,19787.23404255319,19851.063829787236,19914.893617021276,19978.72340425532,20042.55319148936,20106.382978723406,20170.212765957447,20234.04255319149,20297.872340425532,20361.702127659577,20425.531914893618,20489.36170212766,20553.191489361703,20617.021276595744,20680.85106382979,20744.68085106383,20808.510638297874,20872.340425531915,20936.17021276596,21000.0,21063.829787234044,21127.659574468085,21191.48936170213,21255.31914893617,21319.148936170215,21382.978723404256,21446.8085106383,21510.63829787234,21574.468085106382,21638.297872340427,21702.127659574468,21765.957446808512,21829.787234042553,21893.617021276597,21957.44680851064,22021.276595744683,22085.106382978724,22148.936170212768,22212.76595744681,22276.595744680853,22340.425531914894,22404.25531914894,22468.08510638298,22531.91489361702,22595.744680851065,22659.574468085106,22723.40425531915,22787.23404255319,22851.063829787236,22914.893617021276,22978.72340425532,23042.55319148936,23106.382978723406,23170.212765957447,23234.04255319149,23297.872340425532,23361.702127659577,23425.531914893618,23489.36170212766,23553.191489361703,23617.021276595744,23680.85106382979,23744.68085106383,23808.510638297874,23872.340425531915,23936.17021276596,24000.0,24063.829787234044,24127.659574468085,24191.48936170213,24255.31914893617,24319.148936170215,24382.978723404256,24446.8085106383,24510.63829787234,24574.468085106382,24638.297872340427,24702.127659574468,24765.957446808512,24829.787234042553,24893.617021276597,24957.44680851064,25021.276595744683,25085.106382978724,25148.936170212768,25212.76595744681,25276.595744680853,25340.425531914894,25404.25531914894,25468.08510638298,25531.914893617024,25595.744680851065,25659.574468085106,25723.40425531915,25787.23404255319,25851.063829787236,25914.893617021276,25978.72340425532,26042.55319148936,26106.382978723406,26170.212765957447,26234.04255319149,26297.872340425532,26361.702127659577,26425.531914893618,26489.361702127662,26553.191489361703,26617.021276595744,26680.85106382979,26744.68085106383,26808.510638297874,26872.340425531915,26936.17021276596,27000.0,27063.829787234044,27127.659574468085,27191.48936170213,27255.31914893617,27319.148936170215,27382.978723404256,27446.8085106383,27510.63829787234,27574.468085106382,27638.297872340427,27702.127659574468,27765.957446808512,27829.787234042553,27893.617021276597,27957.44680851064,28021.276595744683,28085.106382978724,28148.936170212768,28212.76595744681,28276.595744680853,28340.425531914894,28404.25531914894,28468.08510638298,28531.914893617024,28595.744680851065,28659.574468085106,28723.40425531915,28787.23404255319,28851.063829787236,28914.893617021276,28978.72340425532,29042.55319148936,29106.382978723406,29170.212765957447,29234.04255319149,29297.872340425532,29361.702127659577,29425.531914893618,29489.361702127662,29553.191489361703,29617.021276595748,29680.85106382979,29744.68085106383,29808.510638297874,29872.340425531915,29936.17021276596,30000.0],\"xaxis\":\"x\",\"y\":[2.3025851249694824,2.3026793003082275,2.302175521850586,2.3029305934906006,2.3021938800811768,2.3022780418395996,2.3027989864349365,2.3019790649414062,2.303239345550537,2.3025355339050293,2.3030776977539062,2.301372766494751,2.301928758621216,2.3016064167022705,2.301567792892456,2.3014397621154785,2.3020708560943604,2.3035027980804443,2.3029189109802246,2.301459312438965,2.302171230316162,2.304250478744507,2.3028268814086914,2.3026680946350098,2.3029751777648926,2.303434133529663,2.302372455596924,2.3037519454956055,2.301595449447632,2.301475763320923,2.302626609802246,2.3035459518432617,2.3018388748168945,2.302126407623291,2.3025670051574707,2.302250862121582,2.3024163246154785,2.3031466007232666,2.3006157875061035,2.301948070526123,2.302600145339966,2.2999985218048096,2.303107976913452,2.302992820739746,2.3021328449249268,2.3020994663238525,2.3034424781799316,2.3015365600585938,2.30096435546875,2.3019938468933105,2.303666830062866,2.302121162414551,2.3018131256103516,2.3041770458221436,2.302522659301758,2.300668239593506,2.3039402961730957,2.3039183616638184,2.301072835922241,2.3033323287963867,2.3039562702178955,2.3010690212249756,2.303446054458618,2.301854372024536,2.3035855293273926,2.3042101860046387,2.2995359897613525,2.2976467609405518,2.3002097606658936,2.301720380783081,2.302189588546753,2.302145004272461,2.3009629249572754,2.302990674972534,2.3016035556793213,2.301281213760376,2.3051421642303467,2.3005282878875732,2.3027102947235107,2.299144744873047,2.304251194000244,2.3006949424743652,2.3027806282043457,2.3013646602630615,2.302915334701538,2.302828073501587,2.3046395778656006,2.3026013374328613,2.3000614643096924,2.3029379844665527,2.303910970687866,2.3040997982025146,2.303647756576538,2.2988944053649902,2.300687789916992,2.301800012588501,2.301638126373291,2.3018529415130615,2.3013086318969727,2.3039395809173584,2.3023123741149902,2.30178165435791,2.3047025203704834,2.3017349243164062,2.3010611534118652,2.302616596221924,2.297661781311035,2.301499605178833,2.3029656410217285,2.3024675846099854,2.3022708892822266,2.3036675453186035,2.298560619354248,2.298156499862671,2.2995688915252686,2.301213264465332,2.2984418869018555,2.302795886993408,2.300353765487671,2.2999720573425293,2.2993414402008057,2.303553819656372,2.3014578819274902,2.30277156829834,2.298678398132324,2.30395770072937,2.300901412963867,2.2985951900482178,2.30096697807312,2.300659656524658,2.2998812198638916,2.304039478302002,2.303642511367798,2.2999775409698486,2.30487322807312,2.300739049911499,2.3054111003875732,2.3015122413635254,2.3016602993011475,2.3009181022644043,2.3004369735717773,2.302091598510742,2.3050968647003174,2.302459955215454,2.3022499084472656,2.304133176803589,2.3033621311187744,2.3076796531677246,2.3001842498779297,2.300727367401123,2.305018186569214,2.2983286380767822,2.302154541015625,2.302233934402466,2.295757532119751,2.298356771469116,2.297966480255127,2.3027567863464355,2.30839204788208,2.3001201152801514,2.299412727355957,2.3013572692871094,2.3036019802093506,2.302675485610962,2.3009121417999268,2.301177978515625,2.304276704788208,2.3038136959075928,2.300938367843628,2.3011393547058105,2.303445816040039,2.3032569885253906,2.297372341156006,2.301781415939331,2.2993547916412354,2.3027520179748535,2.300175189971924,2.2973039150238037,2.3026838302612305,2.2998416423797607,2.303227424621582,2.3001654148101807,2.2992753982543945,2.297560930252075,2.296037197113037,2.295795202255249,2.3033719062805176,2.2993154525756836,2.300006151199341,2.3045313358306885,2.2956607341766357,2.30359148979187,2.3034725189208984,2.3006374835968018,2.3013017177581787,2.2994978427886963,2.303213119506836,2.30835223197937,2.30224871635437,2.3029770851135254,2.3034799098968506,2.3034729957580566,2.303401470184326,2.301297903060913,2.301971912384033,2.3034064769744873,2.3055105209350586,2.3052313327789307,2.2959296703338623,2.302987575531006,2.2987279891967773,2.2944533824920654,2.3012735843658447,2.3009815216064453,2.3075945377349854,2.3003928661346436,2.3032712936401367,2.2978689670562744,2.3029160499572754,2.3057751655578613,2.3032801151275635,2.3047842979431152,2.299877643585205,2.2969300746917725,2.295452833175659,2.3028364181518555,2.2989325523376465,2.298391103744507,2.3102025985717773,2.3010261058807373,2.3056588172912598,2.2948269844055176,2.307476282119751,2.3014519214630127,2.300058364868164,2.298163414001465,2.2995944023132324,2.3052337169647217,2.304786443710327,2.2989323139190674,2.2949914932250977,2.2994983196258545,2.3054301738739014,2.3083882331848145,2.3048744201660156,2.298879861831665,2.298194408416748,2.305379629135132,2.3027586936950684,2.299731492996216,2.297628879547119,2.2974865436553955,2.3049118518829346,2.3047657012939453,2.299941062927246,2.3033273220062256,2.296030044555664,2.3007359504699707,2.2997794151306152,2.3037681579589844,2.30245041847229,2.301504611968994,2.3060390949249268,2.3021349906921387,2.2938270568847656,2.299283981323242,2.3008198738098145,2.3000974655151367,2.301851272583008,2.303353786468506,2.2980904579162598,2.289339542388916,2.3009958267211914,2.2921297550201416,2.2939794063568115,2.298649787902832,2.29424786567688,2.298417091369629,2.2991557121276855,2.3036835193634033,2.3036556243896484,2.300584316253662,2.3076744079589844,2.2985429763793945,2.3009605407714844,2.29616379737854,2.306150436401367,2.29616641998291,2.3066821098327637,2.306185483932495,2.3060696125030518,2.3094425201416016,2.298849582672119,2.3020029067993164,2.2910027503967285,2.3021955490112305,2.2994883060455322,2.3038363456726074,2.3018414974212646,2.2937684059143066,2.3007423877716064,2.3005826473236084,2.2996888160705566,2.3083088397979736,2.3081772327423096,2.293384552001953,2.303690195083618,2.2988345623016357,2.28837251663208,2.300157308578491,2.29571795463562,2.305706262588501,2.3025896549224854,2.3107194900512695,2.2967004776000977,2.3022375106811523,2.298734664916992,2.294217348098755,2.3086934089660645,2.30401349067688,2.2960703372955322,2.2961854934692383,2.305842638015747,2.3043060302734375,2.305091381072998,2.3058688640594482,2.2961201667785645,2.298765182495117,2.299093246459961,2.2985827922821045,2.3055686950683594,2.3044698238372803,2.2940995693206787,2.306873321533203,2.301691770553589,2.30446457862854,2.302750825881958,2.301180362701416,2.3045578002929688,2.3036162853240967,2.2970898151397705,2.3045105934143066,2.302788257598877,2.2940456867218018,2.29959774017334,2.300845146179199,2.3021085262298584,2.3000905513763428,2.303884267807007,2.304745674133301,2.301896572113037,2.3194549083709717,2.305163860321045,2.2990846633911133,2.3090145587921143,2.305260181427002,2.2982873916625977,2.301530599594116,2.303583860397339,2.2984354496002197,2.2954068183898926,2.312001943588257,2.3024954795837402,2.30013108253479,2.297765016555786,2.304731607437134,2.2982256412506104,2.3035857677459717,2.3015024662017822,2.2804043292999268,2.2983193397521973,2.2992100715637207,2.3056113719940186,2.301487922668457,2.2946572303771973,2.29732346534729,2.2999536991119385,2.303509473800659,2.2981204986572266,2.2950873374938965,2.2993178367614746,2.29853892326355,2.2970168590545654,2.302030086517334,2.3020129203796387,2.3034346103668213,2.2991580963134766,2.2899374961853027,2.295694589614868,2.299292802810669,2.296225070953369,2.291581392288208,2.2900631427764893,2.3000407218933105,2.29984188079834,2.3064329624176025,2.295440912246704,2.3030245304107666,2.3041326999664307,2.3064327239990234,2.30112886428833,2.302945852279663,2.304781436920166,2.303884983062744,2.2958035469055176,2.315110206604004,2.296186923980713,2.300471544265747,2.2962820529937744,2.3110618591308594,2.2988626956939697,2.2973015308380127,2.2984747886657715,2.3045318126678467,2.2916901111602783,2.292525053024292,2.295414686203003,2.3008267879486084,2.3002355098724365,2.3067710399627686,2.296359062194824,2.298191547393799,2.305525064468384,2.3042855262756348,2.3076279163360596,2.2961695194244385,2.3082122802734375,2.3034913539886475,2.3032920360565186,2.301835775375366,2.2877204418182373,2.303556203842163,2.2992889881134033,2.3010714054107666,2.301128387451172,2.301595687866211,2.2950549125671387,2.3050427436828613,2.309267520904541,2.3027584552764893,2.30090069770813,2.2964870929718018,2.305497884750366,2.2980635166168213,2.2943384647369385,2.298410415649414,2.2981672286987305,2.2976419925689697,2.3060426712036133,2.299020290374756,2.2963662147521973,2.3018319606781006,2.3064043521881104,2.294628381729126,2.307512044906616,2.3029770851135254,2.284315586090088,2.31185245513916,2.3037641048431396,2.3077235221862793,2.290558338165283,2.3028314113616943,2.307755470275879,2.295412302017212,2.303895950317383,2.3017730712890625,2.304166793823242,2.2976555824279785,2.29392147064209,2.299039125442505,2.307548761367798],\"yaxis\":\"y\",\"type\":\"scatter\"}],                        {\"template\":{\"data\":{\"histogram2dcontour\":[{\"type\":\"histogram2dcontour\",\"colorbar\":{\"outlinewidth\":0,\"ticks\":\"\"},\"colorscale\":[[0.0,\"#0d0887\"],[0.1111111111111111,\"#46039f\"],[0.2222222222222222,\"#7201a8\"],[0.3333333333333333,\"#9c179e\"],[0.4444444444444444,\"#bd3786\"],[0.5555555555555556,\"#d8576b\"],[0.6666666666666666,\"#ed7953\"],[0.7777777777777778,\"#fb9f3a\"],[0.8888888888888888,\"#fdca26\"],[1.0,\"#f0f921\"]]}],\"choropleth\":[{\"type\":\"choropleth\",\"colorbar\":{\"outlinewidth\":0,\"ticks\":\"\"}}],\"histogram2d\":[{\"type\":\"histogram2d\",\"colorbar\":{\"outlinewidth\":0,\"ticks\":\"\"},\"colorscale\":[[0.0,\"#0d0887\"],[0.1111111111111111,\"#46039f\"],[0.2222222222222222,\"#7201a8\"],[0.3333333333333333,\"#9c179e\"],[0.4444444444444444,\"#bd3786\"],[0.5555555555555556,\"#d8576b\"],[0.6666666666666666,\"#ed7953\"],[0.7777777777777778,\"#fb9f3a\"],[0.8888888888888888,\"#fdca26\"],[1.0,\"#f0f921\"]]}],\"heatmap\":[{\"type\":\"heatmap\",\"colorbar\":{\"outlinewidth\":0,\"ticks\":\"\"},\"colorscale\":[[0.0,\"#0d0887\"],[0.1111111111111111,\"#46039f\"],[0.2222222222222222,\"#7201a8\"],[0.3333333333333333,\"#9c179e\"],[0.4444444444444444,\"#bd3786\"],[0.5555555555555556,\"#d8576b\"],[0.6666666666666666,\"#ed7953\"],[0.7777777777777778,\"#fb9f3a\"],[0.8888888888888888,\"#fdca26\"],[1.0,\"#f0f921\"]]}],\"heatmapgl\":[{\"type\":\"heatmapgl\",\"colorbar\":{\"outlinewidth\":0,\"ticks\":\"\"},\"colorscale\":[[0.0,\"#0d0887\"],[0.1111111111111111,\"#46039f\"],[0.2222222222222222,\"#7201a8\"],[0.3333333333333333,\"#9c179e\"],[0.4444444444444444,\"#bd3786\"],[0.5555555555555556,\"#d8576b\"],[0.6666666666666666,\"#ed7953\"],[0.7777777777777778,\"#fb9f3a\"],[0.8888888888888888,\"#fdca26\"],[1.0,\"#f0f921\"]]}],\"contourcarpet\":[{\"type\":\"contourcarpet\",\"colorbar\":{\"outlinewidth\":0,\"ticks\":\"\"}}],\"contour\":[{\"type\":\"contour\",\"colorbar\":{\"outlinewidth\":0,\"ticks\":\"\"},\"colorscale\":[[0.0,\"#0d0887\"],[0.1111111111111111,\"#46039f\"],[0.2222222222222222,\"#7201a8\"],[0.3333333333333333,\"#9c179e\"],[0.4444444444444444,\"#bd3786\"],[0.5555555555555556,\"#d8576b\"],[0.6666666666666666,\"#ed7953\"],[0.7777777777777778,\"#fb9f3a\"],[0.8888888888888888,\"#fdca26\"],[1.0,\"#f0f921\"]]}],\"surface\":[{\"type\":\"surface\",\"colorbar\":{\"outlinewidth\":0,\"ticks\":\"\"},\"colorscale\":[[0.0,\"#0d0887\"],[0.1111111111111111,\"#46039f\"],[0.2222222222222222,\"#7201a8\"],[0.3333333333333333,\"#9c179e\"],[0.4444444444444444,\"#bd3786\"],[0.5555555555555556,\"#d8576b\"],[0.6666666666666666,\"#ed7953\"],[0.7777777777777778,\"#fb9f3a\"],[0.8888888888888888,\"#fdca26\"],[1.0,\"#f0f921\"]]}],\"mesh3d\":[{\"type\":\"mesh3d\",\"colorbar\":{\"outlinewidth\":0,\"ticks\":\"\"}}],\"scatter\":[{\"fillpattern\":{\"fillmode\":\"overlay\",\"size\":10,\"solidity\":0.2},\"type\":\"scatter\"}],\"parcoords\":[{\"type\":\"parcoords\",\"line\":{\"colorbar\":{\"outlinewidth\":0,\"ticks\":\"\"}}}],\"scatterpolargl\":[{\"type\":\"scatterpolargl\",\"marker\":{\"colorbar\":{\"outlinewidth\":0,\"ticks\":\"\"}}}],\"bar\":[{\"error_x\":{\"color\":\"#2a3f5f\"},\"error_y\":{\"color\":\"#2a3f5f\"},\"marker\":{\"line\":{\"color\":\"#E5ECF6\",\"width\":0.5},\"pattern\":{\"fillmode\":\"overlay\",\"size\":10,\"solidity\":0.2}},\"type\":\"bar\"}],\"scattergeo\":[{\"type\":\"scattergeo\",\"marker\":{\"colorbar\":{\"outlinewidth\":0,\"ticks\":\"\"}}}],\"scatterpolar\":[{\"type\":\"scatterpolar\",\"marker\":{\"colorbar\":{\"outlinewidth\":0,\"ticks\":\"\"}}}],\"histogram\":[{\"marker\":{\"pattern\":{\"fillmode\":\"overlay\",\"size\":10,\"solidity\":0.2}},\"type\":\"histogram\"}],\"scattergl\":[{\"type\":\"scattergl\",\"marker\":{\"colorbar\":{\"outlinewidth\":0,\"ticks\":\"\"}}}],\"scatter3d\":[{\"type\":\"scatter3d\",\"line\":{\"colorbar\":{\"outlinewidth\":0,\"ticks\":\"\"}},\"marker\":{\"colorbar\":{\"outlinewidth\":0,\"ticks\":\"\"}}}],\"scattermapbox\":[{\"type\":\"scattermapbox\",\"marker\":{\"colorbar\":{\"outlinewidth\":0,\"ticks\":\"\"}}}],\"scatterternary\":[{\"type\":\"scatterternary\",\"marker\":{\"colorbar\":{\"outlinewidth\":0,\"ticks\":\"\"}}}],\"scattercarpet\":[{\"type\":\"scattercarpet\",\"marker\":{\"colorbar\":{\"outlinewidth\":0,\"ticks\":\"\"}}}],\"carpet\":[{\"aaxis\":{\"endlinecolor\":\"#2a3f5f\",\"gridcolor\":\"white\",\"linecolor\":\"white\",\"minorgridcolor\":\"white\",\"startlinecolor\":\"#2a3f5f\"},\"baxis\":{\"endlinecolor\":\"#2a3f5f\",\"gridcolor\":\"white\",\"linecolor\":\"white\",\"minorgridcolor\":\"white\",\"startlinecolor\":\"#2a3f5f\"},\"type\":\"carpet\"}],\"table\":[{\"cells\":{\"fill\":{\"color\":\"#EBF0F8\"},\"line\":{\"color\":\"white\"}},\"header\":{\"fill\":{\"color\":\"#C8D4E3\"},\"line\":{\"color\":\"white\"}},\"type\":\"table\"}],\"barpolar\":[{\"marker\":{\"line\":{\"color\":\"#E5ECF6\",\"width\":0.5},\"pattern\":{\"fillmode\":\"overlay\",\"size\":10,\"solidity\":0.2}},\"type\":\"barpolar\"}],\"pie\":[{\"automargin\":true,\"type\":\"pie\"}]},\"layout\":{\"autotypenumbers\":\"strict\",\"colorway\":[\"#636efa\",\"#EF553B\",\"#00cc96\",\"#ab63fa\",\"#FFA15A\",\"#19d3f3\",\"#FF6692\",\"#B6E880\",\"#FF97FF\",\"#FECB52\"],\"font\":{\"color\":\"#2a3f5f\"},\"hovermode\":\"closest\",\"hoverlabel\":{\"align\":\"left\"},\"paper_bgcolor\":\"white\",\"plot_bgcolor\":\"#E5ECF6\",\"polar\":{\"bgcolor\":\"#E5ECF6\",\"angularaxis\":{\"gridcolor\":\"white\",\"linecolor\":\"white\",\"ticks\":\"\"},\"radialaxis\":{\"gridcolor\":\"white\",\"linecolor\":\"white\",\"ticks\":\"\"}},\"ternary\":{\"bgcolor\":\"#E5ECF6\",\"aaxis\":{\"gridcolor\":\"white\",\"linecolor\":\"white\",\"ticks\":\"\"},\"baxis\":{\"gridcolor\":\"white\",\"linecolor\":\"white\",\"ticks\":\"\"},\"caxis\":{\"gridcolor\":\"white\",\"linecolor\":\"white\",\"ticks\":\"\"}},\"coloraxis\":{\"colorbar\":{\"outlinewidth\":0,\"ticks\":\"\"}},\"colorscale\":{\"sequential\":[[0.0,\"#0d0887\"],[0.1111111111111111,\"#46039f\"],[0.2222222222222222,\"#7201a8\"],[0.3333333333333333,\"#9c179e\"],[0.4444444444444444,\"#bd3786\"],[0.5555555555555556,\"#d8576b\"],[0.6666666666666666,\"#ed7953\"],[0.7777777777777778,\"#fb9f3a\"],[0.8888888888888888,\"#fdca26\"],[1.0,\"#f0f921\"]],\"sequentialminus\":[[0.0,\"#0d0887\"],[0.1111111111111111,\"#46039f\"],[0.2222222222222222,\"#7201a8\"],[0.3333333333333333,\"#9c179e\"],[0.4444444444444444,\"#bd3786\"],[0.5555555555555556,\"#d8576b\"],[0.6666666666666666,\"#ed7953\"],[0.7777777777777778,\"#fb9f3a\"],[0.8888888888888888,\"#fdca26\"],[1.0,\"#f0f921\"]],\"diverging\":[[0,\"#8e0152\"],[0.1,\"#c51b7d\"],[0.2,\"#de77ae\"],[0.3,\"#f1b6da\"],[0.4,\"#fde0ef\"],[0.5,\"#f7f7f7\"],[0.6,\"#e6f5d0\"],[0.7,\"#b8e186\"],[0.8,\"#7fbc41\"],[0.9,\"#4d9221\"],[1,\"#276419\"]]},\"xaxis\":{\"gridcolor\":\"white\",\"linecolor\":\"white\",\"ticks\":\"\",\"title\":{\"standoff\":15},\"zerolinecolor\":\"white\",\"automargin\":true,\"zerolinewidth\":2},\"yaxis\":{\"gridcolor\":\"white\",\"linecolor\":\"white\",\"ticks\":\"\",\"title\":{\"standoff\":15},\"zerolinecolor\":\"white\",\"automargin\":true,\"zerolinewidth\":2},\"scene\":{\"xaxis\":{\"backgroundcolor\":\"#E5ECF6\",\"gridcolor\":\"white\",\"linecolor\":\"white\",\"showbackground\":true,\"ticks\":\"\",\"zerolinecolor\":\"white\",\"gridwidth\":2},\"yaxis\":{\"backgroundcolor\":\"#E5ECF6\",\"gridcolor\":\"white\",\"linecolor\":\"white\",\"showbackground\":true,\"ticks\":\"\",\"zerolinecolor\":\"white\",\"gridwidth\":2},\"zaxis\":{\"backgroundcolor\":\"#E5ECF6\",\"gridcolor\":\"white\",\"linecolor\":\"white\",\"showbackground\":true,\"ticks\":\"\",\"zerolinecolor\":\"white\",\"gridwidth\":2}},\"shapedefaults\":{\"line\":{\"color\":\"#2a3f5f\"}},\"annotationdefaults\":{\"arrowcolor\":\"#2a3f5f\",\"arrowhead\":0,\"arrowwidth\":1},\"geo\":{\"bgcolor\":\"white\",\"landcolor\":\"#E5ECF6\",\"subunitcolor\":\"white\",\"showland\":true,\"showlakes\":true,\"lakecolor\":\"white\"},\"title\":{\"x\":0.05},\"mapbox\":{\"style\":\"light\"}}},\"xaxis\":{\"anchor\":\"y\",\"domain\":[0.0,1.0],\"title\":{\"text\":\"Examples seen\"}},\"yaxis\":{\"anchor\":\"x\",\"domain\":[0.0,1.0],\"title\":{\"text\":\"Cross entropy loss\"}},\"legend\":{\"tracegroupgap\":0},\"title\":{\"text\":\"SimpleMLP training on MNIST\"},\"width\":700,\"hovermode\":\"x unified\"},                        {\"displaylogo\": false, \"responsive\": true}                    ).then(function(){\n",
              "                            \n",
              "var gd = document.getElementById('014d5428-e501-4571-a1b3-2f03d40940c9');\n",
              "var x = new MutationObserver(function (mutations, observer) {{\n",
              "        var display = window.getComputedStyle(gd).display;\n",
              "        if (!display || display === 'none') {{\n",
              "            console.log([gd, 'removed!']);\n",
              "            Plotly.purge(gd);\n",
              "            observer.disconnect();\n",
              "        }}\n",
              "}});\n",
              "\n",
              "// Listen for the removal of the full notebook cells\n",
              "var notebookContainer = gd.closest('#notebook-container');\n",
              "if (notebookContainer) {{\n",
              "    x.observe(notebookContainer, {childList: true});\n",
              "}}\n",
              "\n",
              "// Listen for the clearing of the current output cell\n",
              "var outputEl = gd.closest('.output');\n",
              "if (outputEl) {{\n",
              "    x.observe(outputEl, {childList: true});\n",
              "}}\n",
              "\n",
              "                        })                };                            </script>        </div>\n",
              "</body>\n",
              "</html>"
            ]
          },
          "metadata": {}
        }
      ],
      "source": [
        "line(\n",
        "    loss_list,\n",
        "    x_max=args.epochs * len(mnist_trainset),\n",
        "    labels={\"x\": \"Examples seen\", \"y\": \"Cross entropy loss\"},\n",
        "    title=\"SimpleMLP training on MNIST\",\n",
        "    width=700,\n",
        ")"
      ]
    },
    {
      "cell_type": "markdown",
      "metadata": {
        "id": "F8FmnnlgBLI5"
      },
      "source": [
        "### Exercise - add a validation loop\n",
        "\n",
        "> ```yaml\n",
        "> Difficulty: 🔴🔴🔴⚪⚪\n",
        "> Importance: 🔵🔵🔵🔵🔵\n",
        ">\n",
        "> You should spend up to ~20 minutes on this exercise.\n",
        "> It is very important that you understand training loops and how they work, because we'll be doing a lot of model training in this way.\n",
        "> ```\n",
        "\n",
        "Edit the `train` function above to include a validation loop. Train your model, making sure you measure the accuracy at the end of each epoch.\n",
        "\n",
        "Here are a few tips to help you:\n",
        "\n",
        "* You'll need a dataloader for the testset, just like we did for the trainset. It doesn't matter whether you shuffle the testset or not, because we're not updating our model parameters during validation (we usually set `shuffle=False` for testsets).\n",
        "    * You can set the same batch size as for your training set (we'll discuss more optimal choices for this later in the course).\n",
        "* During the validation step, you should be measuring **accuracy**, which is defined as **the fraction of correctly classified images**.\n",
        "    * Note that (unlike loss) accuracy should only be logged after you've gone through the whole validation set. This is because your model doesn't update between computing different accuracies, so it doesn't make sense to log all of them separately.\n",
        "    * Computing accuracy is meant to be a very short operation, so you shouldn't need a progress bar.\n",
        "    * You can wrap your forward pass in `with t.inference_mode():` to make sure that your model is in inference mode during validation (i.e. gradients don't propagate)."
      ]
    },
    {
      "cell_type": "code",
      "execution_count": 25,
      "metadata": {
        "id": "WaV4IvGxBLI6"
      },
      "outputs": [],
      "source": [
        "import torch\n",
        "\n",
        "def train(args: SimpleMLPTrainingArgs) -> tuple[list[float], list[float], SimpleMLP]:\n",
        "    \"\"\"\n",
        "    Trains the model using training parameters from the `args` object.\n",
        "    Returns the trained model, and lists of loss & accuracy per epoch.\n",
        "    \"\"\"\n",
        "    device = torch.device(\"cuda\" if torch.cuda.is_available() else \"cpu\")\n",
        "\n",
        "    # Initialize model\n",
        "    model = SimpleMLP().to(device)\n",
        "    optimizer = torch.optim.Adam(model.parameters(), lr=args.learning_rate)\n",
        "    loss_fn = torch.nn.CrossEntropyLoss()\n",
        "\n",
        "    # Load training and validation datasets\n",
        "    mnist_trainset, mnist_testset = get_mnist()\n",
        "    train_loader = torch.utils.data.DataLoader(mnist_trainset, batch_size=args.batch_size, shuffle=True)\n",
        "    val_loader = torch.utils.data.DataLoader(mnist_testset, batch_size=args.batch_size, shuffle=False)  # No shuffling for validation\n",
        "\n",
        "    loss_list = []\n",
        "    accuracy_list = []\n",
        "\n",
        "    for epoch in range(args.epochs):\n",
        "        # ---- Training Step ----\n",
        "        model.train()  # Set model to training mode\n",
        "        epoch_loss = 0\n",
        "\n",
        "        for batch in train_loader:\n",
        "            # Each batch contains an input and a target\n",
        "            inputs, targets = batch\n",
        "            inputs, targets = inputs.to(device), targets.to(device)\n",
        "\n",
        "            # Reset gradients\n",
        "            optimizer.zero_grad()\n",
        "            # forward() in the model. logits are the pre-softmaxed outputs\n",
        "            logits = model(inputs)\n",
        "            # Compute loss\n",
        "            loss = loss_fn(logits, targets)\n",
        "            # Backprop\n",
        "            loss.backward()\n",
        "            # Gradient descent using loss\n",
        "            optimizer.step()\n",
        "\n",
        "            # Store loss\n",
        "            epoch_loss += loss.item()\n",
        "\n",
        "        # Normalize and append\n",
        "        avg_loss = epoch_loss / len(train_loader)\n",
        "        loss_list.append(avg_loss)\n",
        "\n",
        "        # ---- Validation Step ----\n",
        "        model.eval()  # Set model to evaluation mode\n",
        "        correct = 0\n",
        "        total = 0\n",
        "\n",
        "        with torch.inference_mode():  # Disable gradient computation for validation\n",
        "            for batch in val_loader:\n",
        "                inputs, targets = batch\n",
        "                inputs, targets = inputs.to(device), targets.to(device)\n",
        "\n",
        "\n",
        "                # Produce output probabilities\n",
        "                logits = model(inputs)\n",
        "                # Just take the prediction according to the highest probability.\n",
        "                predictions = torch.argmax(logits, dim=1)  # Get predicted class indices\n",
        "                # predictions and targets are tensors, so do an elementwise comparison\n",
        "                correct += (predictions == targets).sum().item()\n",
        "                # Store totals to normalize\n",
        "                total += targets.size(0)\n",
        "\n",
        "        accuracy = correct / total\n",
        "        accuracy_list.append(accuracy)\n",
        "\n",
        "        print(f\"Epoch {epoch+1}: Loss = {avg_loss:.4f}, Validation Accuracy = {accuracy:.4f}\")\n",
        "\n",
        "    return loss_list, accuracy_list, model\n"
      ]
    },
    {
      "cell_type": "code",
      "execution_count": 26,
      "metadata": {
        "id": "wyXxDoJ_BLI7",
        "colab": {
          "base_uri": "https://localhost:8080/",
          "height": 597
        },
        "outputId": "3664fe4f-81e5-418d-e186-75ecfdbf44f7"
      },
      "outputs": [
        {
          "output_type": "stream",
          "name": "stdout",
          "text": [
            "Epoch 1: Loss = 2.3020, Validation Accuracy = 0.1260\n",
            "Epoch 2: Loss = 2.3011, Validation Accuracy = 0.1260\n",
            "Epoch 3: Loss = 2.3008, Validation Accuracy = 0.1260\n"
          ]
        },
        {
          "output_type": "display_data",
          "data": {
            "text/html": [
              "<html>\n",
              "<head><meta charset=\"utf-8\" /></head>\n",
              "<body>\n",
              "    <div>            <script src=\"https://cdnjs.cloudflare.com/ajax/libs/mathjax/2.7.5/MathJax.js?config=TeX-AMS-MML_SVG\"></script><script type=\"text/javascript\">if (window.MathJax && window.MathJax.Hub && window.MathJax.Hub.Config) {window.MathJax.Hub.Config({SVG: {font: \"STIX-Web\"}});}</script>                <script type=\"text/javascript\">window.PlotlyConfig = {MathJaxConfig: 'local'};</script>\n",
              "        <script charset=\"utf-8\" src=\"https://cdn.plot.ly/plotly-2.35.2.min.js\"></script>                <div id=\"cf0a05b5-deb6-4084-b0f7-12eed9527a64\" class=\"plotly-graph-div\" style=\"height:525px; width:800px;\"></div>            <script type=\"text/javascript\">                                    window.PLOTLYENV=window.PLOTLYENV || {};                                    if (document.getElementById(\"cf0a05b5-deb6-4084-b0f7-12eed9527a64\")) {                    Plotly.newPlot(                        \"cf0a05b5-deb6-4084-b0f7-12eed9527a64\",                        [{\"name\":\"Cross entropy loss\",\"x\":[0.0,15000.0,30000.0],\"y\":[2.302024522404762,2.3011246775365937,2.300763493130921],\"type\":\"scatter\",\"xaxis\":\"x\",\"yaxis\":\"y\"},{\"name\":\"Test Accuracy\",\"x\":[0.0,10000.0,20000.0,30000.0],\"y\":[0.1,0.126,0.126,0.126],\"type\":\"scatter\",\"xaxis\":\"x\",\"yaxis\":\"y2\"}],                        {\"template\":{\"data\":{\"histogram2dcontour\":[{\"type\":\"histogram2dcontour\",\"colorbar\":{\"outlinewidth\":0,\"ticks\":\"\"},\"colorscale\":[[0.0,\"#0d0887\"],[0.1111111111111111,\"#46039f\"],[0.2222222222222222,\"#7201a8\"],[0.3333333333333333,\"#9c179e\"],[0.4444444444444444,\"#bd3786\"],[0.5555555555555556,\"#d8576b\"],[0.6666666666666666,\"#ed7953\"],[0.7777777777777778,\"#fb9f3a\"],[0.8888888888888888,\"#fdca26\"],[1.0,\"#f0f921\"]]}],\"choropleth\":[{\"type\":\"choropleth\",\"colorbar\":{\"outlinewidth\":0,\"ticks\":\"\"}}],\"histogram2d\":[{\"type\":\"histogram2d\",\"colorbar\":{\"outlinewidth\":0,\"ticks\":\"\"},\"colorscale\":[[0.0,\"#0d0887\"],[0.1111111111111111,\"#46039f\"],[0.2222222222222222,\"#7201a8\"],[0.3333333333333333,\"#9c179e\"],[0.4444444444444444,\"#bd3786\"],[0.5555555555555556,\"#d8576b\"],[0.6666666666666666,\"#ed7953\"],[0.7777777777777778,\"#fb9f3a\"],[0.8888888888888888,\"#fdca26\"],[1.0,\"#f0f921\"]]}],\"heatmap\":[{\"type\":\"heatmap\",\"colorbar\":{\"outlinewidth\":0,\"ticks\":\"\"},\"colorscale\":[[0.0,\"#0d0887\"],[0.1111111111111111,\"#46039f\"],[0.2222222222222222,\"#7201a8\"],[0.3333333333333333,\"#9c179e\"],[0.4444444444444444,\"#bd3786\"],[0.5555555555555556,\"#d8576b\"],[0.6666666666666666,\"#ed7953\"],[0.7777777777777778,\"#fb9f3a\"],[0.8888888888888888,\"#fdca26\"],[1.0,\"#f0f921\"]]}],\"heatmapgl\":[{\"type\":\"heatmapgl\",\"colorbar\":{\"outlinewidth\":0,\"ticks\":\"\"},\"colorscale\":[[0.0,\"#0d0887\"],[0.1111111111111111,\"#46039f\"],[0.2222222222222222,\"#7201a8\"],[0.3333333333333333,\"#9c179e\"],[0.4444444444444444,\"#bd3786\"],[0.5555555555555556,\"#d8576b\"],[0.6666666666666666,\"#ed7953\"],[0.7777777777777778,\"#fb9f3a\"],[0.8888888888888888,\"#fdca26\"],[1.0,\"#f0f921\"]]}],\"contourcarpet\":[{\"type\":\"contourcarpet\",\"colorbar\":{\"outlinewidth\":0,\"ticks\":\"\"}}],\"contour\":[{\"type\":\"contour\",\"colorbar\":{\"outlinewidth\":0,\"ticks\":\"\"},\"colorscale\":[[0.0,\"#0d0887\"],[0.1111111111111111,\"#46039f\"],[0.2222222222222222,\"#7201a8\"],[0.3333333333333333,\"#9c179e\"],[0.4444444444444444,\"#bd3786\"],[0.5555555555555556,\"#d8576b\"],[0.6666666666666666,\"#ed7953\"],[0.7777777777777778,\"#fb9f3a\"],[0.8888888888888888,\"#fdca26\"],[1.0,\"#f0f921\"]]}],\"surface\":[{\"type\":\"surface\",\"colorbar\":{\"outlinewidth\":0,\"ticks\":\"\"},\"colorscale\":[[0.0,\"#0d0887\"],[0.1111111111111111,\"#46039f\"],[0.2222222222222222,\"#7201a8\"],[0.3333333333333333,\"#9c179e\"],[0.4444444444444444,\"#bd3786\"],[0.5555555555555556,\"#d8576b\"],[0.6666666666666666,\"#ed7953\"],[0.7777777777777778,\"#fb9f3a\"],[0.8888888888888888,\"#fdca26\"],[1.0,\"#f0f921\"]]}],\"mesh3d\":[{\"type\":\"mesh3d\",\"colorbar\":{\"outlinewidth\":0,\"ticks\":\"\"}}],\"scatter\":[{\"fillpattern\":{\"fillmode\":\"overlay\",\"size\":10,\"solidity\":0.2},\"type\":\"scatter\"}],\"parcoords\":[{\"type\":\"parcoords\",\"line\":{\"colorbar\":{\"outlinewidth\":0,\"ticks\":\"\"}}}],\"scatterpolargl\":[{\"type\":\"scatterpolargl\",\"marker\":{\"colorbar\":{\"outlinewidth\":0,\"ticks\":\"\"}}}],\"bar\":[{\"error_x\":{\"color\":\"#2a3f5f\"},\"error_y\":{\"color\":\"#2a3f5f\"},\"marker\":{\"line\":{\"color\":\"#E5ECF6\",\"width\":0.5},\"pattern\":{\"fillmode\":\"overlay\",\"size\":10,\"solidity\":0.2}},\"type\":\"bar\"}],\"scattergeo\":[{\"type\":\"scattergeo\",\"marker\":{\"colorbar\":{\"outlinewidth\":0,\"ticks\":\"\"}}}],\"scatterpolar\":[{\"type\":\"scatterpolar\",\"marker\":{\"colorbar\":{\"outlinewidth\":0,\"ticks\":\"\"}}}],\"histogram\":[{\"marker\":{\"pattern\":{\"fillmode\":\"overlay\",\"size\":10,\"solidity\":0.2}},\"type\":\"histogram\"}],\"scattergl\":[{\"type\":\"scattergl\",\"marker\":{\"colorbar\":{\"outlinewidth\":0,\"ticks\":\"\"}}}],\"scatter3d\":[{\"type\":\"scatter3d\",\"line\":{\"colorbar\":{\"outlinewidth\":0,\"ticks\":\"\"}},\"marker\":{\"colorbar\":{\"outlinewidth\":0,\"ticks\":\"\"}}}],\"scattermapbox\":[{\"type\":\"scattermapbox\",\"marker\":{\"colorbar\":{\"outlinewidth\":0,\"ticks\":\"\"}}}],\"scatterternary\":[{\"type\":\"scatterternary\",\"marker\":{\"colorbar\":{\"outlinewidth\":0,\"ticks\":\"\"}}}],\"scattercarpet\":[{\"type\":\"scattercarpet\",\"marker\":{\"colorbar\":{\"outlinewidth\":0,\"ticks\":\"\"}}}],\"carpet\":[{\"aaxis\":{\"endlinecolor\":\"#2a3f5f\",\"gridcolor\":\"white\",\"linecolor\":\"white\",\"minorgridcolor\":\"white\",\"startlinecolor\":\"#2a3f5f\"},\"baxis\":{\"endlinecolor\":\"#2a3f5f\",\"gridcolor\":\"white\",\"linecolor\":\"white\",\"minorgridcolor\":\"white\",\"startlinecolor\":\"#2a3f5f\"},\"type\":\"carpet\"}],\"table\":[{\"cells\":{\"fill\":{\"color\":\"#EBF0F8\"},\"line\":{\"color\":\"white\"}},\"header\":{\"fill\":{\"color\":\"#C8D4E3\"},\"line\":{\"color\":\"white\"}},\"type\":\"table\"}],\"barpolar\":[{\"marker\":{\"line\":{\"color\":\"#E5ECF6\",\"width\":0.5},\"pattern\":{\"fillmode\":\"overlay\",\"size\":10,\"solidity\":0.2}},\"type\":\"barpolar\"}],\"pie\":[{\"automargin\":true,\"type\":\"pie\"}]},\"layout\":{\"autotypenumbers\":\"strict\",\"colorway\":[\"#636efa\",\"#EF553B\",\"#00cc96\",\"#ab63fa\",\"#FFA15A\",\"#19d3f3\",\"#FF6692\",\"#B6E880\",\"#FF97FF\",\"#FECB52\"],\"font\":{\"color\":\"#2a3f5f\"},\"hovermode\":\"closest\",\"hoverlabel\":{\"align\":\"left\"},\"paper_bgcolor\":\"white\",\"plot_bgcolor\":\"#E5ECF6\",\"polar\":{\"bgcolor\":\"#E5ECF6\",\"angularaxis\":{\"gridcolor\":\"white\",\"linecolor\":\"white\",\"ticks\":\"\"},\"radialaxis\":{\"gridcolor\":\"white\",\"linecolor\":\"white\",\"ticks\":\"\"}},\"ternary\":{\"bgcolor\":\"#E5ECF6\",\"aaxis\":{\"gridcolor\":\"white\",\"linecolor\":\"white\",\"ticks\":\"\"},\"baxis\":{\"gridcolor\":\"white\",\"linecolor\":\"white\",\"ticks\":\"\"},\"caxis\":{\"gridcolor\":\"white\",\"linecolor\":\"white\",\"ticks\":\"\"}},\"coloraxis\":{\"colorbar\":{\"outlinewidth\":0,\"ticks\":\"\"}},\"colorscale\":{\"sequential\":[[0.0,\"#0d0887\"],[0.1111111111111111,\"#46039f\"],[0.2222222222222222,\"#7201a8\"],[0.3333333333333333,\"#9c179e\"],[0.4444444444444444,\"#bd3786\"],[0.5555555555555556,\"#d8576b\"],[0.6666666666666666,\"#ed7953\"],[0.7777777777777778,\"#fb9f3a\"],[0.8888888888888888,\"#fdca26\"],[1.0,\"#f0f921\"]],\"sequentialminus\":[[0.0,\"#0d0887\"],[0.1111111111111111,\"#46039f\"],[0.2222222222222222,\"#7201a8\"],[0.3333333333333333,\"#9c179e\"],[0.4444444444444444,\"#bd3786\"],[0.5555555555555556,\"#d8576b\"],[0.6666666666666666,\"#ed7953\"],[0.7777777777777778,\"#fb9f3a\"],[0.8888888888888888,\"#fdca26\"],[1.0,\"#f0f921\"]],\"diverging\":[[0,\"#8e0152\"],[0.1,\"#c51b7d\"],[0.2,\"#de77ae\"],[0.3,\"#f1b6da\"],[0.4,\"#fde0ef\"],[0.5,\"#f7f7f7\"],[0.6,\"#e6f5d0\"],[0.7,\"#b8e186\"],[0.8,\"#7fbc41\"],[0.9,\"#4d9221\"],[1,\"#276419\"]]},\"xaxis\":{\"gridcolor\":\"white\",\"linecolor\":\"white\",\"ticks\":\"\",\"title\":{\"standoff\":15},\"zerolinecolor\":\"white\",\"automargin\":true,\"zerolinewidth\":2},\"yaxis\":{\"gridcolor\":\"white\",\"linecolor\":\"white\",\"ticks\":\"\",\"title\":{\"standoff\":15},\"zerolinecolor\":\"white\",\"automargin\":true,\"zerolinewidth\":2},\"scene\":{\"xaxis\":{\"backgroundcolor\":\"#E5ECF6\",\"gridcolor\":\"white\",\"linecolor\":\"white\",\"showbackground\":true,\"ticks\":\"\",\"zerolinecolor\":\"white\",\"gridwidth\":2},\"yaxis\":{\"backgroundcolor\":\"#E5ECF6\",\"gridcolor\":\"white\",\"linecolor\":\"white\",\"showbackground\":true,\"ticks\":\"\",\"zerolinecolor\":\"white\",\"gridwidth\":2},\"zaxis\":{\"backgroundcolor\":\"#E5ECF6\",\"gridcolor\":\"white\",\"linecolor\":\"white\",\"showbackground\":true,\"ticks\":\"\",\"zerolinecolor\":\"white\",\"gridwidth\":2}},\"shapedefaults\":{\"line\":{\"color\":\"#2a3f5f\"}},\"annotationdefaults\":{\"arrowcolor\":\"#2a3f5f\",\"arrowhead\":0,\"arrowwidth\":1},\"geo\":{\"bgcolor\":\"white\",\"landcolor\":\"#E5ECF6\",\"subunitcolor\":\"white\",\"showland\":true,\"showlakes\":true,\"lakecolor\":\"white\"},\"title\":{\"x\":0.05},\"mapbox\":{\"style\":\"light\"}}},\"xaxis\":{\"anchor\":\"y\",\"domain\":[0.0,0.94],\"title\":{\"text\":\"Num examples seen\"}},\"yaxis\":{\"anchor\":\"x\",\"domain\":[0.0,1.0],\"title\":{\"text\":\"Cross entropy loss\"}},\"yaxis2\":{\"anchor\":\"x\",\"overlaying\":\"y\",\"side\":\"right\",\"title\":{\"text\":\"Test Accuracy\"}},\"hovermode\":\"x unified\",\"title\":{\"text\":\"SimpleMLP training on MNIST\"},\"width\":800},                        {\"displaylogo\": false, \"responsive\": true}                    ).then(function(){\n",
              "                            \n",
              "var gd = document.getElementById('cf0a05b5-deb6-4084-b0f7-12eed9527a64');\n",
              "var x = new MutationObserver(function (mutations, observer) {{\n",
              "        var display = window.getComputedStyle(gd).display;\n",
              "        if (!display || display === 'none') {{\n",
              "            console.log([gd, 'removed!']);\n",
              "            Plotly.purge(gd);\n",
              "            observer.disconnect();\n",
              "        }}\n",
              "}});\n",
              "\n",
              "// Listen for the removal of the full notebook cells\n",
              "var notebookContainer = gd.closest('#notebook-container');\n",
              "if (notebookContainer) {{\n",
              "    x.observe(notebookContainer, {childList: true});\n",
              "}}\n",
              "\n",
              "// Listen for the clearing of the current output cell\n",
              "var outputEl = gd.closest('.output');\n",
              "if (outputEl) {{\n",
              "    x.observe(outputEl, {childList: true});\n",
              "}}\n",
              "\n",
              "                        })                };                            </script>        </div>\n",
              "</body>\n",
              "</html>"
            ]
          },
          "metadata": {}
        }
      ],
      "source": [
        "# ... (Previous code, including the `train` function definition)\n",
        "\n",
        "args = SimpleMLPTrainingArgs(\n",
        "    batch_size=64,\n",
        "    epochs=3,\n",
        "    learning_rate=1e-3\n",
        ")\n",
        "# Call the train function and assign the returned values to variables\n",
        "loss_list, accuracy_list, model = train(args)\n",
        "\n",
        "# ... (Rest of the code in cell 17)\n",
        "\n",
        "line(\n",
        "    y=[loss_list, [0.1] + accuracy_list],  # we start by assuming a uniform accuracy of 10%\n",
        "    use_secondary_yaxis=True,\n",
        "    x_max=args.epochs * len(mnist_trainset),\n",
        "    labels={\"x\": \"Num examples seen\", \"y1\": \"Cross entropy loss\", \"y2\": \"Test Accuracy\"},\n",
        "    title=\"SimpleMLP training on MNIST\",\n",
        "    width=800,\n",
        ")"
      ]
    },
    {
      "cell_type": "markdown",
      "metadata": {
        "id": "Q3Rozv_7BLI7"
      },
      "source": [
        "<details>\n",
        "<summary>Help - I'm not sure how to measure correct classifications.</summary>\n",
        "\n",
        "You can take argmax of the output of your model, using `torch.argmax` (with the keyword argument `dim` to specify the dimension you want to take max over).\n",
        "\n",
        "</details>\n",
        "\n",
        "<details>\n",
        "<summary>Help - I get <code>RuntimeError: expected scalar type Float but found Byte</code>.</summary>\n",
        "\n",
        "This is commonly because one of your operations is between tensors with the wrong datatypes (e.g. `int` and `float`). You can try adding assert or logging statements in your code, or alternatively if you're in VSCode then you can try navigating to the error line and checking your dtypes using VSCode's built-in debugger.\n",
        "</details>\n",
        "\n",
        "\n",
        "<details><summary>Solution</summary>\n",
        "\n",
        "```python\n",
        "def train(args: SimpleMLPTrainingArgs) -> tuple[list[float], list[float], SimpleMLP]:\n",
        "    \"\"\"\n",
        "    Trains the model, using training parameters from the `args` object. Returns the model, and lists of loss & accuracy.\n",
        "    \"\"\"\n",
        "    model = SimpleMLP().to(device)\n",
        "\n",
        "    mnist_trainset, mnist_testset = get_mnist()\n",
        "    mnist_trainloader = DataLoader(mnist_trainset, batch_size=args.batch_size, shuffle=True)\n",
        "    mnist_testloader = DataLoader(mnist_testset, batch_size=args.batch_size, shuffle=False)\n",
        "\n",
        "    optimizer = t.optim.Adam(model.parameters(), lr=args.learning_rate)\n",
        "\n",
        "    loss_list = []\n",
        "    accuracy_list = []\n",
        "    accuracy = 0.0\n",
        "\n",
        "    for epoch in range(args.epochs):\n",
        "        # Training loop\n",
        "        pbar = tqdm(mnist_trainloader)\n",
        "        for imgs, labels in pbar:\n",
        "            # Move data to device, perform forward pass\n",
        "            imgs, labels = imgs.to(device), labels.to(device)\n",
        "            logits = model(imgs)\n",
        "\n",
        "            # Calculate loss, perform backward pass\n",
        "            loss = F.cross_entropy(logits, labels)\n",
        "            loss.backward()\n",
        "            optimizer.step()\n",
        "            optimizer.zero_grad()\n",
        "\n",
        "            # Update logs & progress bar\n",
        "            loss_list.append(loss.item())\n",
        "            pbar.set_postfix(epoch=f\"{epoch+1}/{epochs}\", loss=f\"{loss:.3f}\")\n",
        "\n",
        "        # Validation loop\n",
        "        num_correct_classifications = 0\n",
        "        for imgs, labels in mnist_testloader:\n",
        "            # Move data to device, perform forward pass in inference mode\n",
        "            imgs, labels = imgs.to(device), labels.to(device)\n",
        "            with t.inference_mode():\n",
        "                logits = model(imgs)\n",
        "\n",
        "            # Compute num correct by comparing argmaxed logits to true labels\n",
        "            predictions = t.argmax(logits, dim=1)\n",
        "            num_correct_classifications += (predictions == labels).sum().item()\n",
        "\n",
        "        # Compute & log total accuracy\n",
        "        accuracy = num_correct_classifications / len(mnist_testset)\n",
        "        accuracy_list.append(accuracy)\n",
        "\n",
        "    return loss_list, accuracy_list, model\n",
        "```\n",
        "</details>"
      ]
    },
    {
      "cell_type": "markdown",
      "metadata": {
        "id": "-WFdlJFCBLI8"
      },
      "source": [
        "You should find that after the first epoch, the model is already doing much better than random chance (i.e. >80%), and it improves slightly in subsequent epochs."
      ]
    },
    {
      "cell_type": "markdown",
      "metadata": {
        "id": "_iOIw4fABLI9"
      },
      "source": [
        "# 3️⃣ Convolutions\n",
        "\n",
        "> ##### Learning Objectives\n",
        ">\n",
        "> * Learn how convolutions work, and why they are useful for vision models\n",
        "> * Implement your own convolutions, and maxpooling layers"
      ]
    },
    {
      "cell_type": "markdown",
      "metadata": {
        "id": "kXvNszlGBLI9"
      },
      "source": [
        "_Note, this section is light on exercises, because it actually ends up being surprisingly hard to implement convolutional and linear operations from scratch (unlike the case for linear layers). It requires engaging with **strides**, an under-the-hood attribute of PyTorch tensors which we usually don't think about in regular work. For this reason, this section focuses more on understanding how convolutions work & giving you implementations of it, rather than asking you to implement it from scratch. There are implementation from scratch exercises in the bonus section at the end of today's material, if you get that far!_"
      ]
    },
    {
      "cell_type": "markdown",
      "metadata": {
        "id": "l9NzLv9uBLI-"
      },
      "source": [
        "## Reading\n",
        "\n",
        "We strongly recommend you at least watch the video in the first bullet point. The second article is recommended, but not essential. The third is more for interest (and will be more relevant next week, when we study interpretability).\n",
        "\n",
        "* [But what is a convolution?](https://www.youtube.com/watch?v=KuXjwB4LzSA) by 3Blue1Brown\n",
        "* [A Comprehensive Guide to Convolutional Neural Networks (TowardsDataScience)](https://towardsdatascience.com/a-comprehensive-guide-to-convolutional-neural-networks-the-eli5-way-3bd2b1164a53)\n",
        "* [Zoom In: An Introduction to Circuits](https://distill.pub/2020/circuits/zoom-in/)"
      ]
    },
    {
      "cell_type": "markdown",
      "metadata": {
        "id": "PPonY1pzBLI-"
      },
      "source": [
        "## What are convolutions?\n",
        "\n",
        "A convolution is an operation which takes a kernel and slides it across the input, applying the kernel to each patch of the input. We can view it as a logical extension of the linear layer, except rather than having every output value being determined as a linear combination of every input value, we have a **prior of locality** - assuming that the input has some spatial structure, and each output value should only be determined by a small patch of the input. The kernel contains our learned weights, and we slide that kernel across our input, with each output value being computed by a sumproduct of the kernel values and the corresponding patch in the input. Note that we use all input channels when computing each output value, which means the sumproduct is over `kernel_length * in_channels` elements (or `kernel_width * kernel_height * in_channels` when, as is most often the case, we're using 2D kernels)."
      ]
    },
    {
      "cell_type": "markdown",
      "metadata": {
        "id": "c3liUzqiBLI_"
      },
      "source": [
        "### Mathematical definition\n",
        "\n",
        "Convolutions have 4 important parameters:\n",
        "\n",
        "- **Size** - the size of the kernel, i.e. the size of each patch of the input that the kernel is applied to when computing each output value.\n",
        "- **Stride** - the distance the kernel moves each time it is applied.\n",
        "- **Padding** - the number of pixels we pad around the input on each side.\n",
        "- **Output channels** - the number of separate kernels of shape `(in_channels, kernel_width, kernel_height)` we apply to the input. Each separate kernel has different learned weights, and will produce a separate output channel.\n",
        "\n",
        "Below is an illustration with `size=(3,3), stride=1, padding=1`, three input channels and a single output channel.\n",
        "\n",
        "<img src=\"https://miro.medium.com/v2/resize:fit:1400/1*ciDgQEjViWLnCbmX-EeSrA.gif\" width=\"800\">\n",
        "\n",
        "For width or height, we can compute the output dim size as a function of the input dim and convolution parameters:\n",
        "\n",
        "$$\n",
        "L_{\\text {out }}=\\left\\lfloor\\dfrac{L_{\\text {in }}+2 \\times \\text { padding }- \\text { kernel\\_size }}{\\text { stride }}+1\\right\\rfloor\n",
        "$$\n",
        "\n",
        "Notably, with our parameters `size=(3,3), stride=1, padding=1` this simplifies to $L_{\\text{out}} = \\left\\lfloor\\frac{L_{\\text{in}} + 2 - 3}{1} + 1\\right\\rfloor = L_{\\text{in}}$. We refer to this as a **shape-preserving convolution**, because the input & output dimensions for width/height are the same. This is quite useful because often when building neural networks we have to be careful to match the shapes of different tensors (otherwise skip connections will fail - we can't add together `x + conv(x)` if they're different shapes!).\n",
        "\n",
        "> A quick note on terminology - you might see docs and docstrings use `num_features`, sometimes use `channels` (sometimes abbreviated as $N_{in}$ or $C$ in PyTorch docs). When we're talking about convolutions specifically, these usually mean the same thing."
      ]
    },
    {
      "cell_type": "markdown",
      "metadata": {
        "id": "mXQRI1O3BLI_"
      },
      "source": [
        "### What do convolutions learn?\n",
        "\n",
        "The terminology `num_features` hints at this, but often convolutions can be thought of as learning certain features from our data. For instance, there's evidence to suggest that early convolutional layers pick up on very simple low-level features such as edges, corners and curves, whereas later convolutional layers are able to combine these lower-level features hierarchically to form more complex representations.\n",
        "\n",
        "For more on this, we recommend the Distill post [Zoom In: An Introduction to Circuits](https://distill.pub/2020/circuits/zoom-in/), which discusses various lines of evidence for interpreting the features learned by convolutional layers (and how they connect up to form circuits). Interestingly, this post philosophically underpins quite a lot of the current interpretability field - even though the focus has primarily shifted from vision models to language models, many of the underlying ideas remain the same.\n",
        "\n",
        "<img src=\"https://distill.pub/2020/circuits/zoom-in/images/curves.png\" width=\"700\">"
      ]
    },
    {
      "cell_type": "markdown",
      "metadata": {
        "id": "58-aySVaBLJA"
      },
      "source": [
        "### Some questions about convolutions\n",
        "\n",
        "Here are some questions about convolutions to make sure you've understood the material. You should try and answer these questions without referring back to the article or video above.\n",
        "\n",
        "<details>\n",
        "<summary>Why would convolutional layers be less likely to overfit data than standard linear (fully connected) layers?</summary>\n",
        "\n",
        "Convolutional layers require significantly fewer weights to be learned. This is because the same kernel is applied all across the image, rather than every pair of `(input, output)` nodes requiring a different weight to be learned.\n",
        "</details>\n",
        "\n",
        "<details>\n",
        "<summary>Suppose you fixed some random permutation of the pixels in an image, and applied this to all images in your dataset, before training a convolutional neural network for classifying images. Do you expect this to be less effective, or equally effective?</summary>\n",
        "\n",
        "It will be less effective, because CNNs work thanks to **spatial locality** - groups of pixels close together are more meaningful. For instance, CNNs will often learn convolutions at an early layer which recognise gradients or simple shapes. If you permute the pixels (even if you permute in the same way for every image), you destroy locality.\n",
        "</details>\n",
        "\n",
        "<details>\n",
        "<summary>If you have a 28x28 image, and you apply a 3x3 convolution with stride 2, padding 1, and 5 output channels, what shape will the output be?</summary>\n",
        "\n",
        "Applying the formula above, we get:\n",
        "\n",
        "$\n",
        "L_{\\text {out }}=\\left\\lfloor\\frac{L_{\\text {in }}+2 \\times \\text { padding }- \\text { kernel\\_size }}{\\text { stride }}+1\\right\\rfloor = \\left\\lfloor\\frac{28 + 2 \\times 1 - 3}{2} + 1\\right\\rfloor = 14\n",
        "$\n",
        "\n",
        "So our image has width & height 14. The shape will go from `(3, 28, 28)` to `(5, 14, 14)` (since the output dimensions are `out_channels, width, height`).\n",
        "\n",
        "As a general rule, a 3x3 convolution with padding 1, stride `stride` and input images with shape `(width, height)` will map to an output shape of `(width // stride, height // stride)`. This will be useful when we study GANs tomorrow, and we'll assemble a series of 3x3 convolutions with padding 1 and stride 2, which should each halve our input image size.\n",
        "\n",
        "</details>"
      ]
    },
    {
      "cell_type": "markdown",
      "metadata": {
        "id": "YzwBls_ZBLJB"
      },
      "source": [
        "### Exercise - implement `Conv2d`\n",
        "\n",
        "> ```yaml\n",
        "> Difficulty: 🔴🔴⚪⚪⚪\n",
        "> Importance: 🔵🔵🔵⚪⚪\n",
        ">\n",
        "> You should spend up to 10-20 minutes on this exercise.\n",
        "> This only requires you to create the conv weights - making your own fwd pass method is a bonus exercise later.\n",
        "> ```\n",
        "\n",
        "Rather than implementing the `conv2d` function from scratch, we'll allow you to use `t.nn.functional.conv2d`. In the exercise below, you should use this function to implement the `nn.Conv2d` layer. All you need to do is fill in the `__init__` method. Some guidance:\n",
        "\n",
        "- You should look at the PyTorch page for `nn.Conv2d` [here](https://pytorch.org/docs/stable/generated/torch.nn.Conv2d.html) (and review the discussion above) to understand what the shape of the weights should be.\n",
        "- We assume `bias=False`, so the only `nn.Parameter` object we need to define is `weight`.\n",
        "- You should use **uniform Kaiming initialization** like you have before, i.e. the bounds of the uniform distribution should be $\\pm 1/\\sqrt{N_{in}}$ where $N_{in}$ is the product of input channels and kernel height & width, as described at the bottom of the `nn.Conv2d` docs (the bullet points under the **Variables** header).\n",
        "\n",
        "<details>\n",
        "<summary>Question - why do you think we use the product of input channels and kernel height & width for our Kaiming initialization bounds?</summary>\n",
        "\n",
        "This is because each value in the output is computed by taking the product over `in_channels * kernel_height * kernel_width` elements, analogously to how each value in the linear layer is computed by taking the product over just `in_features` elements.\n",
        "\n",
        "</details>"
      ]
    },
    {
      "cell_type": "code",
      "execution_count": null,
      "metadata": {
        "id": "KemGkEzABLJB"
      },
      "outputs": [],
      "source": [
        "class Conv2d(nn.Module):\n",
        "    def __init__(self, in_channels: int, out_channels: int, kernel_size: int, stride: int = 1, padding: int = 0):\n",
        "        \"\"\"\n",
        "        Same as torch.nn.Conv2d with bias=False.\n",
        "\n",
        "        Name your weight field `self.weight` for compatibility with the PyTorch version.\n",
        "\n",
        "        We assume kernel is square, with height = width = `kernel_size`.\n",
        "        \"\"\"\n",
        "        super().__init__()\n",
        "        self.in_channels = in_channels\n",
        "        self.out_channels = out_channels\n",
        "        self.kernel_size = kernel_size\n",
        "        self.stride = stride\n",
        "        self.padding = padding\n",
        "\n",
        "        # YOUR CODE HERE - define & initialize `self.weight`\n",
        "        raise NotImplementedError()\n",
        "\n",
        "    def forward(self, x: Tensor) -> Tensor:\n",
        "        \"\"\"Apply the functional conv2d, which you can import.\"\"\"\n",
        "        return t.nn.functional.conv2d(x, self.weight, stride=self.stride, padding=self.padding)\n",
        "\n",
        "    def extra_repr(self) -> str:\n",
        "        keys = [\"in_channels\", \"out_channels\", \"kernel_size\", \"stride\", \"padding\"]\n",
        "        return \", \".join([f\"{key}={getattr(self, key)}\" for key in keys])\n",
        "\n",
        "\n",
        "tests.test_conv2d_module(Conv2d)\n",
        "m = Conv2d(in_channels=24, out_channels=12, kernel_size=3, stride=2, padding=1)\n",
        "print(f\"Manually verify that this is an informative repr: {m}\")"
      ]
    },
    {
      "cell_type": "markdown",
      "metadata": {
        "id": "bdpTCTLqBLJC"
      },
      "source": [
        "<details><summary>Solution</summary>\n",
        "\n",
        "```python\n",
        "class Conv2d(nn.Module):\n",
        "    def __init__(self, in_channels: int, out_channels: int, kernel_size: int, stride: int = 1, padding: int = 0):\n",
        "        \"\"\"\n",
        "        Same as torch.nn.Conv2d with bias=False.\n",
        "\n",
        "        Name your weight field `self.weight` for compatibility with the PyTorch version.\n",
        "\n",
        "        We assume kernel is square, with height = width = `kernel_size`.\n",
        "        \"\"\"\n",
        "        super().__init__()\n",
        "        self.in_channels = in_channels\n",
        "        self.out_channels = out_channels\n",
        "        self.kernel_size = kernel_size\n",
        "        self.stride = stride\n",
        "        self.padding = padding\n",
        "\n",
        "        kernel_height = kernel_width = kernel_size\n",
        "        sf = 1 / np.sqrt(in_channels * kernel_width * kernel_height)\n",
        "        self.weight = nn.Parameter(sf * (2 * t.rand(out_channels, in_channels, kernel_height, kernel_width) - 1))\n",
        "\n",
        "    def forward(self, x: Tensor) -> Tensor:\n",
        "        \"\"\"Apply the functional conv2d, which you can import.\"\"\"\n",
        "        return t.nn.functional.conv2d(x, self.weight, stride=self.stride, padding=self.padding)\n",
        "\n",
        "    def extra_repr(self) -> str:\n",
        "        keys = [\"in_channels\", \"out_channels\", \"kernel_size\", \"stride\", \"padding\"]\n",
        "        return \", \".join([f\"{key}={getattr(self, key)}\" for key in keys])\n",
        "```\n",
        "</details>"
      ]
    },
    {
      "cell_type": "markdown",
      "metadata": {
        "id": "S3yY9uTlBLJC"
      },
      "source": [
        "### `MaxPool2d`\n",
        "\n",
        "We often add a maxpool layer after a convolutional layer. This layer is responsible for reducing the spatial size of the convolved feature. It works by taking the maximum value in each kernel-sized window, and outputting that value. For instance, if we have a 2x2 kernel, then we take the maximum of each 2x2 window in the input.\n",
        "\n",
        "Maxpool is useful for downsampling the image (reducing the total amount of data we're having to work with), as well as extracting dominant features in the image. For example, if we're training a model for classification, the model might find it useful to create a \"wheel detector\" to identify whether a wheel is present in the image - even if most chunks of the image don't contain a wheel, we care more about whether a wheel exists _somewhere_ in the image, and so we might only be interested in the largest values.\n",
        "\n",
        "<img src=\"https://miro.medium.com/v2/resize:fit:640/format:webp/1*uoWYsCV5vBU8SHFPAPao-w.gif\" width=\"360\">\n",
        "\n",
        "We've given you `MaxPool2d` below. This is a wrapper for the `max_pool2d` function (although in the bonus exercises later you can implement your own version of this)."
      ]
    },
    {
      "cell_type": "code",
      "execution_count": null,
      "metadata": {
        "id": "t0H4IU1gBLJD"
      },
      "outputs": [],
      "source": [
        "class MaxPool2d(nn.Module):\n",
        "    def __init__(self, kernel_size: int, stride: int | None = None, padding: int = 1):\n",
        "        super().__init__()\n",
        "        self.kernel_size = kernel_size\n",
        "        self.stride = stride\n",
        "        self.padding = padding\n",
        "\n",
        "    def forward(self, x: Tensor) -> Tensor:\n",
        "        \"\"\"Call the functional version of maxpool2d.\"\"\"\n",
        "        return F.max_pool2d(x, kernel_size=self.kernel_size, stride=self.stride, padding=self.padding)\n",
        "\n",
        "    def extra_repr(self) -> str:\n",
        "        \"\"\"Add additional information to the string representation of this class.\"\"\"\n",
        "        return \", \".join([f\"{key}={getattr(self, key)}\" for key in [\"kernel_size\", \"stride\", \"padding\"]])"
      ]
    },
    {
      "cell_type": "markdown",
      "metadata": {
        "id": "LOScxjgCBLJE"
      },
      "source": [
        "# 4️⃣ ResNets\n",
        "\n",
        "> ##### Learning Objectives\n",
        ">\n",
        "> * Learn about skip connections, and how they help overcome the degradation problem\n",
        "> * Learn about batch normalization, and why it is used in training\n",
        "> * Assemble your own ResNet, and load in weights from PyTorch's ResNet implementation"
      ]
    },
    {
      "cell_type": "markdown",
      "metadata": {
        "id": "XOEcgMgLBLJE"
      },
      "source": [
        "## Reading\n",
        "\n",
        "* [Batch Normalization in Convolutional Neural Networks](https://www.baeldung.com/cs/batch-normalization-cnn)\n",
        "* [Deep Residual Learning for Image Recognition](https://arxiv.org/pdf/1512.03385.pdf)\n",
        "\n",
        "You should move on once you can answer the following questions:\n",
        "\n",
        "\n",
        "<details>\n",
        "<summary>\"Batch Normalization allows us to be less careful about initialization.\" Explain this statement.</summary>\n",
        "\n",
        "Weight initialisation methods like Xavier (which we encountered yesterday) are based on the idea of making sure the activations have approximately the same distribution across layers at initialisation. But batch normalisation ensures that this is the case as signals pass through the network.\n",
        "</details>\n",
        "\n",
        "<details>\n",
        "<summary>Give three reasons why batch norm improves the performance of neural networks.</summary>\n",
        "\n",
        "The reasons given in the first linked document above are:\n",
        "\n",
        "* Normalising inputs speeds up computation\n",
        "* Internal covariate shift is reduced, i.e. the mean and standard deviation is kept constant across the layers.\n",
        "* Regularisation effect: noise internal to each minibatch is reduced\n",
        "</details>\n",
        "\n",
        "<details>\n",
        "<summary>If you have an input tensor of size (batch, channels, width, height), and you apply a batchnorm layer, how many learned parameters will there be?</summary>\n",
        "\n",
        "A mean and standard deviation is calculated for each channel (i.e. each calculation is done across the batch, width, and height dimensions). So the number of learned params will be `2 * channels`.\n",
        "</details>\n",
        "\n",
        "<details>\n",
        "<summary>In the paper, the diagram shows additive skip connections (i.e. F(x) + x). One can also form concatenated skip connections, by \"gluing together\" F(x) and x into a single tensor. Give one advantage and one disadvantage of these, relative to additive connections.</summary>\n",
        "\n",
        "One advantage of concatenation: the subsequent layers can re-use middle representations; maintaining more information which can lead to better performance. Also, this still works if the tensors aren't exactly the same shape. One disadvantage: less compact, so there may be more weights to learn in subsequent layers.\n",
        "\n",
        "Crucially, both the addition and concatenation methods have the property of preserving information, to at least some degree of fidelity. For instance, you can [use calculus to show](https://theaisummer.com/skip-connections/#:~:text=residual%20skip%20connections.-,ResNet%3A%20skip%20connections%C2%A0via%C2%A0addition,-The%20core%20idea) that both methods will fix the vanishing gradients problem.\n",
        "</details>\n",
        "\n",
        "\n",
        "In this section, we'll do a more advanced version of the exercise in part 1. Rather than building a relatively simple network in which computation can be easily represented by a sequence of simple layers, we're going to build a more complex architecture which requires us to define nested blocks.\n",
        "\n",
        "We'll start by defining a few more `nn.Module` objects, which we hadn't needed before."
      ]
    },
    {
      "cell_type": "markdown",
      "metadata": {
        "id": "N9J8Q9i5BLJF"
      },
      "source": [
        "## Sequential\n",
        "\n",
        "Firstly, now that we're working with large and complex architectures, we should create a version of `nn.Sequential`. As the name suggests, when an `nn.Sequential` is fed an input, it sequentially applies each of its submodules to the input, with the output from one module feeding into the next one.\n",
        "\n",
        "The implementation is given to you below. A few notes:\n",
        "\n",
        "* In initalization, we add to the `_modules` dictionary.\n",
        "    * This is a special type of dict called an **ordered dictionary**, which preserves the order of elements that get added (although Python sort-of does this now by default).\n",
        "    * When we call `self.parameters()`, this recursively goes through all modules in `self._modules`, and returns the params in those modules. This means we can nest sequentials within sequentials!\n",
        "* The special `__getitem__` and `__setitem__` methods determine behaviour when we get and set modules within the sequential.\n",
        "* The `repr` of the base class `nn.Module` already recursively prints out the submodules, so we don't need to write anything in `extra_repr`.\n",
        "    * To see how this works in practice, try defining a `Sequential` which takes a sequence of modules that you've defined above, and see what it looks like when you print it.\n",
        "\n",
        "Don't worry about deeply understanding this code. The main takeaway is that `nn.Sequential` is a useful list-like object to store modules, and apply them all sequentially.\n",
        "\n",
        "<details>\n",
        "<summary>Aside - initializing Sequential with an OrderedDict</summary>\n",
        "\n",
        "The actual `nn.Sequential` module can be initialized with an ordered dictionary, rather than a list of modules. For instance, rather than doing this:\n",
        "\n",
        "```python\n",
        "seq = nn.Sequential(\n",
        "    nn.Linear(10, 20),\n",
        "    nn.ReLU(),\n",
        "    nn.Linear(20, 30)\n",
        ")\n",
        "```\n",
        "\n",
        "we can do this:\n",
        "\n",
        "```python\n",
        "from collections import OrderedDict\n",
        "\n",
        "seq = nn.Sequential(OrderedDict([\n",
        "    (\"linear1\", nn.Linear(10, 20)),\n",
        "    (\"relu\", nn.ReLU()),\n",
        "    (\"linear2\", nn.Linear(20, 30))\n",
        "]))\n",
        "```\n",
        "\n",
        "This is handy if we want to give each module an descriptive name.\n",
        "\n",
        "The `Sequential` implementation below doesn't allow the input to be an OrderedDict. As a bonus exercise, can you rewrite the `__init__`, `__getitem__` and `__setitem__` methods to allow the input to be an OrderedDict? If you do this, you'll actually be able to match your eventual `ResNet` model names exactly to the PyTorch implementation.\n",
        "\n",
        "</details>"
      ]
    },
    {
      "cell_type": "code",
      "execution_count": null,
      "metadata": {
        "id": "5r3J9htIBLJG"
      },
      "outputs": [],
      "source": [
        "class Sequential(nn.Module):\n",
        "    _modules: dict[str, nn.Module]\n",
        "\n",
        "    def __init__(self, *modules: nn.Module):\n",
        "        super().__init__()\n",
        "        for index, mod in enumerate(modules):\n",
        "            self._modules[str(index)] = mod\n",
        "\n",
        "    def __getitem__(self, index: int) -> nn.Module:\n",
        "        index %= len(self._modules)  # deal with negative indices\n",
        "        return self._modules[str(index)]\n",
        "\n",
        "    def __setitem__(self, index: int, module: nn.Module) -> None:\n",
        "        index %= len(self._modules)  # deal with negative indices\n",
        "        self._modules[str(index)] = module\n",
        "\n",
        "    def forward(self, x: Tensor) -> Tensor:\n",
        "        \"\"\"Chain each module together, with the output from one feeding into the next one.\"\"\"\n",
        "        for mod in self._modules.values():\n",
        "            x = mod(x)\n",
        "        return x"
      ]
    },
    {
      "cell_type": "markdown",
      "metadata": {
        "id": "ApFJS24HBLJG"
      },
      "source": [
        "## BatchNorm2d\n",
        "\n",
        "Now, we'll implement our `BatchNorm2d`, the layer described in the reading material you hopefully read above. You'll be implementing it according to the [PyTorch docs](https://pytorch.org/docs/stable/generated/torch.nn.BatchNorm2d.html) (with `affine=True` and `track_running_stats=True`).\n",
        "\n",
        "The primary function of batchnorm is to normalize the activations of each layer within the neural network during training. It normalizes each batch of input data to have a mean of 0 and std dev of 1. This normalization helps mitigate the **internal covariate shift** problem, which refers to the change in the distribution of layer inputs as the network trains. This becomes a particularly big problem as we build deeper networks, because there's more opportunity for the activation distribution to change over time."
      ]
    },
    {
      "cell_type": "markdown",
      "metadata": {
        "id": "mMqylC_xBLJH"
      },
      "source": [
        "### Buffers\n",
        "\n",
        "A question that might have occurred to you as you read about batchnorm - how does averaging over input data work in inference mode, if you only have a single input rather than a batch? The answer is that during training mode we compute a running average of our data's mean and variance, and we use this running average in inference mode.\n",
        "\n",
        "How do we store these moving averages? We want them to be saved and loaded with the model (because we need these values in order to run our model), but we don't want to update them using gradient descent (so we don't want to use `nn.Parameter`). So instead, we use the Pytorch **buffers** feature. These are essentially tensors which are included in `model.state_dict()` (and so they're saved & loaded with the rest of the model) but not included in `model.parameters()`.\n",
        "\n",
        "You can create a buffer by calling [`self.register_buffer`](https://pytorch.org/docs/stable/generated/torch.nn.Module.html#torch.nn.Module.register_buffer) from inside a `nn.Module`. We've initialized the necessary buffers for you in the `__init__` method below - you'll need a running mean and variance, as well as a counter for the number of batches seen (technically this isn't strictly necessary because the running mean & variance are updated using an exponential moving average so the update rule is independent of the number of previous updates, but we're doing this so our state dict matches the PyTorch implementation)."
      ]
    },
    {
      "cell_type": "markdown",
      "metadata": {
        "id": "PyNPXE1mBLJI"
      },
      "source": [
        "### Train and Eval Modes\n",
        "\n",
        "Okay so we have buffers, but how can we make them behave differently in different modes - i.e. updating the running mean & variance in training mode, and using the stored values in eval mode? The answer is that we use the `training` method of the `nn.Module` class, which is a boolean attribute that gets flipped when we call `self.eval()` or `self.train()`. In the case of batch norm, your code should look like this:\n",
        "\n",
        "```python\n",
        "if self.training:\n",
        "    # Use this data's mean & variance to normalize, then use it to update the buffers\n",
        "else:\n",
        "    # Use the buffer mean & variance to normalize\n",
        "```\n",
        "\n",
        "The other commonly used module which has different behaviour in training and eval modes is `Dropout` - in eval mode this module uses all its inputs, but in training it randomly selects some fraction `1 - p` of the input values to zero out and scales the remaining values by `1 / (1 - p)`.\n",
        "\n",
        "Note that other normalization modules we'll address later in this course like `LayerNorm` don't have different behaviour in training and eval modes, because these don't normalize over the batch dimension."
      ]
    },
    {
      "cell_type": "markdown",
      "metadata": {
        "id": "fRDAFKJLBLJI"
      },
      "source": [
        "### Exercise - implement `BatchNorm2d`\n",
        "\n",
        "> ```yaml\n",
        "> Difficulty: 🔴🔴🔴⚪⚪\n",
        "> Importance: 🔵🔵🔵⚪⚪\n",
        ">\n",
        "> You should spend up to 15-30 minutes on this exercise.\n",
        "> ```\n",
        "\n",
        "Implement `BatchNorm2d` according to the [PyTorch docs](https://pytorch.org/docs/stable/generated/torch.nn.BatchNorm2d.html). We're implementing it with `affine=True` and `track_running_stats=True`. All the parameters are defined for you in the `__init__` method, your job will be to fill in the `forward` and `extra_repr` methods.\n",
        "\n",
        "A few final tips:\n",
        "\n",
        "- Remember to use `weight` and `bias` in the fwd pass, after normalizing. You should multiply by `weight` and add `bias`.\n",
        "- All your tensors (`weight`, `bias`, `running_mean` and `running_var`) are vectors of length `num_features`, this should help you figure out what dimensions you're operating on.\n",
        "- Remember that the shape of `x` is `(batch, num_features, height, width)` which doesn't broadcast with `(num_features,)`. The easiest way to fix this is to reshape the latter to something like `(1, num_features, 1, 1)`, or optionally just `(num_features, 1, 1)`."
      ]
    },
    {
      "cell_type": "code",
      "execution_count": null,
      "metadata": {
        "id": "TItVmEQ9BLJJ"
      },
      "outputs": [],
      "source": [
        "class BatchNorm2d(nn.Module):\n",
        "    # The type hints below aren't functional, they're just for documentation\n",
        "    running_mean: Float[Tensor, \"num_features\"]\n",
        "    running_var: Float[Tensor, \"num_features\"]\n",
        "    num_batches_tracked: Int[Tensor, \"\"]  # This is how we denote a scalar tensor\n",
        "\n",
        "    def __init__(self, num_features: int, eps=1e-05, momentum=0.1):\n",
        "        \"\"\"\n",
        "        Like nn.BatchNorm2d with track_running_stats=True and affine=True.\n",
        "\n",
        "        Name the learnable affine parameters `weight` and `bias` in that order.\n",
        "        \"\"\"\n",
        "        super().__init__()\n",
        "        self.num_features = num_features\n",
        "        self.eps = eps\n",
        "        self.momentum = momentum\n",
        "\n",
        "        self.weight = nn.Parameter(t.ones(num_features))\n",
        "        self.bias = nn.Parameter(t.zeros(num_features))\n",
        "\n",
        "        self.register_buffer(\"running_mean\", t.zeros(num_features))\n",
        "        self.register_buffer(\"running_var\", t.ones(num_features))\n",
        "        self.register_buffer(\"num_batches_tracked\", t.tensor(0))\n",
        "\n",
        "    def forward(self, x: Tensor) -> Tensor:\n",
        "        \"\"\"\n",
        "        Normalize each channel.\n",
        "\n",
        "        Compute the variance using `torch.var(x, unbiased=False)`\n",
        "        Hint: you may also find it helpful to use the argument `keepdim`.\n",
        "\n",
        "        x: shape (batch, channels, height, width)\n",
        "        Return: shape (batch, channels, height, width)\n",
        "        \"\"\"\n",
        "        raise NotImplementedError()\n",
        "\n",
        "    def extra_repr(self) -> str:\n",
        "        raise NotImplementedError()\n",
        "\n",
        "\n",
        "tests.test_batchnorm2d_module(BatchNorm2d)\n",
        "tests.test_batchnorm2d_forward(BatchNorm2d)\n",
        "tests.test_batchnorm2d_running_mean(BatchNorm2d)"
      ]
    },
    {
      "cell_type": "markdown",
      "metadata": {
        "id": "6mzWQEquBLJK"
      },
      "source": [
        "<details>\n",
        "<summary>Help - I'm stuck on this implementation, and need a template.</summary>\n",
        "\n",
        "The easiest way is to structure it like this (we've omitted the reshaping to make sure the mean & variance broadcasts correctly):\n",
        "\n",
        "```python\n",
        "if self.training:\n",
        "    mean = ... # mean of new data\n",
        "    var = ... # variance of new data\n",
        "    self.running_mean = ... # update running mean using exponential moving average\n",
        "    self.running_var = ... # update running variance using exponential moving average\n",
        "    self.num_batches_tracked += 1\n",
        "else:\n",
        "    mean = self.running_mean\n",
        "    var = self.running_var\n",
        "\n",
        "x_normed = ... # normalize x using `mean` and `var` (make sure `mean` and `var` are broadcastable with `x`)\n",
        "x_affine = ... # apply affine transformation from `self.weight` and `self.bias` (again, be careful of broadcasting)\n",
        "return x_affine\n",
        "```\n",
        "\n",
        "\n",
        "</details>\n",
        "\n",
        "<details>\n",
        "<summary>Solution</summary>\n",
        "\n",
        "```python\n",
        "def forward(self, x: Tensor) -> Tensor:\n",
        "    \"\"\"\n",
        "    Normalize each channel.\n",
        "\n",
        "    Compute the variance using `torch.var(x, unbiased=False)`\n",
        "    Hint: you may also find it helpful to use the argument `keepdim`.\n",
        "\n",
        "    x: shape (batch, channels, height, width)\n",
        "    Return: shape (batch, channels, height, width)\n",
        "    \"\"\"\n",
        "    # Calculating mean and var over all dims except for the channel dim\n",
        "    if self.training:\n",
        "        # Take mean over all dimensions except the feature dimension\n",
        "        mean = x.mean(dim=(0, 2, 3))\n",
        "        var = x.var(dim=(0, 2, 3), unbiased=False)\n",
        "        # Updating running mean and variance, in line with PyTorch documentation\n",
        "        self.running_mean = (1 - self.momentum) * self.running_mean + self.momentum * mean\n",
        "        self.running_var = (1 - self.momentum) * self.running_var + self.momentum * var\n",
        "        self.num_batches_tracked += 1\n",
        "    else:\n",
        "        mean = self.running_mean\n",
        "        var = self.running_var\n",
        "\n",
        "    # Rearranging these so they can be broadcasted\n",
        "    reshape = lambda x: einops.rearrange(x, \"channels -> 1 channels 1 1\")\n",
        "\n",
        "    # Normalize, then apply affine transformation from self.weight & self.bias\n",
        "    x_normed = (x - reshape(mean)) / (reshape(var) + self.eps).sqrt()\n",
        "    x_affine = x_normed * reshape(self.weight) + reshape(self.bias)\n",
        "    return x_affine\n",
        "```\n",
        "\n",
        "</details>"
      ]
    },
    {
      "cell_type": "markdown",
      "metadata": {
        "id": "6W5-fBy7BLJK"
      },
      "source": [
        "## AveragePool\n",
        "\n",
        "Let's end our collection of `nn.Module`s with an easy one 🙂\n",
        "\n",
        "The ResNet has a Linear layer with 1000 outputs at the end in order to produce classification logits for each of the 1000 classes. Any Linear needs to have a constant number of input features, but the ResNet is supposed to be compatible with arbitrary height and width, so we can't just do a pooling operation with a fixed kernel size and stride.\n",
        "\n",
        "Luckily, the simplest possible solution works decently: take the mean over the spatial dimensions. Intuitively, each position has an equal \"vote\" for what objects it can \"see\"."
      ]
    },
    {
      "cell_type": "markdown",
      "metadata": {
        "id": "4bPx0azyBLJL"
      },
      "source": [
        "### Exercise - implement `AveragePool`\n",
        "\n",
        "> ```yaml\n",
        "> Difficulty: 🔴⚪⚪⚪⚪\n",
        "> Importance: 🔵🔵⚪⚪⚪\n",
        ">\n",
        "> You should spend up to 5-10 minutes on this exercise.\n",
        "> ```\n",
        "\n",
        "This should be a pretty straightforward implementation; it doesn't have any weights or parameters of any kind, so you only need to implement the `forward` method."
      ]
    },
    {
      "cell_type": "code",
      "execution_count": null,
      "metadata": {
        "id": "uvWwhwf7BLJM"
      },
      "outputs": [],
      "source": [
        "class AveragePool(nn.Module):\n",
        "    def forward(self, x: Tensor) -> Tensor:\n",
        "        \"\"\"\n",
        "        x: shape (batch, channels, height, width)\n",
        "        Return: shape (batch, channels)\n",
        "        \"\"\"\n",
        "        raise NotImplementedError()\n",
        "\n",
        "\n",
        "tests.test_averagepool(AveragePool)"
      ]
    },
    {
      "cell_type": "markdown",
      "metadata": {
        "id": "-vTW1-ZLBLJM"
      },
      "source": [
        "<details><summary>Solution</summary>\n",
        "\n",
        "```python\n",
        "class AveragePool(nn.Module):\n",
        "    def forward(self, x: Tensor) -> Tensor:\n",
        "        \"\"\"\n",
        "        x: shape (batch, channels, height, width)\n",
        "        Return: shape (batch, channels)\n",
        "        \"\"\"\n",
        "        return t.mean(x, dim=(2, 3))\n",
        "```\n",
        "</details>"
      ]
    },
    {
      "cell_type": "markdown",
      "metadata": {
        "id": "t2FKAIuhBLJN"
      },
      "source": [
        "## Building ResNet\n",
        "\n",
        "Now we have all the building blocks we need to start assembling your own ResNet! The following diagram describes the architecture of ResNet34 - the other versions are broadly similar.\n",
        "\n",
        "Note - unless otherwise noted, you should assume convolutions have `kernel_size=3, stride=1, padding=1` (this is a **shape preserving convolution** i.e. the width & height of the input and output will be the same). None of the convolutions have biases.\n",
        "\n",
        "You don't have to understand every detail in this diagram before proceeding; specific points will be clarified as we go through each exercise.\n",
        "\n",
        "<details>\n",
        "<summary>Question: why do we not care about including biases in the convolutional layers?</summary>\n",
        "\n",
        "Every convolution layer in this network is followed by a batch normalization layer. The first operation in the batch normalization layer is to subtract the mean of each output channel. But a convolutional bias just adds some scalar `b` to each output channel, increasing the mean by `b`. This means that for any `b` added, the batch normalization will subtract `b` to exactly negate the bias term.\n",
        "</details>\n",
        "\n",
        "<details>\n",
        "<summary>Help - I'm confused about how the nested subgraphs work.</summary>\n",
        "\n",
        "The right-most block in the diagram, `ResidualBlock`, is nested inside `BlockGroup` multiple times. When you see `ResidualBlock` in `BlockGroup`, you should visualise a copy of `ResidualBlock` sitting in that position.\n",
        "    \n",
        "Similarly, `BlockGroup` is nested multiple times (four to be precise) in the full `ResNet34` architecture.\n",
        "</details>\n",
        "\n",
        "<img src=\"https://raw.githubusercontent.com/info-arena/ARENA_img/main/misc/resnet-fixed.svg\" width=\"900\">"
      ]
    },
    {
      "cell_type": "markdown",
      "metadata": {
        "id": "QuhvEqrOBLJN"
      },
      "source": [
        "### Exercise - implement `ResidualBlock`\n",
        "\n",
        "> ```yaml\n",
        "> Difficulty: 🔴🔴🔴🔴⚪\n",
        "> Importance: 🔵🔵🔵🔵⚪\n",
        ">\n",
        "> You should spend up to 20-30 minutes on this exercise.\n",
        "> ```\n",
        "\n",
        "Implement `ResidualBlock` by referring to the diagram (i.e. the right-most of the three hierarchical diagrams above).\n",
        "\n",
        "The **left branch** starts with a strided convolution which changes the number of features from `in_feats` to `out_feats`. It has all conv parameters default i.e. `kernel_size=3, stride=1, padding=1` except for the stride which is instead given by `first_stride`. The second convolution has all default parameters, and maps from `out_feats` to `out_feats` (meaning it's fully shape preserving).\n",
        "\n",
        "As for the **right branch** - this is meant to essentially be a skip connection, the problem is we can't just use a skip connection because the shapes might not match up (and so we couldn't add them together at the end). The left branch is fully shape preserving if and only if `first_stride == 1` and `in_feats == out_feats`. If this is true then we do set the right branch to be the identity (that's what the \"OPTIONAL\" annotation refers to), but if this isn't true then we set the right branch to be a 1x1 convolution with stride `first_stride`, zero padding, and mapping from `in_feats` to `out_feats`, followed by a batchnorm layer. This is in a sense the simplest operation we can get which matches the left branch shape, since the convolution is basically just a downsampling operation (keeping pixels based on a `::first_stride` slice across the height and width dimensions)."
      ]
    },
    {
      "cell_type": "code",
      "execution_count": null,
      "metadata": {
        "id": "CojPG5buBLJO"
      },
      "outputs": [],
      "source": [
        "class ResidualBlock(nn.Module):\n",
        "    def __init__(self, in_feats: int, out_feats: int, first_stride=1):\n",
        "        \"\"\"\n",
        "        A single residual block with optional downsampling.\n",
        "\n",
        "        For compatibility with the pretrained model, declare the left side branch first using a `Sequential`.\n",
        "\n",
        "        If first_stride is > 1, this means the optional (conv + bn) should be present on the right branch. Declare it second using another `Sequential`.\n",
        "        \"\"\"\n",
        "        super().__init__()\n",
        "        is_shape_preserving = (first_stride == 1) and (in_feats == out_feats)  # determines if right branch is identity\n",
        "\n",
        "        raise NotImplementedError()\n",
        "\n",
        "    def forward(self, x: Tensor) -> Tensor:\n",
        "        \"\"\"\n",
        "        Compute the forward pass.\n",
        "\n",
        "        x: shape (batch, in_feats, height, width)\n",
        "\n",
        "        Return: shape (batch, out_feats, height / stride, width / stride)\n",
        "\n",
        "        If no downsampling block is present, the addition should just add the left branch's output to the input.\n",
        "        \"\"\"\n",
        "        raise NotImplementedError()\n",
        "\n",
        "\n",
        "tests.test_residual_block(ResidualBlock)"
      ]
    },
    {
      "cell_type": "markdown",
      "metadata": {
        "id": "K21T2MMEBLJP"
      },
      "source": [
        "<details><summary>Solution</summary>\n",
        "\n",
        "```python\n",
        "class ResidualBlock(nn.Module):\n",
        "    def __init__(self, in_feats: int, out_feats: int, first_stride=1):\n",
        "        \"\"\"\n",
        "        A single residual block with optional downsampling.\n",
        "\n",
        "        For compatibility with the pretrained model, declare the left side branch first using a `Sequential`.\n",
        "\n",
        "        If first_stride is > 1, this means the optional (conv + bn) should be present on the right branch. Declare it second using another `Sequential`.\n",
        "        \"\"\"\n",
        "        super().__init__()\n",
        "        is_shape_preserving = (first_stride == 1) and (in_feats == out_feats)  # determines if right branch is identity\n",
        "\n",
        "        self.left = Sequential(\n",
        "            Conv2d(in_feats, out_feats, kernel_size=3, stride=first_stride, padding=1),\n",
        "            BatchNorm2d(out_feats),\n",
        "            ReLU(),\n",
        "            Conv2d(out_feats, out_feats, kernel_size=3, stride=1, padding=1),\n",
        "            BatchNorm2d(out_feats),\n",
        "        )\n",
        "        self.right = (\n",
        "            nn.Identity()\n",
        "            if is_shape_preserving\n",
        "            else Sequential(Conv2d(in_feats, out_feats, kernel_size=1, stride=first_stride), BatchNorm2d(out_feats))\n",
        "        )\n",
        "        self.relu = ReLU()\n",
        "\n",
        "    def forward(self, x: Tensor) -> Tensor:\n",
        "        \"\"\"\n",
        "        Compute the forward pass.\n",
        "\n",
        "        x: shape (batch, in_feats, height, width)\n",
        "\n",
        "        Return: shape (batch, out_feats, height / stride, width / stride)\n",
        "\n",
        "        If no downsampling block is present, the addition should just add the left branch's output to the input.\n",
        "        \"\"\"\n",
        "        x_left = self.left(x)\n",
        "        x_right = self.right(x)\n",
        "        return self.relu(x_left + x_right)\n",
        "```\n",
        "</details>"
      ]
    },
    {
      "cell_type": "markdown",
      "metadata": {
        "id": "ZDi2sveiBLJP"
      },
      "source": [
        "### Exercise - implement `BlockGroup`\n",
        "\n",
        "> ```yaml\n",
        "> Difficulty: 🔴🔴🔴⚪⚪\n",
        "> Importance: 🔵🔵🔵🔵⚪\n",
        ">\n",
        "> You should spend up to 10-15 minutes on this exercise.\n",
        "> ```\n",
        "\n",
        "Implement `BlockGroup` according to the diagram. There should be `n_blocks` total blocks in the group. Only the first block has the possibility of having a right branch (because we might have either `first_stride > 1` or `in_feats != out_feats`), but every subsequent block will have the identity instead of a right branch.\n",
        "\n",
        "<details>\n",
        "<summary>Help - I don't understand why all blocks after the first one won't have a right branch.</summary>\n",
        "\n",
        "- The `first_stride` argument only gets applied to the first block, definitionally (i.e. the purpose of the `BlockGroup` is to downsample the input by `first_stride` just once, not on every single block).\n",
        "- After we pass through the first block we can guarantee that the number of channels will be `out_feats`, so every subsequent block will have `out_feats` input channels and `out_feats` output channels.\n",
        "\n",
        "Combining these two facts, we see that every subsequent block will have a shape-preserving left branch, so it can have the identity as its right branch.\n",
        "\n",
        "</details>"
      ]
    },
    {
      "cell_type": "code",
      "execution_count": null,
      "metadata": {
        "id": "6ZuSg9WkBLJQ"
      },
      "outputs": [],
      "source": [
        "class BlockGroup(nn.Module):\n",
        "    def __init__(self, n_blocks: int, in_feats: int, out_feats: int, first_stride=1):\n",
        "        \"\"\"An n_blocks-long sequence of ResidualBlock where only the first block uses the provided stride.\"\"\"\n",
        "        super().__init__()\n",
        "        # YOUR CODE HERE - define all components of block group\n",
        "        raise NotImplementedError()\n",
        "\n",
        "    def forward(self, x: Tensor) -> Tensor:\n",
        "        \"\"\"\n",
        "        Compute the forward pass.\n",
        "\n",
        "        x: shape (batch, in_feats, height, width)\n",
        "\n",
        "        Return: shape (batch, out_feats, height / first_stride, width / first_stride)\n",
        "        \"\"\"\n",
        "        raise NotImplementedError()\n",
        "\n",
        "\n",
        "tests.test_block_group(BlockGroup)"
      ]
    },
    {
      "cell_type": "markdown",
      "metadata": {
        "id": "2crgOmQJBLJR"
      },
      "source": [
        "<details><summary>Solution</summary>\n",
        "\n",
        "```python\n",
        "class BlockGroup(nn.Module):\n",
        "    def __init__(self, n_blocks: int, in_feats: int, out_feats: int, first_stride=1):\n",
        "        \"\"\"An n_blocks-long sequence of ResidualBlock where only the first block uses the provided stride.\"\"\"\n",
        "        super().__init__()\n",
        "        self.blocks = Sequential(\n",
        "            ResidualBlock(in_feats, out_feats, first_stride),\n",
        "            *[ResidualBlock(out_feats, out_feats) for _ in range(n_blocks - 1)],\n",
        "        )\n",
        "\n",
        "    def forward(self, x: Tensor) -> Tensor:\n",
        "        \"\"\"\n",
        "        Compute the forward pass.\n",
        "\n",
        "        x: shape (batch, in_feats, height, width)\n",
        "\n",
        "        Return: shape (batch, out_feats, height / first_stride, width / first_stride)\n",
        "        \"\"\"\n",
        "        return self.blocks(x)\n",
        "```\n",
        "</details>"
      ]
    },
    {
      "cell_type": "markdown",
      "metadata": {
        "id": "FT3SnFcpBLJS"
      },
      "source": [
        "### Exercise - implement `ResNet34`\n",
        "\n",
        "> ```yaml\n",
        "> Difficulty: 🔴🔴🔴🔴⚪\n",
        "> Importance: 🔵🔵🔵🔵⚪\n",
        ">\n",
        "> You should spend up to 30-45 minutes on this exercise. This can sometimes involve a lot of fiddly debugging.\n",
        "> ```\n",
        "\n",
        "Last step! Assemble `ResNet34` using the diagram.\n",
        "\n",
        "To test your implementation, you can use the helper function `print_param_count` which prints out a stylized dataframe comparing your model's parameter count to the PyTorch implementation. Alternatively, you can use the following code to import your own `resnet34`, and inspect its architecture:\n",
        "\n",
        "```python\n",
        "resnet = models.resnet34()\n",
        "print(torchinfo.summary(resnet, input_size=(1, 3, 64, 64)))\n",
        "print(torchinfo.summary(my_resnet, input_size=(1, 3, 64, 64)))\n",
        "```\n",
        "\n",
        "Both will give you the shape & size of each of your model's parameters & buffers, and code is provided for both of these methods below.\n",
        "\n",
        "Note - in order to copy weights from the reference model to your implementation (which we'll do after this exercise), you'll need to have all the parameters defined in the same order as they are in the reference model - in other words, the rows from the two halves of the dataframe created via `print_param_count` should perfectly match up with each other. This can be a bit fiddly to get right, especially if the names of your parameters are different to the names in the PyTorch implementation. We recommend you look at the `__init__` methods of the solution if you're stuck (since it's the order that things are defined in for the various ResNet modules which determines the order of the rows in the dataframe).\n",
        "\n",
        "This 1-to-1 weight comparison won't always be possible during model replications, for example when we replicate GPT2-Small next week we'll be defining the attention weight matrices differently (in a way that's more condusive to interpretability research). In these cases, you'll need to resort to different debugging methods, like running the models on the same input and checking they give the same output. You can also break this down into smaller steps by running individual models, and by checking the shape before checking values. However in this case we don't need to resort to that, because our implementation is equivalent to the reference model's implementation.\n",
        "\n",
        "As a more general point, tweaking your model until all the layers match up might be a difficult and frustrating exercise at times, however it's a pretty good example of the kind of low-level model implementation and debugging that is important for your growth as ML engineers! So don't be disheartened if you find it hard to get exactly right (although we certainly recommend looking at the solutions and moving on if you're stuck on this particular exercise for more than ~45 minutes)."
      ]
    },
    {
      "cell_type": "code",
      "execution_count": null,
      "metadata": {
        "id": "48sRrVvDBLJT"
      },
      "outputs": [],
      "source": [
        "class ResNet34(nn.Module):\n",
        "    def __init__(\n",
        "        self,\n",
        "        n_blocks_per_group=[3, 4, 6, 3],\n",
        "        out_features_per_group=[64, 128, 256, 512],\n",
        "        first_strides_per_group=[1, 2, 2, 2],\n",
        "        n_classes=1000,\n",
        "    ):\n",
        "        super().__init__()\n",
        "        in_feats0 = 64\n",
        "        self.n_blocks_per_group = n_blocks_per_group\n",
        "        self.out_features_per_group = out_features_per_group\n",
        "        self.first_strides_per_group = first_strides_per_group\n",
        "        self.n_classes = n_classes\n",
        "\n",
        "        # YOUR CODE HERE - define all components of resnet34\n",
        "        raise NotImplementedError()\n",
        "\n",
        "    def forward(self, x: Tensor) -> Tensor:\n",
        "        \"\"\"\n",
        "        x: shape (batch, channels, height, width)\n",
        "        Return: shape (batch, n_classes)\n",
        "        \"\"\"\n",
        "        raise NotImplementedError()\n",
        "\n",
        "\n",
        "my_resnet = ResNet34()\n",
        "\n",
        "# (1) Test via helper function `print_param_count`\n",
        "target_resnet = models.resnet34()  # without supplying a `weights` argument, we just initialize with random weights\n",
        "utils.print_param_count(my_resnet, target_resnet)\n",
        "\n",
        "# (2) Test via `torchinfo.summary`\n",
        "print(\"My model:\", torchinfo.summary(my_resnet, input_size=(1, 3, 64, 64)), sep=\"\\n\")\n",
        "print(\"\\nReference model:\", torchinfo.summary(target_resnet, input_size=(1, 3, 64, 64), depth=2), sep=\"\\n\")"
      ]
    },
    {
      "cell_type": "markdown",
      "metadata": {
        "id": "vI0fvVdoBLJT"
      },
      "source": [
        "<details>\n",
        "<summary>Help - I'm not sure how to construct each of the BlockGroups.</summary>\n",
        "\n",
        "Each BlockGroup takes arguments `n_blocks`, `in_feats`, `out_feats` and `first_stride`. In the initialisation of `ResNet34` below, we're given a list of `n_blocks`, `out_feats` and `first_stride` for each of the BlockGroups. To find `in_feats` for each block, it suffices to note two things:\n",
        "    \n",
        "1. The first `in_feats` should be 64, because the input is coming from the convolutional layer with 64 output channels.\n",
        "2. The `out_feats` of each layer should be equal to the `in_feats` of the subsequent layer (because the BlockGroups are stacked one after the other; with no operations in between to change the shape).\n",
        "\n",
        "You can use these two facts to construct a list `in_features_per_group`, and then create your BlockGroups by zipping through all four lists.\n",
        "</details>\n",
        "\n",
        "<details>\n",
        "<summary>Help - I'm not sure how to construct the 7x7 conv at the very start.</summary>\n",
        "\n",
        "The stride, padding & output channels are givin in the diagram; the only thing not provided is `in_channels`. Recall that the input to this layer is an RGB image - can you deduce from this how many input channels your layer should have?\n",
        "\n",
        "</details>\n",
        "\n",
        "<details>\n",
        "<summary>Help - I'm getting the right total parameter count, but my rows don't match up, and I'm not sure how to debug this.</summary>\n",
        "\n",
        "We'll use an example case to illustrate how to debug this. In the following case, our rows match up until the 21st row where we have our first discrepancy:\n",
        "\n",
        "<img src=\"https://raw.githubusercontent.com/info-arena/ARENA_img/main/misc/row-diff.png\" width=\"1000\">\n",
        "\n",
        "We can see that the first discrepancy occurs at the first parameter from `residual_layers.1`, meaning something in the second `BlockGroup` in our sequential of blockgroups. We can see that the first blockgroup only had left branches but no right branches (this is because for the very first blockgroup we had `in_feats == out_feats == 64` and also `first_strides_per_group[0] == 1`, meaning this first blockgroup was shape-preserving and it didn't need a right branch). So it's the presence of a right branch that's causing the mismatch.\n",
        "\n",
        "Looking closer at the dataframe, we see that the left-hand parameter (from our model) has shape `(128, 64, 1, 1)` and has `right` in its name, so we deduce it's the 1x1 convolutional weight from the right branch. But the parameter from the PyTorch model has shape `(128, 64, 3, 3)`, i.e. it's a convolutional weight with a 3x3 kernel, so must be from the left branch (it also matches the naming convention for the left-branch convolutional weight from the first blockgroup - row index 3 in the dataframe). So we've now figured out what the problem is: **your implementation defines the right branch before the left branch in the the `ResidualBlock.__init__` method, and to match param orders with the PyTorch model you should swap them around.**\n",
        "\n",
        "</details>\n",
        "\n",
        "\n",
        "<details><summary>Solution</summary>\n",
        "\n",
        "```python\n",
        "class ResNet34(nn.Module):\n",
        "    def __init__(\n",
        "        self,\n",
        "        n_blocks_per_group=[3, 4, 6, 3],\n",
        "        out_features_per_group=[64, 128, 256, 512],\n",
        "        first_strides_per_group=[1, 2, 2, 2],\n",
        "        n_classes=1000,\n",
        "    ):\n",
        "        super().__init__()\n",
        "        in_feats0 = 64\n",
        "        self.n_blocks_per_group = n_blocks_per_group\n",
        "        self.out_features_per_group = out_features_per_group\n",
        "        self.first_strides_per_group = first_strides_per_group\n",
        "        self.n_classes = n_classes\n",
        "\n",
        "        self.in_layers = Sequential(\n",
        "            Conv2d(3, in_feats0, kernel_size=7, stride=2, padding=3),\n",
        "            BatchNorm2d(in_feats0),\n",
        "            ReLU(),\n",
        "            MaxPool2d(kernel_size=3, stride=2, padding=1),\n",
        "        )\n",
        "\n",
        "        residual_layers = []\n",
        "        for i in range(len(n_blocks_per_group)):\n",
        "            residual_layers.append(\n",
        "                BlockGroup(\n",
        "                    n_blocks=n_blocks_per_group[i],\n",
        "                    in_feats=[64, *self.out_features_per_group][i],\n",
        "                    out_feats=self.out_features_per_group[i],\n",
        "                    first_stride=self.first_strides_per_group[i],\n",
        "                )\n",
        "            )\n",
        "        self.residual_layers = Sequential(*residual_layers)\n",
        "\n",
        "        self.out_layers = Sequential(\n",
        "            AveragePool(),\n",
        "            Linear(out_features_per_group[-1], n_classes),\n",
        "        )\n",
        "\n",
        "    def forward(self, x: Tensor) -> Tensor:\n",
        "        \"\"\"\n",
        "        x: shape (batch, channels, height, width)\n",
        "        Return: shape (batch, n_classes)\n",
        "        \"\"\"\n",
        "        post_first_conv_block = self.in_layers(x)\n",
        "        post_block_groups = self.residual_layers(post_first_conv_block)\n",
        "        logits = self.out_layers(post_block_groups)\n",
        "        return logits\n",
        "```\n",
        "</details>"
      ]
    },
    {
      "cell_type": "markdown",
      "metadata": {
        "id": "lsUh-5AmBLJU"
      },
      "source": [
        "### Copying over weights\n",
        "\n",
        "Now that you've built your `ResNet34`, we'll copy weights over from PyTorch's pretrained resnet to yours. This is another good way to verify that you've designed the architecture correctly (although if you've passed all tests above and your parameter count order matches up, it's very likely that this code will also work)."
      ]
    },
    {
      "cell_type": "code",
      "execution_count": null,
      "metadata": {
        "id": "IvImJ4hxBLJV"
      },
      "outputs": [],
      "source": [
        "def copy_weights(my_resnet: ResNet34, pretrained_resnet: models.resnet.ResNet) -> ResNet34:\n",
        "    \"\"\"Copy over the weights of `pretrained_resnet` to your resnet.\"\"\"\n",
        "\n",
        "    # Get the state dictionaries for each model, check they have the same number of parameters & buffers\n",
        "    mydict = my_resnet.state_dict()\n",
        "    pretraineddict = pretrained_resnet.state_dict()\n",
        "    assert len(mydict) == len(pretraineddict), \"Mismatching state dictionaries.\"\n",
        "\n",
        "    # Define a dictionary mapping the names of your parameters / buffers to their values in the pretrained model\n",
        "    state_dict_to_load = {\n",
        "        mykey: pretrainedvalue\n",
        "        for (mykey, myvalue), (pretrainedkey, pretrainedvalue) in zip(mydict.items(), pretraineddict.items())\n",
        "    }\n",
        "\n",
        "    # Load in this dictionary to your model\n",
        "    my_resnet.load_state_dict(state_dict_to_load)\n",
        "\n",
        "    return my_resnet\n",
        "\n",
        "\n",
        "pretrained_resnet = models.resnet34(weights=models.ResNet34_Weights.IMAGENET1K_V1).to(device)\n",
        "my_resnet = copy_weights(my_resnet, pretrained_resnet).to(device)\n",
        "print(\"Weights copied successfully!\")"
      ]
    },
    {
      "cell_type": "markdown",
      "metadata": {
        "id": "XVFpXSFxBLJV"
      },
      "source": [
        "This function uses the `state_dict()` method, which returns an  `OrderedDict` (documentation [here](https://realpython.com/python-ordereddict/)) object containing all the parameter/buffer names and their values. State dicts can be extracted from models, saved to your filesystem (this is a common way to store the results of training a model), and can also be loaded back into a model using the `load_state_dict` method. (Note that you can also load weights using a regular Python `dict`, but since Python 3.7, the builtin `dict` is guaranteed to maintain items in the order they're inserted.)"
      ]
    },
    {
      "cell_type": "markdown",
      "metadata": {
        "id": "AzxH05NHBLJW"
      },
      "source": [
        "## Running Your Model\n",
        "\n",
        "We've provided you with some images for your model to classify:"
      ]
    },
    {
      "cell_type": "code",
      "execution_count": null,
      "metadata": {
        "id": "do-KLFDJBLJX"
      },
      "outputs": [],
      "source": [
        "IMAGE_FILENAMES = [\n",
        "    \"chimpanzee.jpg\",\n",
        "    \"golden_retriever.jpg\",\n",
        "    \"platypus.jpg\",\n",
        "    \"frogs.jpg\",\n",
        "    \"fireworks.jpg\",\n",
        "    \"astronaut.jpg\",\n",
        "    \"iguana.jpg\",\n",
        "    \"volcano.jpg\",\n",
        "    \"goofy.jpg\",\n",
        "    \"dragonfly.jpg\",\n",
        "]\n",
        "\n",
        "IMAGE_FOLDER = section_dir / \"resnet_inputs\"\n",
        "\n",
        "images = [Image.open(IMAGE_FOLDER / filename) for filename in IMAGE_FILENAMES]"
      ]
    },
    {
      "cell_type": "markdown",
      "metadata": {
        "id": "J16eDY24BLJY"
      },
      "source": [
        "Our `images` are of type `PIL.Image.Image`, so we can just call them in a cell to display them, or alternatively use a function like IPython's `display`:"
      ]
    },
    {
      "cell_type": "code",
      "execution_count": null,
      "metadata": {
        "id": "xrwD6KvwBLJY"
      },
      "outputs": [],
      "source": [
        "display(images[0])"
      ]
    },
    {
      "cell_type": "markdown",
      "metadata": {
        "id": "k4F5l26WBLJZ"
      },
      "source": [
        "We now need to define a `transform` object like we did for MNIST. We will use the same transforms to convert the PIL image to a tensor, and to normalize it. But we also want to resize the images to `height=224, width=224`, because not all of them start out with this size and we need them to be consistent before passing them through our model.\n",
        "\n",
        "In the normalization step, we'll use a mean of `[0.485, 0.456, 0.406]`, and a standard deviation of `[0.229, 0.224, 0.225]` (these are the mean and std dev of images from [ImageNet](https://www.image-net.org/)). Note that the means and std devs have three elements, because ImageNet contains RGB rather than monochrome images, and we're normalising over each of the three RGB channels separately."
      ]
    },
    {
      "cell_type": "code",
      "execution_count": null,
      "metadata": {
        "id": "vh5cjnTOBLJZ"
      },
      "outputs": [],
      "source": [
        "IMAGE_SIZE = 224\n",
        "IMAGENET_MEAN = [0.485, 0.456, 0.406]\n",
        "IMAGENET_STD = [0.229, 0.224, 0.225]\n",
        "\n",
        "IMAGENET_TRANSFORM = transforms.Compose(\n",
        "    [\n",
        "        transforms.ToTensor(),\n",
        "        transforms.Resize((IMAGE_SIZE, IMAGE_SIZE)),\n",
        "        transforms.Normalize(mean=IMAGENET_MEAN, std=IMAGENET_STD),\n",
        "    ]\n",
        ")\n",
        "\n",
        "prepared_images = t.stack([IMAGENET_TRANSFORM(img) for img in images], dim=0).to(device)\n",
        "assert prepared_images.shape == (len(images), 3, IMAGE_SIZE, IMAGE_SIZE)"
      ]
    },
    {
      "cell_type": "markdown",
      "metadata": {
        "id": "i4KmIoAmBLJa"
      },
      "source": [
        "### Exercise - verify your model's predictions\n",
        "\n",
        "> ```yaml\n",
        "> Difficulty: 🔴🔴⚪⚪⚪\n",
        "> Importance: 🔵🔵🔵⚪⚪\n",
        ">\n",
        "> You should spend up to ~10 minutes on this exercise.\n",
        "> ```\n",
        "\n",
        "Lastly, you should run your model with these prepared images, and verify that your predictions are the same as the model's predictions.\n",
        "\n",
        "You can do this by filling in the `predict` function below, then running the code. We've also provided you with a file `imagenet_labels.json` which you can use to get the actual classnames of imagenet data, and see what your model's predictions actually are.\n",
        "\n",
        "When you run the code, you should find that your top prediction probabilities are within about 0.01% of the reference model's probabilities most (not all) of the time. This kind of error is not uncommon when you have slightly different orders of linear operations or small implementation details which differ between models, and which can introduce floating point errors that compound as we move through the model. As a bonus exercise (which may or may not break your sanity), you're welcome to try and work through our implementation, comparing it to the PyTorch model's implementation and find where the discrepancy comes from!\n",
        "\n",
        "*Tip - the torch method `torch.max` will return a tuple of (values, indices) if you supply a dimension argument `dim`.*"
      ]
    },
    {
      "cell_type": "code",
      "execution_count": null,
      "metadata": {
        "id": "9CNrbA6SBLJa"
      },
      "outputs": [],
      "source": [
        "@t.inference_mode()\n",
        "def predict(model, images: Float[Tensor, \"batch rgb h w\"]) -> tuple[Float[Tensor, \"batch\"], Int[Tensor, \"batch\"]]:\n",
        "    \"\"\"\n",
        "    Returns the maximum probability and predicted class for each image, as a tensor of floats and ints respectively.\n",
        "    \"\"\"\n",
        "    raise NotImplementedError()\n",
        "\n",
        "\n",
        "with open(section_dir / \"imagenet_labels.json\") as f:\n",
        "    imagenet_labels = list(json.load(f).values())\n",
        "\n",
        "# Check your predictions match those of the pretrained model\n",
        "my_probs, my_predictions = predict(my_resnet, prepared_images)\n",
        "pretrained_probs, pretrained_predictions = predict(pretrained_resnet, prepared_images)\n",
        "assert (my_predictions == pretrained_predictions).all()\n",
        "t.testing.assert_close(my_probs, pretrained_probs, atol=5e-4, rtol=0)  # tolerance of 0.05%\n",
        "print(\"All predictions match!\")\n",
        "\n",
        "# Print out your predictions, next to the corresponding images\n",
        "for i, img in enumerate(images):\n",
        "    table = Table(\"Model\", \"Prediction\", \"Probability\")\n",
        "    table.add_row(\"My ResNet\", imagenet_labels[my_predictions[i]], f\"{my_probs[i]:.3%}\")\n",
        "    table.add_row(\"Reference Model\", imagenet_labels[pretrained_predictions[i]], f\"{pretrained_probs[i]:.3%}\")\n",
        "    rprint(table)\n",
        "    display(img)"
      ]
    },
    {
      "cell_type": "markdown",
      "metadata": {
        "id": "Z3iYKgClBLJb"
      },
      "source": [
        "<details>\n",
        "<summary>Help! My model is predicting roughly the same percentage for every category!</summary>\n",
        "\n",
        "This can indicate that your model weights are randomly initialized, meaning the weight loading process didn't actually take. Or, you reinitialized your model by accident after loading the weights.\n",
        "</details>\n",
        "\n",
        "\n",
        "<details><summary>Solution</summary>\n",
        "\n",
        "```python\n",
        "@t.inference_mode()\n",
        "def predict(model, images: Float[Tensor, \"batch rgb h w\"]) -> tuple[Float[Tensor, \"batch\"], Int[Tensor, \"batch\"]]:\n",
        "    \"\"\"\n",
        "    Returns the maximum probability and predicted class for each image, as a tensor of floats and ints respectively.\n",
        "    \"\"\"\n",
        "    logits = model(images)\n",
        "    probabilities = logits.softmax(dim=-1)\n",
        "    return probabilities.max(dim=-1)\n",
        "```\n",
        "</details>"
      ]
    },
    {
      "cell_type": "markdown",
      "metadata": {
        "id": "wgz-nBABBLJc"
      },
      "source": [
        "If you've done everything correctly, your version should give the same classifications, and the percentages should match at least to a couple decimal places.\n",
        "\n",
        "If it does, congratulations, you've now run an entire ResNet, using barely any code from `torch.nn`! The only things we used were `nn.Module` and `nn.Parameter`.\n",
        "\n",
        "If it doesn't, you get to practice model debugging! Remember to use the `utils.print_param_count` function that was provided."
      ]
    },
    {
      "cell_type": "markdown",
      "metadata": {
        "id": "UNc0x9DmBLJc"
      },
      "source": [
        "### Aside - hooks\n",
        "\n",
        "One problem you might have encountered is that your model outputs `NaN`s rather than actual numbers. When debugging this, it's useful to try and identify which module the error first appears in. This is a great use-case for **hooks**, which are something we'll be digging a lot more into during our mechanistic interpretability exercises later on.\n",
        "\n",
        "A hook is basically a function which you can attach to a particular `nn.Module`, which gets executed during your model's forward or backward passes. Here, we'll only consider forward hooks. A hook function's type signature is:\n",
        "\n",
        "```python\n",
        "def hook(module: nn.Module, inputs: list[t.Tensor], output: t.Tensor) -> None:\n",
        "    pass\n",
        "```\n",
        "\n",
        "The `inputs` argument is a list of the inputs to the module (often just one tensor), and the `output` argument is the output of the module. This hook gets registered to a module by calling `module.register_forward_hook(hook)`. During forward passes, the hook function will run.\n",
        "\n",
        "Here is some code which will check for `NaN`s in the output of each module, and raise a `ValueError` if it finds any. We've also given you an example tiny network which produces a `NaN` in the output of the second layer, to demonstrate it on."
      ]
    },
    {
      "cell_type": "code",
      "execution_count": null,
      "metadata": {
        "id": "GLLAjqP1BLJd"
      },
      "outputs": [],
      "source": [
        "class NanModule(nn.Module):\n",
        "    \"\"\"\n",
        "    Define a module that always returns NaNs (we will use hooks to identify this error).\n",
        "    \"\"\"\n",
        "\n",
        "    def forward(self, x):\n",
        "        return t.full_like(x, float(\"nan\"))\n",
        "\n",
        "\n",
        "def hook_check_for_nan_output(module: nn.Module, input: tuple[Tensor], output: Tensor) -> None:\n",
        "    \"\"\"\n",
        "    Hook function which detects when the output of a layer is NaN.\n",
        "    \"\"\"\n",
        "    if t.isnan(output).any():\n",
        "        raise ValueError(f\"NaN output from {module}\")\n",
        "\n",
        "\n",
        "def add_hook(module: nn.Module) -> None:\n",
        "    \"\"\"\n",
        "    Register our hook function in a module.\n",
        "\n",
        "    Use model.apply(add_hook) to recursively apply the hook to model and all submodules.\n",
        "    \"\"\"\n",
        "    module.register_forward_hook(hook_check_for_nan_output)\n",
        "\n",
        "\n",
        "def remove_hooks(module: nn.Module) -> None:\n",
        "    \"\"\"\n",
        "    Remove all hooks from module.\n",
        "\n",
        "    Use module.apply(remove_hooks) to do this recursively.\n",
        "    \"\"\"\n",
        "    module._backward_hooks.clear()\n",
        "    module._forward_hooks.clear()\n",
        "    module._forward_pre_hooks.clear()\n",
        "\n",
        "\n",
        "# Create our model with a NaN in the middle, and apply a hook function to it which checks for NaNs\n",
        "model = nn.Sequential(nn.Identity(), NanModule(), nn.Identity())\n",
        "model = model.apply(add_hook)\n",
        "\n",
        "# Run the model, and and our hook function should raise an error that gets caught by the try-except\n",
        "try:\n",
        "    input = t.randn(3)\n",
        "    output = model(input)\n",
        "except ValueError as e:\n",
        "    print(e)\n",
        "\n",
        "# Remove hooks at the end\n",
        "model = model.apply(remove_hooks)"
      ]
    },
    {
      "cell_type": "markdown",
      "metadata": {
        "id": "LXcvKUPABLJe"
      },
      "source": [
        "When you run this code, you should find it raising an error at the `NanModule`.\n",
        "\n",
        "\n",
        "> Important - when you're working with PyTorch hooks, make sure you **remember to remove them at the end of each use**! This is a classic source of bugs, and one of the things that make PyTorch hooks so janky. When we study TransformerLens in the next chapter, we'll use a version of hooks that is essentially the same under the hood, but comes with quite a few quality of life improvements!"
      ]
    },
    {
      "cell_type": "markdown",
      "metadata": {
        "id": "iTbqW3kzBLJe"
      },
      "source": [
        "# ☆ Bonus - Feature Extraction\n",
        "\n",
        "> ##### Learning Objectives\n",
        ">\n",
        "> * Understand the difference between feature extraction and finetuning\n",
        "> * Perform feature extraction on a pre-trained ResNet"
      ]
    },
    {
      "cell_type": "markdown",
      "metadata": {
        "id": "xBJc8xebBLJf"
      },
      "source": [
        "Now that you've seen how to build a modular training loop, and you've seen how ResNet works and is built, we're going to put these two things together to finetune a ResNet model on a new dataset.\n",
        "\n",
        "**Finetuning** can mean slightly different things in different contexts, but broadly speaking it means using the weights of an already trained network as the starting values for training a new network. Because training networks from scratch is very computationally expensive, this is a common practice in ML.\n",
        "\n",
        "The specific type of finetuning we'll be doing here is called **feature extraction**. This is when we freeze most layers of a model except the last few, and perform gradient descent on those. We call this feature extraction because the earlier layers of the model have already learned to identify important features of the data (and these features are also relevant for the new task), so all that we have to do is train a few final layers in the model to extract these features.\n",
        "\n",
        "*Terminology note - sometimes feature extraction and finetuning are defined differently, with finetuning referring to the training of all the weights in a pretrained model (usually with a small or decaying learning rate), and feature extraction referring to the freezing of some layers and training of others. To avoid confusion here, we'll use the term \"feature extraction\" rather than \"finetuning\".*\n",
        "\n",
        "<img src=\"https://raw.githubusercontent.com/info-arena/ARENA_img/main/misc/feature_extraction.png\" width=\"400\">\n",
        "\n",
        "How do we prepare a model for feature extraction? By **freezing layers** of our model.\n",
        "\n",
        "We'll discuss freezing layers & the backpropagation algorithm in much more detail tomorrow, but for now it's fine to just understand what's going on at a basic level. When we call `loss.backward()` in our training loop (or when this is implicitly called by our PyTorch Lightning trainer), this propagates gradients from our `loss` scalar back to all parameters in our model. If a parameter has its `requires_grad` attribute set to `False`, it means gradients won't be computed for this tensor during backpropagation. Thanks to PyTorch helpfully keeping track of the parameters which require gradients (using a structure called the **computational graph**), if we set `requires_grad = False` for the first few layers of parameters in our model, PyTorch will actually save us time and compute by not calculating gradients for these parameters at all.\n",
        "\n",
        "See the code below as an example of how gradient propagation stops at tensors with `requires_grad = False`."
      ]
    },
    {
      "cell_type": "code",
      "execution_count": null,
      "metadata": {
        "id": "oFaYEyxaBLJf"
      },
      "outputs": [],
      "source": [
        "layer0, layer1 = nn.Linear(3, 4), nn.Linear(4, 5)\n",
        "\n",
        "layer0.requires_grad_(False)  # generic code to set `param.requires_grad=False` recursively for a module / entire model\n",
        "\n",
        "x = t.randn(3)\n",
        "out = layer1(layer0(x)).sum()\n",
        "out.backward()\n",
        "\n",
        "assert layer0.weight.grad is None\n",
        "assert layer1.weight.grad is not None"
      ]
    },
    {
      "cell_type": "markdown",
      "metadata": {
        "id": "kwpZ-zd4BLJg"
      },
      "source": [
        "### Exercise - prepare ResNet for feature extraction\n",
        "\n",
        "> ```yaml\n",
        "> Difficulty: 🔴🔴🔴⚪⚪\n",
        "> Importance: 🔵🔵🔵⚪⚪\n",
        ">\n",
        "> You should spend up to 15-20 minutes on this exercise.\n",
        "> ```\n",
        "\n",
        "First, you should complete the function below to do the following:\n",
        "\n",
        "* Instantiate a `ResNet34` model using your class, and copy in weights from a pretrained model (you can use code from earlier here)\n",
        "* Disable gradients for all layers\n",
        "* Replace the final linear layer with a new linear layer, which has the same number of `in_features`, but a different number of `out_features` (given by the `n_classes` argument)."
      ]
    },
    {
      "cell_type": "code",
      "execution_count": null,
      "metadata": {
        "id": "W0fkERFDBLJh"
      },
      "outputs": [],
      "source": [
        "def get_resnet_for_feature_extraction(n_classes: int) -> ResNet34:\n",
        "    \"\"\"\n",
        "    Creates a ResNet34 instance, replaces its final linear layer with a classifier for `n_classes` classes, and freezes\n",
        "    all weights except the ones in this layer.\n",
        "\n",
        "    Returns the ResNet model.\n",
        "    \"\"\"\n",
        "    raise NotImplementedError()\n",
        "\n",
        "\n",
        "tests.test_get_resnet_for_feature_extraction(get_resnet_for_feature_extraction)"
      ]
    },
    {
      "cell_type": "markdown",
      "metadata": {
        "id": "rQvSUZ-CBLJh"
      },
      "source": [
        "<details><summary>Solution</summary>\n",
        "\n",
        "```python\n",
        "def get_resnet_for_feature_extraction(n_classes: int) -> ResNet34:\n",
        "    \"\"\"\n",
        "    Creates a ResNet34 instance, replaces its final linear layer with a classifier for `n_classes` classes, and freezes\n",
        "    all weights except the ones in this layer.\n",
        "\n",
        "    Returns the ResNet model.\n",
        "    \"\"\"\n",
        "    # Create a ResNet34 with the default number of classes\n",
        "    my_resnet = ResNet34()\n",
        "\n",
        "    # Load the pretrained weights\n",
        "    pretrained_resnet = models.resnet34(weights=models.ResNet34_Weights.IMAGENET1K_V1)\n",
        "\n",
        "    # Copy the weights over\n",
        "    my_resnet = copy_weights(my_resnet, pretrained_resnet)\n",
        "\n",
        "    # Freeze gradients for all layers (note that when we redefine the last layer, it will be unfrozen)\n",
        "    my_resnet.requires_grad_(False)\n",
        "\n",
        "    # Redefine last layer\n",
        "    my_resnet.out_layers[-1] = Linear(my_resnet.out_features_per_group[-1], n_classes)\n",
        "\n",
        "    return my_resnet\n",
        "```\n",
        "</details>"
      ]
    },
    {
      "cell_type": "markdown",
      "metadata": {
        "id": "pDy-tV5BBLJi"
      },
      "source": [
        "We'll now give you some boilerplate code to load in and transform your data (this is pretty similar to the MNIST code)."
      ]
    },
    {
      "cell_type": "code",
      "execution_count": null,
      "metadata": {
        "id": "kog0S1iCBLJi"
      },
      "outputs": [],
      "source": [
        "def get_cifar() -> tuple[datasets.CIFAR10, datasets.CIFAR10]:\n",
        "    \"\"\"Returns CIFAR-10 train and test sets.\"\"\"\n",
        "    cifar_trainset = datasets.CIFAR10(exercises_dir / \"data\", train=True, download=True, transform=IMAGENET_TRANSFORM)\n",
        "    cifar_testset = datasets.CIFAR10(exercises_dir / \"data\", train=False, download=True, transform=IMAGENET_TRANSFORM)\n",
        "    return cifar_trainset, cifar_testset\n",
        "\n",
        "\n",
        "@dataclass\n",
        "class ResNetTrainingArgs:\n",
        "    batch_size: int = 64\n",
        "    epochs: int = 5\n",
        "    learning_rate: float = 1e-3\n",
        "    n_classes: int = 10"
      ]
    },
    {
      "cell_type": "markdown",
      "metadata": {
        "id": "AAvCoAAJBLJj"
      },
      "source": [
        "The dataclass we've defined containing training arguments is basically the same as the one we had for the convnet, the main difference is that we're now using the [CIFAR-10 dataset](https://www.cs.toronto.edu/~kriz/cifar.html). This is the dataset we'll be training our model on. It consists of 60000 32x32 colour images in 10 classes, with 6000 images per class. See the link for more information."
      ]
    },
    {
      "cell_type": "markdown",
      "metadata": {
        "id": "L2a9LJsJBLJk"
      },
      "source": [
        "### Exercise - write training loop for feature extraction\n",
        "\n",
        "> ```yaml\n",
        "> Difficulty: 🔴🔴🔴⚪⚪\n",
        "> Importance: 🔵🔵🔵⚪⚪\n",
        ">\n",
        "> You should spend up to 15-25 minutes on this exercise.\n",
        "> ```\n",
        "\n",
        "We now come to the final task - write a training loop for your ResNet model. This shouldn't be too difficult because most of the code can be directly taken from the exercise in section 2️⃣, however there are a few changes you should take note of:\n",
        "\n",
        "- Since all other parameters' gradients have been frozen, it doesn't really matter which parameters you pass to your optimizer. However, note that you have the option of passing just a subset of parameters using e.g. `AdamW(model.some_module.parameters(), ...)`.\n",
        "- Now that we're working with batchnorm, you'll have to call `model.train()` and `model.eval()` before your training and validation loops (recall that the behaviour of batchnorm changes between training and eval modes).\n",
        "- Make sure you're connected to GPU runtime rather than CPU, otherwise this training might take quite a while.\n",
        "- Also make sure you're logging progress within each epoch, since the epochs might each take a while (although we've given you the `get_cifar_subset` function which returns a subset of the CIFAR10 data, and we recommend using this function with default parameters so that each epoch is a bit faster)."
      ]
    },
    {
      "cell_type": "code",
      "execution_count": null,
      "metadata": {
        "id": "wGTOHk8FBLJl"
      },
      "outputs": [],
      "source": [
        "from torch.utils.data import Subset\n",
        "\n",
        "\n",
        "def get_cifar_subset(trainset_size: int = 10_000, testset_size: int = 1_000) -> tuple[Subset, Subset]:\n",
        "    \"\"\"Returns a subset of CIFAR-10 train and test sets (slicing the first examples from the datasets).\"\"\"\n",
        "    cifar_trainset, cifar_testset = get_cifar()\n",
        "    return Subset(cifar_trainset, range(trainset_size)), Subset(cifar_testset, range(testset_size))\n",
        "\n",
        "\n",
        "def train(args: ResNetTrainingArgs) -> tuple[list[float], list[float], ResNet34]:\n",
        "    \"\"\"\n",
        "    Performs feature extraction on ResNet, returning the model & lists of loss and accuracy.\n",
        "    \"\"\"\n",
        "    # YOUR CODE HERE - write your train function for feature extraction\n",
        "    raise NotImplementedError()\n",
        "\n",
        "\n",
        "args = ResNetTrainingArgs()\n",
        "loss_list, accuracy_list, model = train(args)"
      ]
    },
    {
      "cell_type": "code",
      "execution_count": null,
      "metadata": {
        "id": "2QW2KKdHBLJm"
      },
      "outputs": [],
      "source": [
        "line(\n",
        "    y=[loss_list, [1 / args.n_classes] + accuracy_list],  # we start by assuming a uniform accuracy of 10%\n",
        "    use_secondary_yaxis=True,\n",
        "    x_max=args.epochs * 10_000,\n",
        "    labels={\"x\": \"Num examples seen\", \"y1\": \"Cross entropy loss\", \"y2\": \"Test Accuracy\"},\n",
        "    title=\"ResNet Feature Extraction\",\n",
        "    width=800,\n",
        ")"
      ]
    },
    {
      "cell_type": "markdown",
      "metadata": {
        "id": "t3CLmt9TBLJn"
      },
      "source": [
        "<details>\n",
        "<summary>Spoilers - what kind of results should you get?</summary>\n",
        "\n",
        "If you train the whole model rather than just the final layer, you should find accuracy increases very slowly, not getting very far above random chance. This reflects the fact that the model is trying to learn a new task (classifying images into 10 classes) from scratch, rather than just learning to extract features from images, and this takes a long time!\n",
        "\n",
        "If you train just the final layer, your accuracy should reach around 70-80% by the first epoch. This is because the model is already very good at extracting features from images, and it just needs to learn how to turn these features into predictions for this new set of classes.\n",
        "\n",
        "</details>\n",
        "\n",
        "\n",
        "<details><summary>Solution</summary>\n",
        "\n",
        "```python\n",
        "from torch.utils.data import Subset\n",
        "\n",
        "\n",
        "def get_cifar_subset(trainset_size: int = 10_000, testset_size: int = 1_000) -> tuple[Subset, Subset]:\n",
        "    \"\"\"Returns a subset of CIFAR-10 train and test sets (slicing the first examples from the datasets).\"\"\"\n",
        "    cifar_trainset, cifar_testset = get_cifar()\n",
        "    return Subset(cifar_trainset, range(trainset_size)), Subset(cifar_testset, range(testset_size))\n",
        "\n",
        "\n",
        "def train(args: ResNetTrainingArgs) -> tuple[list[float], list[float], ResNet34]:\n",
        "    \"\"\"\n",
        "    Performs feature extraction on ResNet, returning the model & lists of loss and accuracy.\n",
        "    \"\"\"\n",
        "    model = get_resnet_for_feature_extraction(args.n_classes).to(device)\n",
        "\n",
        "    trainset, testset = get_cifar_subset()\n",
        "    trainloader = DataLoader(trainset, batch_size=args.batch_size, shuffle=True)\n",
        "    testloader = DataLoader(testset, batch_size=args.batch_size, shuffle=False)\n",
        "\n",
        "    optimizer = t.optim.Adam(model.out_layers[-1].parameters(), lr=args.learning_rate)\n",
        "\n",
        "    loss_list = []\n",
        "    accuracy_list = []\n",
        "\n",
        "    for epoch in range(args.epochs):\n",
        "        # Training loop\n",
        "        model.train()\n",
        "        for imgs, labels in (pbar := tqdm(trainloader)):\n",
        "            # Move data to device, perform forward pass\n",
        "            imgs, labels = imgs.to(device), labels.to(device)\n",
        "            logits = model(imgs)\n",
        "\n",
        "            # Calculate loss, perform backward pass\n",
        "            loss = F.cross_entropy(logits, labels)\n",
        "            loss.backward()\n",
        "            optimizer.step()\n",
        "            optimizer.zero_grad()\n",
        "\n",
        "            # Update logs & progress bar\n",
        "            loss_list.append(loss.item())\n",
        "            pbar.set_postfix(epoch=f\"{epoch+1}/{epochs}\", loss=f\"{loss:.3f}\")\n",
        "\n",
        "        # Validation loop\n",
        "        model.eval()\n",
        "        num_correct_classifications = 0\n",
        "        for imgs, labels in testloader:\n",
        "            # Move data to device, perform forward pass in inference mode\n",
        "            imgs, labels = imgs.to(device), labels.to(device)\n",
        "            with t.inference_mode():\n",
        "                logits = model(imgs)\n",
        "\n",
        "            # Compute num correct by comparing argmaxed logits to true labels\n",
        "            predictions = t.argmax(logits, dim=1)\n",
        "            num_correct_classifications += (predictions == labels).sum().item()\n",
        "\n",
        "        # Compute & log total accuracy\n",
        "        accuracy = num_correct_classifications / len(mnist_testset)\n",
        "        accuracy_list.append(accuracy)\n",
        "\n",
        "    return loss_list, accuracy_list, model\n",
        "```\n",
        "</details>"
      ]
    },
    {
      "cell_type": "markdown",
      "metadata": {
        "id": "NkokzzxbBLJo"
      },
      "source": [
        "# ☆ Bonus - Convolutions From Scratch\n",
        "\n",
        "> ##### Learning Objectives\n",
        ">\n",
        "> * Understand how array strides work, and why they're important for efficient linear operations\n",
        "> * Learn how to use `as_strided` to perform simple linear operations like trace and matrix multiplication\n",
        "> * Implement your own convolutions and maxpooling functions using stride-based methods"
      ]
    },
    {
      "cell_type": "markdown",
      "metadata": {
        "id": "Po523vvBBLJp"
      },
      "source": [
        "This section is designed to get you familiar with the implementational details of layers like `Linear` and `Conv2d`. You'll be using libraries like `einops`, and functions like `torch.as_strided` to get a very low-level picture of how these operations work, which will help build up your overall understanding.\n",
        "\n",
        "Note that `torch.as_strided` isn't something which will come up explicitly in much of the rest of the course (unlike `einops`). The purpose of the stride exercises is more to give you an appreciation for what's going on under the hood, so that we can build layers of abstraction on top of that during the rest of this week (and by extension this course). I see this as analogous to how [many CS courses](https://cs50.harvard.edu/x/2023/) start by teaching you about languages like C and concepts like pointers and memory management before moving on to higher-level langauges like Python which abstract away these details. The hope is that when you get to the later sections of the course, you'll have the tools to understand them better."
      ]
    },
    {
      "cell_type": "markdown",
      "metadata": {
        "id": "NRRSjn85BLJp"
      },
      "source": [
        "## Reading\n",
        "\n",
        "* [Python NumPy, 6.1 - `as_strided()`](https://www.youtube.com/watch?v=VlkzN00P0Bc) explains what array strides are.\n",
        "* [`as_strided` and `sum` are all you need](https://jott.live/markdown/as_strided) gives an overview of how to use `as_strided` to perform array operations.\n",
        "* [Advanced NumPy: Master stride tricks with 25 illustrated exercises](https://towardsdatascience.com/advanced-numpy-master-stride-tricks-with-25-illustrated-exercises-923a9393ab20) provides several clear and intuitive examples of `as_strided` being used to construct arrays."
      ]
    },
    {
      "cell_type": "markdown",
      "metadata": {
        "id": "fKgLOnhjBLJq"
      },
      "source": [
        "## Basic stride exercises\n",
        "\n",
        "Array strides, and the `as_strided` method, are important to understand well because lots of linear operations are actually implementing something like `as_strided` under the hood.\n",
        "\n",
        "Run the following code, to define this tensor:"
      ]
    },
    {
      "cell_type": "code",
      "execution_count": null,
      "metadata": {
        "id": "2tvzPLINBLJq"
      },
      "outputs": [],
      "source": [
        "test_input = t.tensor(\n",
        "    [\n",
        "        [0, 1, 2, 3, 4],\n",
        "        [5, 6, 7, 8, 9],\n",
        "        [10, 11, 12, 13, 14],\n",
        "        [15, 16, 17, 18, 19],\n",
        "    ],\n",
        "    dtype=t.float,\n",
        ")"
      ]
    },
    {
      "cell_type": "markdown",
      "metadata": {
        "id": "3gSV0CSpBLJr"
      },
      "source": [
        "This tensor is stored in a contiguous block in computer memory.\n",
        "\n",
        "We can call the `stride` method to get the strides of this particular array. Running `test_input.stride()`, we get `(5, 1)`. This means that we need to skip over one element in the storage of this tensor to get to the next element in the row, and 5 elements to get the next element in the column (because you have to jump over all 5 elements in the row). Another way of phrasing this: the `n`th element in the stride is the number of elements we need to skip over to move one index position in the `n`th dimension."
      ]
    },
    {
      "cell_type": "markdown",
      "metadata": {
        "id": "0EqwkwDNBLJr"
      },
      "source": [
        "### Exercise - fill in the correct size and stride\n",
        "\n",
        "> ```yaml\n",
        "> Difficulty: 🔴🔴🔴🔴⚪\n",
        "> Importance: 🔵🔵⚪⚪⚪\n",
        ">\n",
        "> You should spend up to ~30 minutes on these exercises collectively.\n",
        "> Strides can be confusing and fiddly, so you should be willing to look at the solution if you're stuck! They are not the most important part of the material today.\n",
        "> ```\n",
        "\n",
        "In the exercises below, we will work with the `test_input` tensor above. You should fill in the `size` and `stride` arguments so that calling `test_input.as_strided` with these arguments produces the desired output. When you run the cell, the `for` loop at the end will iterate through the test cases and print out whether the test passed or failed.\n",
        "\n",
        "We've already filled in the first two as an example, along with illustrations explaining what's going on:\n",
        "\n",
        "<img src=\"https://raw.githubusercontent.com/info-arena/ARENA_img/main/misc/strides3c.png\" width=\"700\">\n",
        "\n",
        "By the end of these examples, hopefully you'll have a clear idea of what's going on. If you're still confused by some of these, then the dropdown below the codeblock contains some annotations to explain the answers."
      ]
    },
    {
      "cell_type": "code",
      "execution_count": null,
      "metadata": {
        "id": "GeRYoSIaBLJs"
      },
      "outputs": [],
      "source": [
        "TestCase = namedtuple(\"TestCase\", [\"output\", \"size\", \"stride\"])\n",
        "\n",
        "test_cases = [\n",
        "    # Example 1\n",
        "    TestCase(\n",
        "        output=t.tensor([0, 1, 2, 3]),\n",
        "        size=(4,),\n",
        "        stride=(1,),\n",
        "    ),\n",
        "    # Example 2\n",
        "    TestCase(\n",
        "        output=t.tensor([[0, 2], [5, 7]]),\n",
        "        size=(2, 2),\n",
        "        stride=(5, 2),\n",
        "    ),\n",
        "    # Start of exercises (you should fill in size & stride for all 6 of these):\n",
        "    TestCase(\n",
        "        output=t.tensor([0, 1, 2, 3, 4]),\n",
        "        size=None,\n",
        "        stride=None,\n",
        "    ),\n",
        "    TestCase(\n",
        "        output=t.tensor([0, 5, 10, 15]),\n",
        "        size=None,\n",
        "        stride=None,\n",
        "    ),\n",
        "    TestCase(\n",
        "        output=t.tensor([[0, 1, 2], [5, 6, 7]]),\n",
        "        size=None,\n",
        "        stride=None,\n",
        "    ),\n",
        "    TestCase(\n",
        "        output=t.tensor([[0, 1, 2], [10, 11, 12]]),\n",
        "        size=None,\n",
        "        stride=None,\n",
        "    ),\n",
        "    TestCase(\n",
        "        output=t.tensor([[0, 0, 0], [11, 11, 11]]),\n",
        "        size=None,\n",
        "        stride=None,\n",
        "    ),\n",
        "    TestCase(\n",
        "        output=t.tensor([0, 6, 12, 18]),\n",
        "        size=None,\n",
        "        stride=None,\n",
        "    ),\n",
        "]\n",
        "\n",
        "\n",
        "for i, test_case in enumerate(test_cases):\n",
        "    if (test_case.size is None) or (test_case.stride is None):\n",
        "        print(f\"Test {i} failed: attempt missing.\")\n",
        "    else:\n",
        "        actual = test_input.as_strided(size=test_case.size, stride=test_case.stride)\n",
        "        if (test_case.output != actual).any():\n",
        "            print(f\"Test {i} failed\\n  Expected: {test_case.output}\\n  Actual: {actual}\")\n",
        "        else:\n",
        "            print(f\"Test {i} passed!\")"
      ]
    },
    {
      "cell_type": "markdown",
      "metadata": {
        "id": "3rq1EYUNBLJs"
      },
      "source": [
        "<details><summary>Solution</summary>\n",
        "\n",
        "```python\n",
        "test_cases = [\n",
        "    # Example 1\n",
        "    TestCase(\n",
        "        output=t.tensor([0, 1, 2, 3]),\n",
        "        size=(4,),\n",
        "        stride=(1,),\n",
        "    ),\n",
        "    # Example 2\n",
        "    TestCase(\n",
        "        output=t.tensor([[0, 2], [5, 7]]),\n",
        "        size=(2, 2),\n",
        "        stride=(5, 2),\n",
        "    ),\n",
        "    # Start of exercises (you should fill in size & stride for all 6 of these):\n",
        "    TestCase(\n",
        "        output=t.tensor([0, 1, 2, 3, 4]),\n",
        "        size=(5,),\n",
        "        stride=(1,),\n",
        "    ),\n",
        "    # # Explanation: the tensor is held in a contiguous memory block. When you get to the end of one row, a single\n",
        "    # # stride jumps to the start of the next row\n",
        "    #\n",
        "    TestCase(\n",
        "        output=t.tensor([0, 5, 10, 15]),\n",
        "        size=(4,),\n",
        "        stride=(5,),\n",
        "    ),\n",
        "    # # Explanation: this is same as previous case, only now you're moving in colspace (i.e. skipping 5 elements) each\n",
        "    # # time you move one element across the output tensor. So stride is 5 rather than 1\n",
        "    #\n",
        "    TestCase(\n",
        "        output=t.tensor([[0, 1, 2], [5, 6, 7]]),\n",
        "        size=(2, 3),\n",
        "        stride=(5, 1),\n",
        "    ),\n",
        "    # # Explanation: as you move one column to the right in the output tensor, you want to jump one element in `test_input`\n",
        "    # # (since you're just going one column to the right). As you move one row down in the output tensor, you want to jump\n",
        "    # # down one row in `test_input` (which is equivalent to a stride of 5, because we're jumping 5 elements).\n",
        "    #\n",
        "    TestCase(\n",
        "        output=t.tensor([[0, 1, 2], [10, 11, 12]]),\n",
        "        size=(2, 3),\n",
        "        stride=(10, 1),\n",
        "    ),\n",
        "    # # Explanation: same as previous, except now we're jumping over 10 elements (2 rows of 5 elements) each time we\n",
        "    # # move down in the output tensor.\n",
        "    #\n",
        "    TestCase(\n",
        "        output=t.tensor([[0, 0, 0], [11, 11, 11]]),\n",
        "        size=(2, 3),\n",
        "        stride=(11, 0),\n",
        "    ),\n",
        "    # # Explanation: we're copying horizontally, i.e. we don't move in the original tensor when we step right in the\n",
        "    # # output tensor, so the stride is 0 (this is a very important case to understand for the later exercises, since\n",
        "    # # it's effectively our way of doing an einops.repeat operation!). As we move one row down, we're jumping over 11\n",
        "    # # elements in the original tensor (going from 0 to 11).\n",
        "    #\n",
        "    TestCase(\n",
        "        output=t.tensor([0, 6, 12, 18]),\n",
        "        size=(4,),\n",
        "        stride=(6,),\n",
        "    ),\n",
        "    # Explanation: we're effectively taking the diagonal elements of the original tensor here, since we're creating a\n",
        "    # 1D tensor with stride equal to (row_stride + col_stride) of the original tensor.\n",
        "]\n",
        "```\n",
        "</details>"
      ]
    },
    {
      "cell_type": "markdown",
      "metadata": {
        "id": "IxL4HwowBLJt"
      },
      "source": [
        "## Intermediate stride exercises\n",
        "\n",
        "Now that you're comfortable with the basics, we'll dive a little deeper with `as_strided`. In the last few exercises of this section, you'll start to implement some more challenging stride functions: trace, matrix-vector and matrix-matrix multiplication, just like we did for `einsum` in the previous section."
      ]
    },
    {
      "cell_type": "markdown",
      "metadata": {
        "id": "_NpTduCuBLJu"
      },
      "source": [
        "### Exercise - trace\n",
        "\n",
        "> ```yaml\n",
        "> Difficulty: 🔴🔴⚪⚪⚪\n",
        "> Importance: 🔵🔵⚪⚪⚪\n",
        ">\n",
        "> You should spend up to 10-15 minutes on this exercise.\n",
        "> Use the hint if you're stuck.\n",
        "> ```\n",
        "\n",
        "You might find the very last example in the previous section helpful for this exercise."
      ]
    },
    {
      "cell_type": "code",
      "execution_count": null,
      "metadata": {
        "id": "NzEsWDyVBLJu"
      },
      "outputs": [],
      "source": [
        "def as_strided_trace(mat: Float[Tensor, \"i j\"]) -> Float[Tensor, \"\"]:\n",
        "    \"\"\"\n",
        "    Returns the same as `torch.trace`, using only `as_strided` and `sum` methods.\n",
        "    \"\"\"\n",
        "    raise NotImplementedError()\n",
        "\n",
        "\n",
        "tests.test_trace(as_strided_trace)"
      ]
    },
    {
      "cell_type": "markdown",
      "metadata": {
        "id": "dKeVKqbCBLJv"
      },
      "source": [
        "<details>\n",
        "<summary>Hint</summary>\n",
        "\n",
        "The trace is the sum of all the elements you get from starting at `[0, 0]` and then continually stepping down and right one element. Use strides to create a 1D array which contains these elements.\n",
        "</details>\n",
        "\n",
        "\n",
        "<details><summary>Solution</summary>\n",
        "\n",
        "```python\n",
        "def as_strided_trace(mat: Float[Tensor, \"i j\"]) -> Float[Tensor, \"\"]:\n",
        "    \"\"\"\n",
        "    Returns the same as `torch.trace`, using only `as_strided` and `sum` methods.\n",
        "    \"\"\"\n",
        "    stride = mat.stride()\n",
        "\n",
        "    assert len(stride) == 2, f\"matrix should be 2D, not {len(stride)}\"\n",
        "    assert mat.size(0) == mat.size(1), \"matrix should be square\"\n",
        "\n",
        "    diag = mat.as_strided((mat.size(0),), (stride[0] + stride[1],))\n",
        "\n",
        "    return diag.sum()\n",
        "```\n",
        "</details>"
      ]
    },
    {
      "cell_type": "markdown",
      "metadata": {
        "id": "5U9ha9djBLJv"
      },
      "source": [
        "### Exercise - matrix-vector multiplication\n",
        "\n",
        "> ```yaml\n",
        "> Difficulty: 🔴🔴🔴⚪⚪\n",
        "> Importance: 🔵🔵🔵⚪⚪\n",
        ">\n",
        "> You should spend up to 15-20 minutes on this exercise.\n",
        "> The hints should be especially useful here if you're stuck. There are two hints available to you.\n",
        "> ```\n",
        "\n",
        "You should implement this using only `as_strided` and `sum` methods, and elementwise multiplication `*` - in other words, no matrix multiplication functions!\n",
        "\n",
        "You might find the second last example in the previous section helpful for this exercise (i.e. the one that involved a stride of zero)."
      ]
    },
    {
      "cell_type": "code",
      "execution_count": null,
      "metadata": {
        "id": "xlA6BFgOBLJw"
      },
      "outputs": [],
      "source": [
        "def as_strided_mv(mat: Float[Tensor, \"i j\"], vec: Float[Tensor, \"j\"]) -> Float[Tensor, \"i\"]:\n",
        "    \"\"\"\n",
        "    Returns the same as `torch.matmul`, using only `as_strided` and `sum` methods.\n",
        "    \"\"\"\n",
        "    raise NotImplementedError()\n",
        "\n",
        "\n",
        "tests.test_mv(as_strided_mv)\n",
        "tests.test_mv2(as_strided_mv)"
      ]
    },
    {
      "cell_type": "markdown",
      "metadata": {
        "id": "zpP9RpDABLJw"
      },
      "source": [
        "<details>\n",
        "<summary>Hint 1</summary>\n",
        "\n",
        "You want your output array to be as follows:\n",
        "\n",
        "$$\n",
        "\\text{output}[i] = \\sum_j \\text{mat}[i, j] \\times \\text{vector}[j]\n",
        "$$\n",
        "\n",
        "so first try to create an array with:\n",
        "\n",
        "$$\n",
        "\\text{arr}[i, j] = \\text{mat}[i, j] \\times \\text{vector}[j]\n",
        "$$\n",
        "\n",
        "then you can calculate `output` by summing over the second dimension of `arr`.\n",
        "</details>\n",
        "\n",
        "<details>\n",
        "<summary>Hint 2</summary>\n",
        "\n",
        "First try to use strides to create `vec_expanded` such that:\n",
        "\n",
        "$$\n",
        "\\text{vec\\_expanded}[i, j] = \\text{vec}[j]\n",
        "$$\n",
        "\n",
        "We can then compute:\n",
        "\n",
        "$$\n",
        "\\begin{align}\n",
        "\\text{arr}[i, j] &= \\text{mat}[i, j] \\times \\text{vec\\_expanded}[i, j] \\\\\n",
        "\\text{output}[i] &= \\sum_j \\text{arr}[i, j]\n",
        "\\end{align}\n",
        "$$\n",
        "\n",
        "with the first equation being a simple elementwise multiplication, and the second equation being a sum over the second dimension.\n",
        "\n",
        "</details>\n",
        "\n",
        "<details>\n",
        "<summary>Help - I'm passing the first test, but failing the second.</summary>\n",
        "\n",
        "It's possible that the input matrices you recieve could themselves be the output of an `as_strided` operation, so that they're represented in memory in a non-contiguous way. Make sure that your `as_strided `operation is using the strides from the original input arrays, i.e. it's not just assuming the last element in the `stride()` tuple is 1.\n",
        "</details>\n",
        "\n",
        "\n",
        "<details><summary>Solution</summary>\n",
        "\n",
        "```python\n",
        "def as_strided_mv(mat: Float[Tensor, \"i j\"], vec: Float[Tensor, \"j\"]) -> Float[Tensor, \"i\"]:\n",
        "    \"\"\"\n",
        "    Returns the same as `torch.matmul`, using only `as_strided` and `sum` methods.\n",
        "    \"\"\"\n",
        "    sizeM = mat.shape\n",
        "    sizeV = vec.shape\n",
        "    strideV = vec.stride()\n",
        "\n",
        "    assert len(sizeM) == 2, f\"mat1 should be 2D, not {len(sizeM)}\"\n",
        "    assert sizeM[1] == sizeV[0], f\"mat{list(sizeM)}, vec{list(sizeV)} not compatible for multiplication\"\n",
        "\n",
        "    vec_expanded = vec.as_strided(mat.shape, (0, strideV[0]))\n",
        "\n",
        "    return (mat * vec_expanded).sum(dim=1)\n",
        "```\n",
        "</details>"
      ]
    },
    {
      "cell_type": "markdown",
      "metadata": {
        "id": "mebN0lVBBLJx"
      },
      "source": [
        "### Exercise - matrix-matrix multiplication\n",
        "\n",
        "> ```yaml\n",
        "> Difficulty: 🔴🔴🔴🔴⚪\n",
        "> Importance: 🔵🔵🔵⚪⚪\n",
        ">\n",
        "> You should spend up to 15-25 minutes on this exercise.\n",
        "> The hints should be especially useful here if you're stuck. There are two hints available to you.\n",
        "> ```\n",
        "                \n",
        "Like the previous function, this should only involve `as_strided`, `sum`, and pointwise multiplication."
      ]
    },
    {
      "cell_type": "code",
      "execution_count": null,
      "metadata": {
        "id": "aqKUifC7BLJx"
      },
      "outputs": [],
      "source": [
        "def as_strided_mm(matA: Float[Tensor, \"i j\"], matB: Float[Tensor, \"j k\"]) -> Float[Tensor, \"i k\"]:\n",
        "    \"\"\"\n",
        "    Returns the same as `torch.matmul`, using only `as_strided` and `sum` methods.\n",
        "    \"\"\"\n",
        "    raise NotImplementedError()\n",
        "\n",
        "\n",
        "tests.test_mm(as_strided_mm)\n",
        "tests.test_mm2(as_strided_mm)"
      ]
    },
    {
      "cell_type": "markdown",
      "metadata": {
        "id": "yOReWDFYBLJy"
      },
      "source": [
        "<details>\n",
        "<summary>Hint 1</summary>\n",
        "\n",
        "If you did the first one, this isn't too dissimilar. We have:\n",
        "\n",
        "$$\n",
        "\\text{output}[i, k] = \\sum_j \\text{matA}[i, j] \\times \\text{matB}[j, k]\n",
        "$$\n",
        "\n",
        "\n",
        "so in this case, try to create an array with:\n",
        "\n",
        "$$\n",
        "\\text{arr}[i, j, k] = \\text{matA}[i, j] \\times \\text{matB}[j, k]\n",
        "$$\n",
        "\n",
        "then sum this array over `j` to get our output.\n",
        "\n",
        "We need to create expanded versions of both `matA` and `matB` in order to take this product.\n",
        "</details>\n",
        "\n",
        "<details>\n",
        "<summary>Hint 2</summary>\n",
        "\n",
        "We want to compute\n",
        "\n",
        "$$\n",
        "\\text{matA\\_expanded}[i, j, k] = \\text{matA}[i, j]\n",
        "$$\n",
        "\n",
        "so our stride for `matA` should be `(matA.stride(0), matA.stride(1), 0)` (because we're repeating over the last dimension but iterating over the first 2 dimensions just like for the 2D matrix `matA`).\n",
        "        \n",
        "A similar idea applies for `matB`.\n",
        "</details>\n",
        "\n",
        "\n",
        "<details><summary>Solution</summary>\n",
        "\n",
        "```python\n",
        "def as_strided_mm(matA: Float[Tensor, \"i j\"], matB: Float[Tensor, \"j k\"]) -> Float[Tensor, \"i k\"]:\n",
        "    \"\"\"\n",
        "    Returns the same as `torch.matmul`, using only `as_strided` and `sum` methods.\n",
        "    \"\"\"\n",
        "    assert len(matA.shape) == 2, f\"mat1 should be 2D, not {len(matA.shape)}\"\n",
        "    assert len(matB.shape) == 2, f\"mat2 should be 2D, not {len(matB.shape)}\"\n",
        "    assert (\n",
        "        matA.shape[1] == matB.shape[0]\n",
        "    ), f\"mat1{list(matA.shape)}, mat2{list(matB.shape)} not compatible for multiplication\"\n",
        "\n",
        "    # Get the matrix strides, and matrix dims\n",
        "    sA0, sA1 = matA.stride()\n",
        "    dA0, dA1 = matA.shape\n",
        "    sB0, sB1 = matB.stride()\n",
        "    _, dB1 = matB.shape\n",
        "\n",
        "    # Get target size for matrices, as well as the strides necessary to create them\n",
        "    expanded_size = (dA0, dA1, dB1)\n",
        "    matA_expanded_stride = (sA0, sA1, 0)\n",
        "    matB_expanded_stride = (0, sB0, sB1)\n",
        "\n",
        "    # Create the strided matrices, and return their product summed over middle dimension\n",
        "    matA_expanded = matA.as_strided(expanded_size, matA_expanded_stride)\n",
        "    matB_expanded = matB.as_strided(expanded_size, matB_expanded_stride)\n",
        "    return (matA_expanded * matB_expanded).sum(dim=1)\n",
        "```\n",
        "</details>"
      ]
    },
    {
      "cell_type": "markdown",
      "metadata": {
        "id": "tB_MUrWEBLJy"
      },
      "source": [
        "## conv1d minimal\n",
        "\n",
        "Here, we will implement the PyTorch `conv1d` function, which can be found [here](https://pytorch.org/docs/stable/generated/torch.nn.Conv1d.html). We will start with a simple implementation where `stride=1` and `padding=0`, with the other arguments set to their default values.\n",
        "\n",
        "Firstly, some explanation of `conv1d` in PyTorch. The `1` in `1d` here refers to the number of dimensions along which we slide the weights (also called the kernel) when we convolve. Importantly, it does not refer to the number of dimensions of the tensors that are being used in our calculations. Typically the input and kernel are both 3D:\n",
        "\n",
        "* `input.shape = (batch, in_channels, width)`\n",
        "* `kernel.shape = (out_channels, in_channels, kernel_width)`\n",
        "\n",
        "A typical convolution operation is illustrated in the sketch below. Some notes on this sketch:\n",
        "\n",
        "* The `kernel_width` dimension of the kernel slides along the `width` dimension of the input. The `output_width` of the output is determined by the number of kernels that can be fit inside it; the formula can be seen in the right part of the sketch.\n",
        "* For each possible position of the kernel inside the model (i.e. each freezeframe position in the sketch), the operation happening is as follows:\n",
        "    * We take the product of the kernel values with the corresponding input values, and then take the sum\n",
        "    * This gives us a single value for each output channel\n",
        "    * These values are then passed into the output tensor\n",
        "* The sketch assumes a batch size of 1. To generalise to a larger batch number, we can just imagine this operation being repeated identically on every input.\n",
        "\n",
        "<img src=\"https://raw.githubusercontent.com/info-arena/ARENA_img/main/misc/ch0-conv1d-general.png\" width=950>"
      ]
    },
    {
      "cell_type": "markdown",
      "metadata": {
        "id": "2uTdYH-RBLJz"
      },
      "source": [
        "### A note on `out_channels`\n",
        "\n",
        "The out_channels in a conv2d layer denotes the number of filters the layer uses. Each filter detects specific features in the input, producing an output with as many channels as filters.\n",
        "\n",
        "This number isn't tied to the input image's channels but is a design choice in the neural network architecture. Commonly, powers of 2 are chosen for computational efficiency, and deeper layers might have more channels to capture complex features. Additionally, this parameter is sometimes chosen based on the heuristic of wanting to balance the parameter count / compute for each layer - which is why you often see `out_channels` growing as the size of each feature map gets smaller."
      ]
    },
    {
      "cell_type": "markdown",
      "metadata": {
        "id": "xdGAxHDMBLJ0"
      },
      "source": [
        "### Exercise - implement minimal 1D conv (part 1)\n",
        "\n",
        "> ```yaml\n",
        "> Difficulty: 🔴🔴🔴🔴⚪\n",
        "> Importance: 🔵🔵⚪⚪⚪\n",
        ">\n",
        "> You should spend up to 15-25 minutes on this exercise.\n",
        "> Use the diagram in the dropdown below, if you're stuck.\n",
        "> ```\n",
        "\n",
        "Below, you should implement `conv1d_minimal`. This is a function which works just like `conv1d`, but takes the default stride and padding values (these will be added back in later). You are allowed to use `as_strided` and `einsum`.\n",
        "\n",
        "Because this is a difficult exercise, we've given you a \"simplified\" function to implement first. This gets rid of the batch dimension, and input & output channel dimensions, so you only have to think about `x` and `weights` being one-dimensional tensors:\n",
        "\n",
        "\n",
        "<img src=\"https://raw.githubusercontent.com/info-arena/ARENA_img/main/misc/ch0-conv1d-minimal.png\" width=650>"
      ]
    },
    {
      "cell_type": "code",
      "execution_count": null,
      "metadata": {
        "id": "jgURV8JCBLJ0"
      },
      "outputs": [],
      "source": [
        "def conv1d_minimal_simple(\n",
        "    x: Float[Tensor, \"width\"], weights: Float[Tensor, \"kernel_width\"]\n",
        ") -> Float[Tensor, \"output_width\"]:\n",
        "    \"\"\"\n",
        "    Like torch's conv1d using bias=False and all other keyword arguments left at their default values.\n",
        "\n",
        "    Simplifications: batch = input channels = output channels = 1.\n",
        "    \"\"\"\n",
        "    raise NotImplementedError()\n",
        "\n",
        "\n",
        "tests.test_conv1d_minimal_simple(conv1d_minimal_simple)"
      ]
    },
    {
      "cell_type": "markdown",
      "metadata": {
        "id": "wT3D28F-BLJ1"
      },
      "source": [
        "<details>\n",
        "<summary>If you're stuck on <code>conv1d_minimal_simple</code>, click here to see a diagram which should help.</summary>\n",
        "\n",
        "This diagram illustrates the striding operation you'll need to perform on `x`. Once you do this, it's just a matter of using the right `einsum` operation to get the output.\n",
        "\n",
        "<img src=\"https://raw.githubusercontent.com/info-arena/ARENA_img/main/misc/ch0-conv1d-explained.png\" width=800>\n",
        "</details>\n",
        "\n",
        "\n",
        "<details><summary>Solution</summary>\n",
        "\n",
        "```python\n",
        "def conv1d_minimal_simple(\n",
        "    x: Float[Tensor, \"width\"], weights: Float[Tensor, \"kernel_width\"]\n",
        ") -> Float[Tensor, \"output_width\"]:\n",
        "    \"\"\"\n",
        "    Like torch's conv1d using bias=False and all other keyword arguments left at their default values.\n",
        "\n",
        "    Simplifications: batch = input channels = output channels = 1.\n",
        "    \"\"\"\n",
        "    # Get output width, using formula\n",
        "    w = x.shape[0]\n",
        "    kw = weights.shape[0]\n",
        "    ow = w - kw + 1\n",
        "\n",
        "    # Get strides for x\n",
        "    s_w = x.stride(0)\n",
        "\n",
        "    # Get strided x (the new dimension has same stride as the original stride of x)\n",
        "    x_new_shape = (ow, kw)\n",
        "    x_new_stride = (s_w, s_w)\n",
        "    # Common error: s_w is always 1 if the tensor `x` wasn't itself created via striding, so if you put 1 here you won't\n",
        "    # spot your mistake until you try this with conv2d!\n",
        "    x_strided = x.as_strided(size=x_new_shape, stride=x_new_stride)\n",
        "\n",
        "    return einops.einsum(x_strided, weights, \"ow kw, kw -> ow\")\n",
        "```\n",
        "</details>"
      ]
    },
    {
      "cell_type": "markdown",
      "metadata": {
        "id": "MpTw87FzBLJ2"
      },
      "source": [
        "### Exercise - implement minimal 1D conv (part 2)\n",
        "\n",
        "> ```yaml\n",
        "> Difficulty: 🔴🔴🔴🔴⚪\n",
        "> Importance: 🔵🔵⚪⚪⚪\n",
        ">\n",
        "> You should spend up to 15-25 minutes on this exercise.\n",
        "> ```\n",
        "\n",
        "Once you've implemented this function, you should now adapt it to make a \"full version\", which includes batch, in_channel and out_channel dimensions. If you're stuck, the dropdowns provide hints for how each of these new dimensions should be handled."
      ]
    },
    {
      "cell_type": "code",
      "execution_count": null,
      "metadata": {
        "id": "uuTmP-d_BLJ3"
      },
      "outputs": [],
      "source": [
        "def conv1d_minimal(\n",
        "    x: Float[Tensor, \"batch in_channels width\"], weights: Float[Tensor, \"out_channels in_channels kernel_width\"]\n",
        ") -> Float[Tensor, \"batch out_channels output_width\"]:\n",
        "    \"\"\"\n",
        "    Like torch's conv1d using bias=False and all other keyword arguments left at their default values.\n",
        "    \"\"\"\n",
        "    raise NotImplementedError()\n",
        "\n",
        "\n",
        "tests.test_conv1d_minimal(conv1d_minimal)"
      ]
    },
    {
      "cell_type": "markdown",
      "metadata": {
        "id": "7IOqry5xBLJ3"
      },
      "source": [
        "<details>\n",
        "<summary>Help - I'm stuck on going from <code>conv1d_minimal_simple</code> to <code>conv1d_minimal</code>.</summary>\n",
        "\n",
        "The principle is the same as before. In your function, you should:\n",
        "\n",
        "* Create a strided version of `x` by adding a dimension of length `output_width` and with the same stride as the `width` stride of `x` (the purpose of which is to be able to do all the convolutions at once).\n",
        "* Perform an einsum between this strided version of `x` and `weights`, summing over the appropriate dimensions.\n",
        "\n",
        "The way each of the new dimensions `batch`, `out_channels` and `in_channels` are handled is as follows:\n",
        "\n",
        "* `batch` - this is an extra dimension for `x`, it is *not* summed over when creating `output`.\n",
        "* `out_channels` - this is an extra dimension for `weights`, it is *not* summed over when creating `output`.\n",
        "* `in_channels` - this is an extra dimension for `weights` *and* for `x`, it *is* summed over when creating `output`.\n",
        "</details>\n",
        "\n",
        "\n",
        "<details><summary>Solution</summary>\n",
        "\n",
        "```python\n",
        "def conv1d_minimal(\n",
        "    x: Float[Tensor, \"batch in_channels width\"], weights: Float[Tensor, \"out_channels in_channels kernel_width\"]\n",
        ") -> Float[Tensor, \"batch out_channels output_width\"]:\n",
        "    \"\"\"\n",
        "    Like torch's conv1d using bias=False and all other keyword arguments left at their default values.\n",
        "    \"\"\"\n",
        "    b, ic, w = x.shape\n",
        "    oc, ic2, kw = weights.shape\n",
        "    assert ic == ic2, \"in_channels for x and weights don't match up\"\n",
        "    # Get output width, using formula\n",
        "    ow = w - kw + 1\n",
        "\n",
        "    # Get strides for x\n",
        "    s_b, s_ic, s_w = x.stride()\n",
        "\n",
        "    # Get strided x (the new dimension has the same stride as the original width-stride of x)\n",
        "    x_new_shape = (b, ic, ow, kw)\n",
        "    x_new_stride = (s_b, s_ic, s_w, s_w)\n",
        "    # Common error: xsWi is always 1, so if you put 1 here you won't spot your mistake until you try this with conv2d!\n",
        "    x_strided = x.as_strided(size=x_new_shape, stride=x_new_stride)\n",
        "\n",
        "    return einops.einsum(x_strided, weights, \"b ic ow kw, oc ic kw -> b oc ow\")\n",
        "```\n",
        "</details>"
      ]
    },
    {
      "cell_type": "markdown",
      "metadata": {
        "id": "g-PR1C_fBLJ4"
      },
      "source": [
        "## conv2d minimal\n",
        "\n",
        "2D convolutions are conceptually similar to 1D. The only difference is in how you move the kernel across the tensor as you take your convolution. In this case, you will be moving the tensor across two dimensions:\n",
        "\n",
        "<img src=\"https://raw.githubusercontent.com/info-arena/ARENA_img/main/misc/ch0-conv2d-general.png\" width=1050>\n",
        "\n",
        "For this reason, 1D convolutions tend to be used for signals (e.g. audio), 2D convolutions are used for images, and 3D convolutions are used for 3D scans (e.g. in medical applications)."
      ]
    },
    {
      "cell_type": "markdown",
      "metadata": {
        "id": "Zprbel75BLJ4"
      },
      "source": [
        "### Exercise - implement 2D minimal convolutions\n",
        "\n",
        "> ```yaml\n",
        "> Difficulty: 🔴🔴🔴🔴⚪\n",
        "> Importance: 🔵🔵⚪⚪⚪\n",
        ">\n",
        "> You should spend up to 20-25 minutes on this exercise.\n",
        "> Use the diagram in the dropdown below, if you're stuck.\n",
        "> ```\n",
        "\n",
        "You should implement `conv2d` in a similar way to `conv1d`. Again, this is expected to be difficult and there are several hints you can go through. We've also provided a diagram to help you, like for the 1D case:\n",
        "\n",
        "<img src=\"https://raw.githubusercontent.com/info-arena/ARENA_img/main/misc/ch0-conv2d-minimal.png\" width=900>"
      ]
    },
    {
      "cell_type": "code",
      "execution_count": null,
      "metadata": {
        "id": "rWJheqBwBLJ5"
      },
      "outputs": [],
      "source": [
        "def conv2d_minimal(\n",
        "    x: Float[Tensor, \"batch in_channels height width\"],\n",
        "    weights: Float[Tensor, \"out_channels in_channels kernel_height kernel_width\"],\n",
        ") -> Float[Tensor, \"batch out_channels height_padding width_padding\"]:\n",
        "    \"\"\"\n",
        "    Like torch's conv2d using bias=False and all other keyword arguments left at their default values.\n",
        "    \"\"\"\n",
        "    raise NotImplementedError()\n",
        "\n",
        "\n",
        "tests.test_conv2d_minimal(conv2d_minimal)"
      ]
    },
    {
      "cell_type": "markdown",
      "metadata": {
        "id": "cXqJ80pZBLJ5"
      },
      "source": [
        "<details>\n",
        "<summary>Hint & diagram</summary>\n",
        "\n",
        "You should be doing the same thing that you did for the 1D version. The only difference is that you're introducing 2 new dimensions to your strided version of x, rather than 1 (their sizes should be `output_height` and `output_width`, and their strides should be the same as the original `height` and `width` strides of `x` respectively).\n",
        "\n",
        "<img src=\"https://raw.githubusercontent.com/info-arena/ARENA_img/main/misc/ch0-conv2d-minimal-help.png\" width=700>\n",
        "</details>\n",
        "\n",
        "\n",
        "<details><summary>Solution</summary>\n",
        "\n",
        "```python\n",
        "def conv2d_minimal(\n",
        "    x: Float[Tensor, \"batch in_channels height width\"],\n",
        "    weights: Float[Tensor, \"out_channels in_channels kernel_height kernel_width\"],\n",
        ") -> Float[Tensor, \"batch out_channels height_padding width_padding\"]:\n",
        "    \"\"\"\n",
        "    Like torch's conv2d using bias=False and all other keyword arguments left at their default values.\n",
        "    \"\"\"\n",
        "    b, ic, h, w = x.shape\n",
        "    oc, ic2, kh, kw = weights.shape\n",
        "    assert ic == ic2, \"in_channels for x and weights don't match up\"\n",
        "    ow = w - kw + 1\n",
        "    oh = h - kh + 1\n",
        "\n",
        "    s_b, s_ic, s_h, s_w = x.stride()\n",
        "\n",
        "    # Get strided x (the new height/width dims have the same stride as the original height/width-strides of x)\n",
        "    x_new_shape = (b, ic, oh, ow, kh, kw)\n",
        "    x_new_stride = (s_b, s_ic, s_h, s_w, s_h, s_w)\n",
        "\n",
        "    x_strided = x.as_strided(size=x_new_shape, stride=x_new_stride)\n",
        "\n",
        "    return einops.einsum(x_strided, weights, \"b ic oh ow kh kw, oc ic kh kw -> b oc oh ow\")\n",
        "```\n",
        "</details>"
      ]
    },
    {
      "cell_type": "markdown",
      "metadata": {
        "id": "W7kvRkfOBLJ6"
      },
      "source": [
        "## Padding"
      ]
    },
    {
      "cell_type": "markdown",
      "metadata": {
        "id": "0xUv8ovoBLJ6"
      },
      "source": [
        "For a full version of `conv`, and for `maxpool` (which will follow shortly), you'll need to implement `pad` helper functions. PyTorch has some very generic padding functions, but to keep things simple and build up gradually, we'll write 1D and 2D functions individually."
      ]
    },
    {
      "cell_type": "markdown",
      "metadata": {
        "id": "UavOYo-gBLJ7"
      },
      "source": [
        "### Exercise - implement padding\n",
        "\n",
        "> ```yaml\n",
        "> Difficulty: 🔴🔴⚪⚪⚪\n",
        "> Importance: 🔵🔵⚪⚪⚪\n",
        ">\n",
        "> You should spend up to 15-20 minutes on this exercise, and the next.\n",
        "> ```\n",
        "\n",
        "The `pad1d` function applies padding to the width dimension of a 1D tensor, i.e. we pad with `left` entries to the start of the last dimension of `x` and with `right` entries to the end of the last dimension of `x`.\n",
        "\n",
        "Tips:\n",
        "* Use the `new_full` method of the input tensor. This is a clean way to ensure that the output tensor is on the same device as the input, and has the same dtype.\n",
        "* You can use three dots to denote slicing over multiple dimensions. For instance, `x[..., 0]` will take the `0th` slice of `x` along its last dimension. This is equivalent to `x[:, 0]` for 2D, `x[:, :, 0]` for 3D, etc."
      ]
    },
    {
      "cell_type": "code",
      "execution_count": null,
      "metadata": {
        "id": "4spyB9a7BLJ7"
      },
      "outputs": [],
      "source": [
        "def pad1d(\n",
        "    x: Float[Tensor, \"batch in_channels width\"], left: int, right: int, pad_value: float\n",
        ") -> Float[Tensor, \"batch in_channels width_padding\"]:\n",
        "    \"\"\"Return a new tensor with padding applied to the edges.\"\"\"\n",
        "    raise NotImplementedError()\n",
        "\n",
        "\n",
        "tests.test_pad1d(pad1d)\n",
        "tests.test_pad1d_multi_channel(pad1d)"
      ]
    },
    {
      "cell_type": "markdown",
      "metadata": {
        "id": "1Xd6NjvhBLJ8"
      },
      "source": [
        "<details>\n",
        "<summary>Help - I get <code>RuntimeError: The expanded size of the tensor (0) must match ...</code></summary>\n",
        "\n",
        "This might be because you've indexed with `left : -right`. Think about what will happen here when `right` is zero.\n",
        "</details>\n",
        "\n",
        "\n",
        "<details><summary>Solution</summary>\n",
        "\n",
        "```python\n",
        "def pad1d(\n",
        "    x: Float[Tensor, \"batch in_channels width\"], left: int, right: int, pad_value: float\n",
        ") -> Float[Tensor, \"batch in_channels width_padding\"]:\n",
        "    \"\"\"Return a new tensor with padding applied to the edges.\"\"\"\n",
        "    B, C, W = x.shape\n",
        "    output = x.new_full(size=(B, C, left + W + right), fill_value=pad_value)\n",
        "    output[..., left : left + W] = x  # note we can't use `left:-right`, because `right` might be zero\n",
        "    return output\n",
        "```\n",
        "</details>"
      ]
    },
    {
      "cell_type": "markdown",
      "metadata": {
        "id": "FcdCkokiBLJ9"
      },
      "source": [
        "Once you've passed the tests, you can implement the 2D version. The `left` and `right` padding arguments apply to the width dimension, and the `top` and `bottom` padding arguments apply to the height dimension."
      ]
    },
    {
      "cell_type": "code",
      "execution_count": null,
      "metadata": {
        "id": "bzjICG7kBLJ9"
      },
      "outputs": [],
      "source": [
        "def pad2d(\n",
        "    x: Float[Tensor, \"batch in_channels height width\"],\n",
        "    left: int,\n",
        "    right: int,\n",
        "    top: int,\n",
        "    bottom: int,\n",
        "    pad_value: float,\n",
        ") -> Float[Tensor, \"batch in_channels height_padding width_padding\"]:\n",
        "    \"\"\"Return a new tensor with padding applied to the width & height dimensions.\"\"\"\n",
        "    raise NotImplementedError()\n",
        "\n",
        "\n",
        "tests.test_pad2d(pad2d)\n",
        "tests.test_pad2d_multi_channel(pad2d)"
      ]
    },
    {
      "cell_type": "markdown",
      "metadata": {
        "id": "lGhIZlDUBLJ-"
      },
      "source": [
        "<details><summary>Solution</summary>\n",
        "\n",
        "```python\n",
        "def pad2d(\n",
        "    x: Float[Tensor, \"batch in_channels height width\"],\n",
        "    left: int,\n",
        "    right: int,\n",
        "    top: int,\n",
        "    bottom: int,\n",
        "    pad_value: float,\n",
        ") -> Float[Tensor, \"batch in_channels height_padding width_padding\"]:\n",
        "    \"\"\"Return a new tensor with padding applied to the width & height dimensions.\"\"\"\n",
        "    B, C, H, W = x.shape\n",
        "    output = x.new_full(size=(B, C, top + H + bottom, left + W + right), fill_value=pad_value)\n",
        "    output[..., top : top + H, left : left + W] = x\n",
        "    return output\n",
        "```\n",
        "</details>"
      ]
    },
    {
      "cell_type": "markdown",
      "metadata": {
        "id": "1MIvQ7-kBLJ-"
      },
      "source": [
        "## Full convolutions\n",
        "\n",
        "Now, you'll extend `conv1d` to handle the `stride` and `padding` arguments.\n",
        "\n",
        "`stride` is the number of input positions that the kernel slides at each step. `padding` is the number of zeros concatenated to each side of the input before the convolution.\n",
        "\n",
        "Output shape should be `(batch, output_channels, output_length)`, where output_length can be calculated as follows:\n",
        "\n",
        "$$\n",
        "\\text{output\\_length} = \\left\\lfloor\\frac{\\text{input\\_length} + 2 \\times \\text{padding} - \\text{kernel\\_size}}{\\text{stride}} \\right\\rfloor + 1\n",
        "$$\n",
        "\n",
        "Verify for yourself that the forumla above simplifies to the formula we used earlier when padding is 0 and stride is 1.\n",
        "\n",
        "Docs for pytorch's `conv1d` can be found [here](https://pytorch.org/docs/stable/generated/torch.nn.Conv1d.html)."
      ]
    },
    {
      "cell_type": "markdown",
      "metadata": {
        "id": "f6qxqz_-BLJ_"
      },
      "source": [
        "### Exercise - implement 1D convolutions\n",
        "\n",
        "> ```yaml\n",
        "> Difficulty: 🔴🔴🔴🔴⚪\n",
        "> Importance: 🔵🔵⚪⚪⚪\n",
        ">\n",
        "> You should spend up to 20-25 minutes on this exercise.\n",
        "> ```"
      ]
    },
    {
      "cell_type": "code",
      "execution_count": null,
      "metadata": {
        "id": "XcrzUnehBLJ_"
      },
      "outputs": [],
      "source": [
        "def conv1d(\n",
        "    x: Float[Tensor, \"batch in_channels width\"],\n",
        "    weights: Float[Tensor, \"out_channels in_channels kernel_width\"],\n",
        "    stride: int = 1,\n",
        "    padding: int = 0,\n",
        ") -> Float[Tensor, \"batch out_channels width\"]:\n",
        "    \"\"\"\n",
        "    Like torch's conv1d using bias=False.\n",
        "    \"\"\"\n",
        "    raise NotImplementedError()\n",
        "\n",
        "\n",
        "tests.test_conv1d(conv1d)"
      ]
    },
    {
      "cell_type": "markdown",
      "metadata": {
        "id": "NrNE0LpIBLKA"
      },
      "source": [
        "<details>\n",
        "<summary>Hint - dealing with padding</summary>\n",
        "\n",
        "As the first line of your function, replace `x` with the padded version of `x`. This way, you won't have to worry about accounting for padding in the rest of the function (e.g. in the formula for the output width).\n",
        "</details>\n",
        "\n",
        "<details>\n",
        "<summary>Hint - dealing with strides</summary>\n",
        "\n",
        "The following diagram shows how you should create the strided version of `x` differently, if you have a stride of 2 rather than the default stride of 1.\n",
        "\n",
        "<img src=\"https://raw.githubusercontent.com/info-arena/ARENA_img/main/misc/ch0-conv1d-help.png\" width=\"850\">\n",
        "\n",
        "Remember, you'll need a new formula for `output_width` (see formula in the  [documentation](https://pytorch.org/docs/stable/generated/torch.nn.Conv1d.html) for help with this, or see if you can derive it without help).\n",
        "</details>\n",
        "\n",
        "\n",
        "<details><summary>Solution</summary>\n",
        "\n",
        "```python\n",
        "def conv1d(\n",
        "    x: Float[Tensor, \"batch in_channels width\"],\n",
        "    weights: Float[Tensor, \"out_channels in_channels kernel_width\"],\n",
        "    stride: int = 1,\n",
        "    padding: int = 0,\n",
        ") -> Float[Tensor, \"batch out_channels width\"]:\n",
        "    \"\"\"\n",
        "    Like torch's conv1d using bias=False.\n",
        "    \"\"\"\n",
        "    x_padded = pad1d(x, left=padding, right=padding, pad_value=0)\n",
        "\n",
        "    b, ic, w = x_padded.shape\n",
        "    oc, ic2, kw = weights.shape\n",
        "    assert ic == ic2, \"in_channels for x and weights don't match up\"\n",
        "    ow = 1 + (w - kw) // stride\n",
        "    # note, we assume padding is zero in the formula here, because we're working with input which has already been padded\n",
        "\n",
        "    s_b, s_ic, s_w = x_padded.stride()\n",
        "\n",
        "    # Get strided x (the new height/width dims have the same stride as the original height/width-strides of x,\n",
        "    # scaled by the stride (because we're \"skipping over\" x as we slide the kernel over it))\n",
        "    # See diagram in hints for more explanation.\n",
        "    x_new_shape = (b, ic, ow, kw)\n",
        "    x_new_stride = (s_b, s_ic, s_w * stride, s_w)\n",
        "    x_strided = x_padded.as_strided(size=x_new_shape, stride=x_new_stride)\n",
        "\n",
        "    return einops.einsum(x_strided, weights, \"b ic ow kw, oc ic kw -> b oc ow\")\n",
        "```\n",
        "</details>"
      ]
    },
    {
      "cell_type": "markdown",
      "metadata": {
        "id": "UiXE2MclBLKA"
      },
      "source": [
        "### Exercise - implement 2D convolutions\n",
        "\n",
        "> ```yaml\n",
        "> Difficulty: 🔴🔴🔴🔴⚪\n",
        "> Importance: 🔵🔵⚪⚪⚪\n",
        ">\n",
        "> You should spend up to 20-25 minutes on this exercise.\n",
        "> ```\n",
        "\n",
        "A recurring pattern in these 2d functions is allowing the user to specify either an int or a pair of ints for an argument: examples are stride and padding. We've provided some type aliases and a helper function to simplify working with these."
      ]
    },
    {
      "cell_type": "code",
      "execution_count": null,
      "metadata": {
        "id": "gepR3dkgBLKB"
      },
      "outputs": [],
      "source": [
        "IntOrPair = int | tuple[int, int]\n",
        "Pair = tuple[int, int]\n",
        "\n",
        "\n",
        "def force_pair(v: IntOrPair) -> Pair:\n",
        "    \"\"\"Convert v to a pair of int, if it isn't already.\"\"\"\n",
        "    if isinstance(v, tuple):\n",
        "        if len(v) != 2:\n",
        "            raise ValueError(v)\n",
        "        return (int(v[0]), int(v[1]))\n",
        "    elif isinstance(v, int):\n",
        "        return (v, v)\n",
        "    raise ValueError(v)\n",
        "\n",
        "\n",
        "# Examples of how this function can be used:\n",
        "for v in [(1, 2), 2, (1, 2, 3)]:\n",
        "    try:\n",
        "        print(f\"{v!r:9} -> {force_pair(v)!r}\")\n",
        "    except ValueError:\n",
        "        print(f\"{v!r:9} -> ValueError\")"
      ]
    },
    {
      "cell_type": "markdown",
      "metadata": {
        "id": "ex5mNePhBLKB"
      },
      "source": [
        "Finally, you can implement a full version of `conv2d`. If you've done the full version of `conv1d`, and you've done `conv2d_minimal`, then you should be able to pull code from here to help you."
      ]
    },
    {
      "cell_type": "code",
      "execution_count": null,
      "metadata": {
        "id": "wUsmP6nIBLKC"
      },
      "outputs": [],
      "source": [
        "def conv2d(\n",
        "    x: Float[Tensor, \"batch in_channels height width\"],\n",
        "    weights: Float[Tensor, \"out_channels in_channels kernel_height kernel_width\"],\n",
        "    stride: IntOrPair = 1,\n",
        "    padding: IntOrPair = 0,\n",
        ") -> Float[Tensor, \"batch out_channels height width\"]:\n",
        "    \"\"\"\n",
        "    Like torch's conv2d using bias=False.\n",
        "    \"\"\"\n",
        "    raise NotImplementedError()\n",
        "\n",
        "\n",
        "tests.test_conv2d(conv2d)"
      ]
    },
    {
      "cell_type": "markdown",
      "metadata": {
        "id": "m2v2Uh9bBLKC"
      },
      "source": [
        "<details><summary>Solution</summary>\n",
        "\n",
        "```python\n",
        "def conv2d(\n",
        "    x: Float[Tensor, \"batch in_channels height width\"],\n",
        "    weights: Float[Tensor, \"out_channels in_channels kernel_height kernel_width\"],\n",
        "    stride: IntOrPair = 1,\n",
        "    padding: IntOrPair = 0,\n",
        ") -> Float[Tensor, \"batch out_channels height width\"]:\n",
        "    \"\"\"\n",
        "    Like torch's conv2d using bias=False.\n",
        "    \"\"\"\n",
        "    stride_h, stride_w = force_pair(stride)\n",
        "    padding_h, padding_w = force_pair(padding)\n",
        "\n",
        "    x_padded = pad2d(x, left=padding_w, right=padding_w, top=padding_h, bottom=padding_h, pad_value=0)\n",
        "\n",
        "    b, ic, h, w = x_padded.shape\n",
        "    oc, ic2, kh, kw = weights.shape\n",
        "    assert ic == ic2, \"in_channels for x and weights don't match up\"\n",
        "    ow = 1 + (w - kw) // stride_w\n",
        "    oh = 1 + (h - kh) // stride_h\n",
        "\n",
        "    s_b, s_ic, s_h, s_w = x_padded.stride()\n",
        "\n",
        "    # Get strided x (new height/width dims have same stride as original height/width-strides of x, scaled by stride)\n",
        "    x_new_shape = (b, ic, oh, ow, kh, kw)\n",
        "    x_new_stride = (s_b, s_ic, s_h * stride_h, s_w * stride_w, s_h, s_w)\n",
        "    x_strided = x_padded.as_strided(size=x_new_shape, stride=x_new_stride)\n",
        "\n",
        "    return einops.einsum(x_strided, weights, \"b ic oh ow kh kw, oc ic kh kw -> b oc oh ow\")\n",
        "```\n",
        "</details>"
      ]
    },
    {
      "cell_type": "markdown",
      "metadata": {
        "id": "Z9dg4JdYBLKD"
      },
      "source": [
        "## Max pooling\n",
        "\n",
        "We have just one function left now - **max pooling**. You can review the [TowardsDataScience](https://towardsdatascience.com/a-comprehensive-guide-to-convolutional-neural-networks-the-eli5-way-3bd2b1164a53) post from earlier to understand max pooling better.\n",
        "\n",
        "A \"max pooling\" layer is similar to a convolution in that you have a window sliding over some number of dimensions. The main difference is that there's no kernel: instead of multiplying by the kernel and adding, you just take the maximum.\n",
        "\n",
        "The way multiple channels work is also different. A convolution has some number of input and output channels, and each output channel is a function of all the input channels. There can be any number of output channels. In a pooling layer, the maximum operation is applied independently for each input channel, meaning the number of output channels is necessarily equal to the number of input channels."
      ]
    },
    {
      "cell_type": "markdown",
      "metadata": {
        "id": "XLxCuYcoBLKD"
      },
      "source": [
        "### Exercise - implement 2D max pooling\n",
        "\n",
        "> ```yaml\n",
        "> Difficulty: 🔴🔴⚪⚪⚪\n",
        "> Importance: 🔵🔵🔵⚪⚪\n",
        ">\n",
        "> You should spend up to 10-15 minutes on this exercise.\n",
        "> ```\n",
        "\n",
        "Implement `maxpool2d` using `torch.as_strided` and `torch.amax` (= max over axes) together. Your version should behave the same as the PyTorch version, but only the indicated arguments need to be supported."
      ]
    },
    {
      "cell_type": "code",
      "execution_count": null,
      "metadata": {
        "id": "55dTNcPIBLKE"
      },
      "outputs": [],
      "source": [
        "def maxpool2d(\n",
        "    x: Float[Tensor, \"batch in_channels height width\"],\n",
        "    kernel_size: IntOrPair,\n",
        "    stride: IntOrPair | None = None,\n",
        "    padding: IntOrPair = 0,\n",
        ") -> Float[Tensor, \"batch out_channels height width\"]:\n",
        "    \"\"\"\n",
        "    Like PyTorch's maxpool2d. If stride is None, should be equal to kernel size.\n",
        "    \"\"\"\n",
        "    raise NotImplementedError()\n",
        "\n",
        "\n",
        "tests.test_maxpool2d(maxpool2d)"
      ]
    },
    {
      "cell_type": "markdown",
      "metadata": {
        "id": "lTQgGFYBBLKF"
      },
      "source": [
        "<details>\n",
        "<summary>Hint</summary>\n",
        "\n",
        "Conceptually, this is similar to `conv2d`.\n",
        "    \n",
        "In `conv2d`, you had to use `as_strided` to turn the 4D tensor `x` into a 6D tensor `x_strided` (adding dimensions over which you would take the convolution), then multiply this tensor by the kernel and sum over these two new dimensions.\n",
        "\n",
        "`maxpool2d` is the same, except that you're simply taking max over those dimensions rather than a dot product with the kernel. So you should find yourself able to reuse a lot of code from your `conv2d` function.\n",
        "</details>\n",
        "\n",
        "<details>\n",
        "<summary>Help - I'm getting a small number of mismatched elements each time (e.g. between 0 and 5%).</summary>\n",
        "\n",
        "This is likely because you used an incorrect `pad_value`. In the convolution function, we set `pad_value=0` so these values wouldn't have any effect in the linear transformation. What pad value would make our padded elements \"invisible\" when we take the maximum?\n",
        "</details>\n",
        "\n",
        "\n",
        "<details><summary>Solution</summary>\n",
        "\n",
        "```python\n",
        "def maxpool2d(\n",
        "    x: Float[Tensor, \"batch in_channels height width\"],\n",
        "    kernel_size: IntOrPair,\n",
        "    stride: IntOrPair | None = None,\n",
        "    padding: IntOrPair = 0,\n",
        ") -> Float[Tensor, \"batch out_channels height width\"]:\n",
        "    \"\"\"\n",
        "    Like PyTorch's maxpool2d. If stride is None, should be equal to kernel size.\n",
        "    \"\"\"\n",
        "    # Set actual values for stride and padding, using force_pair function\n",
        "    if stride is None:\n",
        "        stride = kernel_size\n",
        "    stride_h, stride_w = force_pair(stride)\n",
        "    padding_h, padding_w = force_pair(padding)\n",
        "    kh, kw = force_pair(kernel_size)\n",
        "\n",
        "    # Get padded version of x\n",
        "    x_padded = pad2d(x, left=padding_w, right=padding_w, top=padding_h, bottom=padding_h, pad_value=-t.inf)\n",
        "\n",
        "    # Calculate output height and width for x\n",
        "    b, ic, h, w = x_padded.shape\n",
        "    ow = 1 + (w - kw) // stride_w\n",
        "    oh = 1 + (h - kh) // stride_h\n",
        "\n",
        "    # Get strided x\n",
        "    s_b, s_c, s_h, s_w = x_padded.stride()\n",
        "\n",
        "    x_new_shape = (b, ic, oh, ow, kh, kw)\n",
        "    x_new_stride = (s_b, s_c, s_h * stride_h, s_w * stride_w, s_h, s_w)\n",
        "    x_strided = x_padded.as_strided(size=x_new_shape, stride=x_new_stride)\n",
        "\n",
        "    # Argmax over dimensions of the maxpool kernel\n",
        "    # (note these are the same dims that we multiply over in 2D convolutions)\n",
        "    return x_strided.amax(dim=(-1, -2))\n",
        "```\n",
        "</details>"
      ]
    },
    {
      "cell_type": "markdown",
      "metadata": {
        "id": "NqJMAYH0BLKF"
      },
      "source": [
        "Now, you're finished! You can go back to the ResNets exercises, and build your ResNet ***entirely using your own stride-based functions***."
      ]
    }
  ],
  "metadata": {
    "language_info": {
      "name": "python"
    },
    "colab": {
      "provenance": [],
      "include_colab_link": true
    },
    "kernelspec": {
      "name": "python3",
      "display_name": "Python 3"
    },
    "widgets": {
      "application/vnd.jupyter.widget-state+json": {
        "3281f5641b254dab84a36ed19933440c": {
          "model_module": "@jupyter-widgets/controls",
          "model_name": "HBoxModel",
          "model_module_version": "1.5.0",
          "state": {
            "_dom_classes": [],
            "_model_module": "@jupyter-widgets/controls",
            "_model_module_version": "1.5.0",
            "_model_name": "HBoxModel",
            "_view_count": null,
            "_view_module": "@jupyter-widgets/controls",
            "_view_module_version": "1.5.0",
            "_view_name": "HBoxView",
            "box_style": "",
            "children": [
              "IPY_MODEL_4bf96abc102c4664a1d8f7f21810b219",
              "IPY_MODEL_d9156503f2aa435195537142dd060b35",
              "IPY_MODEL_2b966fe5c889494fa493faabfe292727"
            ],
            "layout": "IPY_MODEL_dfbd92d0697d422aac1b143277e2ca29"
          }
        },
        "4bf96abc102c4664a1d8f7f21810b219": {
          "model_module": "@jupyter-widgets/controls",
          "model_name": "HTMLModel",
          "model_module_version": "1.5.0",
          "state": {
            "_dom_classes": [],
            "_model_module": "@jupyter-widgets/controls",
            "_model_module_version": "1.5.0",
            "_model_name": "HTMLModel",
            "_view_count": null,
            "_view_module": "@jupyter-widgets/controls",
            "_view_module_version": "1.5.0",
            "_view_name": "HTMLView",
            "description": "",
            "description_tooltip": null,
            "layout": "IPY_MODEL_87031a51d9e04fadbcead2bfe6df3352",
            "placeholder": "​",
            "style": "IPY_MODEL_aa3f7bccb45a4e5a8a3125bf6fc5600d",
            "value": "100%"
          }
        },
        "d9156503f2aa435195537142dd060b35": {
          "model_module": "@jupyter-widgets/controls",
          "model_name": "FloatProgressModel",
          "model_module_version": "1.5.0",
          "state": {
            "_dom_classes": [],
            "_model_module": "@jupyter-widgets/controls",
            "_model_module_version": "1.5.0",
            "_model_name": "FloatProgressModel",
            "_view_count": null,
            "_view_module": "@jupyter-widgets/controls",
            "_view_module_version": "1.5.0",
            "_view_name": "ProgressView",
            "bar_style": "success",
            "description": "",
            "description_tooltip": null,
            "layout": "IPY_MODEL_f925b0bfda5745a989a1cffbd352a243",
            "max": 79,
            "min": 0,
            "orientation": "horizontal",
            "style": "IPY_MODEL_00edba2bc1a44a98b10568abdb386bda",
            "value": 79
          }
        },
        "2b966fe5c889494fa493faabfe292727": {
          "model_module": "@jupyter-widgets/controls",
          "model_name": "HTMLModel",
          "model_module_version": "1.5.0",
          "state": {
            "_dom_classes": [],
            "_model_module": "@jupyter-widgets/controls",
            "_model_module_version": "1.5.0",
            "_model_name": "HTMLModel",
            "_view_count": null,
            "_view_module": "@jupyter-widgets/controls",
            "_view_module_version": "1.5.0",
            "_view_name": "HTMLView",
            "description": "",
            "description_tooltip": null,
            "layout": "IPY_MODEL_f6411d000643413db837092a24333e98",
            "placeholder": "​",
            "style": "IPY_MODEL_9d200dbec0b04d8bae00eca157d4c3e0",
            "value": " 79/79 [00:08&lt;00:00, 18.36it/s, epoch=1/3, loss=2.298]"
          }
        },
        "dfbd92d0697d422aac1b143277e2ca29": {
          "model_module": "@jupyter-widgets/base",
          "model_name": "LayoutModel",
          "model_module_version": "1.2.0",
          "state": {
            "_model_module": "@jupyter-widgets/base",
            "_model_module_version": "1.2.0",
            "_model_name": "LayoutModel",
            "_view_count": null,
            "_view_module": "@jupyter-widgets/base",
            "_view_module_version": "1.2.0",
            "_view_name": "LayoutView",
            "align_content": null,
            "align_items": null,
            "align_self": null,
            "border": null,
            "bottom": null,
            "display": null,
            "flex": null,
            "flex_flow": null,
            "grid_area": null,
            "grid_auto_columns": null,
            "grid_auto_flow": null,
            "grid_auto_rows": null,
            "grid_column": null,
            "grid_gap": null,
            "grid_row": null,
            "grid_template_areas": null,
            "grid_template_columns": null,
            "grid_template_rows": null,
            "height": null,
            "justify_content": null,
            "justify_items": null,
            "left": null,
            "margin": null,
            "max_height": null,
            "max_width": null,
            "min_height": null,
            "min_width": null,
            "object_fit": null,
            "object_position": null,
            "order": null,
            "overflow": null,
            "overflow_x": null,
            "overflow_y": null,
            "padding": null,
            "right": null,
            "top": null,
            "visibility": null,
            "width": null
          }
        },
        "87031a51d9e04fadbcead2bfe6df3352": {
          "model_module": "@jupyter-widgets/base",
          "model_name": "LayoutModel",
          "model_module_version": "1.2.0",
          "state": {
            "_model_module": "@jupyter-widgets/base",
            "_model_module_version": "1.2.0",
            "_model_name": "LayoutModel",
            "_view_count": null,
            "_view_module": "@jupyter-widgets/base",
            "_view_module_version": "1.2.0",
            "_view_name": "LayoutView",
            "align_content": null,
            "align_items": null,
            "align_self": null,
            "border": null,
            "bottom": null,
            "display": null,
            "flex": null,
            "flex_flow": null,
            "grid_area": null,
            "grid_auto_columns": null,
            "grid_auto_flow": null,
            "grid_auto_rows": null,
            "grid_column": null,
            "grid_gap": null,
            "grid_row": null,
            "grid_template_areas": null,
            "grid_template_columns": null,
            "grid_template_rows": null,
            "height": null,
            "justify_content": null,
            "justify_items": null,
            "left": null,
            "margin": null,
            "max_height": null,
            "max_width": null,
            "min_height": null,
            "min_width": null,
            "object_fit": null,
            "object_position": null,
            "order": null,
            "overflow": null,
            "overflow_x": null,
            "overflow_y": null,
            "padding": null,
            "right": null,
            "top": null,
            "visibility": null,
            "width": null
          }
        },
        "aa3f7bccb45a4e5a8a3125bf6fc5600d": {
          "model_module": "@jupyter-widgets/controls",
          "model_name": "DescriptionStyleModel",
          "model_module_version": "1.5.0",
          "state": {
            "_model_module": "@jupyter-widgets/controls",
            "_model_module_version": "1.5.0",
            "_model_name": "DescriptionStyleModel",
            "_view_count": null,
            "_view_module": "@jupyter-widgets/base",
            "_view_module_version": "1.2.0",
            "_view_name": "StyleView",
            "description_width": ""
          }
        },
        "f925b0bfda5745a989a1cffbd352a243": {
          "model_module": "@jupyter-widgets/base",
          "model_name": "LayoutModel",
          "model_module_version": "1.2.0",
          "state": {
            "_model_module": "@jupyter-widgets/base",
            "_model_module_version": "1.2.0",
            "_model_name": "LayoutModel",
            "_view_count": null,
            "_view_module": "@jupyter-widgets/base",
            "_view_module_version": "1.2.0",
            "_view_name": "LayoutView",
            "align_content": null,
            "align_items": null,
            "align_self": null,
            "border": null,
            "bottom": null,
            "display": null,
            "flex": null,
            "flex_flow": null,
            "grid_area": null,
            "grid_auto_columns": null,
            "grid_auto_flow": null,
            "grid_auto_rows": null,
            "grid_column": null,
            "grid_gap": null,
            "grid_row": null,
            "grid_template_areas": null,
            "grid_template_columns": null,
            "grid_template_rows": null,
            "height": null,
            "justify_content": null,
            "justify_items": null,
            "left": null,
            "margin": null,
            "max_height": null,
            "max_width": null,
            "min_height": null,
            "min_width": null,
            "object_fit": null,
            "object_position": null,
            "order": null,
            "overflow": null,
            "overflow_x": null,
            "overflow_y": null,
            "padding": null,
            "right": null,
            "top": null,
            "visibility": null,
            "width": null
          }
        },
        "00edba2bc1a44a98b10568abdb386bda": {
          "model_module": "@jupyter-widgets/controls",
          "model_name": "ProgressStyleModel",
          "model_module_version": "1.5.0",
          "state": {
            "_model_module": "@jupyter-widgets/controls",
            "_model_module_version": "1.5.0",
            "_model_name": "ProgressStyleModel",
            "_view_count": null,
            "_view_module": "@jupyter-widgets/base",
            "_view_module_version": "1.2.0",
            "_view_name": "StyleView",
            "bar_color": null,
            "description_width": ""
          }
        },
        "f6411d000643413db837092a24333e98": {
          "model_module": "@jupyter-widgets/base",
          "model_name": "LayoutModel",
          "model_module_version": "1.2.0",
          "state": {
            "_model_module": "@jupyter-widgets/base",
            "_model_module_version": "1.2.0",
            "_model_name": "LayoutModel",
            "_view_count": null,
            "_view_module": "@jupyter-widgets/base",
            "_view_module_version": "1.2.0",
            "_view_name": "LayoutView",
            "align_content": null,
            "align_items": null,
            "align_self": null,
            "border": null,
            "bottom": null,
            "display": null,
            "flex": null,
            "flex_flow": null,
            "grid_area": null,
            "grid_auto_columns": null,
            "grid_auto_flow": null,
            "grid_auto_rows": null,
            "grid_column": null,
            "grid_gap": null,
            "grid_row": null,
            "grid_template_areas": null,
            "grid_template_columns": null,
            "grid_template_rows": null,
            "height": null,
            "justify_content": null,
            "justify_items": null,
            "left": null,
            "margin": null,
            "max_height": null,
            "max_width": null,
            "min_height": null,
            "min_width": null,
            "object_fit": null,
            "object_position": null,
            "order": null,
            "overflow": null,
            "overflow_x": null,
            "overflow_y": null,
            "padding": null,
            "right": null,
            "top": null,
            "visibility": null,
            "width": null
          }
        },
        "9d200dbec0b04d8bae00eca157d4c3e0": {
          "model_module": "@jupyter-widgets/controls",
          "model_name": "DescriptionStyleModel",
          "model_module_version": "1.5.0",
          "state": {
            "_model_module": "@jupyter-widgets/controls",
            "_model_module_version": "1.5.0",
            "_model_name": "DescriptionStyleModel",
            "_view_count": null,
            "_view_module": "@jupyter-widgets/base",
            "_view_module_version": "1.2.0",
            "_view_name": "StyleView",
            "description_width": ""
          }
        },
        "8f6805daa743447c944eb857bc28ceb1": {
          "model_module": "@jupyter-widgets/controls",
          "model_name": "HBoxModel",
          "model_module_version": "1.5.0",
          "state": {
            "_dom_classes": [],
            "_model_module": "@jupyter-widgets/controls",
            "_model_module_version": "1.5.0",
            "_model_name": "HBoxModel",
            "_view_count": null,
            "_view_module": "@jupyter-widgets/controls",
            "_view_module_version": "1.5.0",
            "_view_name": "HBoxView",
            "box_style": "",
            "children": [
              "IPY_MODEL_0d6a45c4b88f4dea924be88506f519f9",
              "IPY_MODEL_027a19fb65c2478f842f9dd7b87c279e",
              "IPY_MODEL_b0b67f3556904e1a8099d920813f5bba"
            ],
            "layout": "IPY_MODEL_bd2ee774fa5c4bfaae23dec01802f5f5"
          }
        },
        "0d6a45c4b88f4dea924be88506f519f9": {
          "model_module": "@jupyter-widgets/controls",
          "model_name": "HTMLModel",
          "model_module_version": "1.5.0",
          "state": {
            "_dom_classes": [],
            "_model_module": "@jupyter-widgets/controls",
            "_model_module_version": "1.5.0",
            "_model_name": "HTMLModel",
            "_view_count": null,
            "_view_module": "@jupyter-widgets/controls",
            "_view_module_version": "1.5.0",
            "_view_name": "HTMLView",
            "description": "",
            "description_tooltip": null,
            "layout": "IPY_MODEL_4237c74ee0584484b786223f4039fb1e",
            "placeholder": "​",
            "style": "IPY_MODEL_062cf8c7768842a3aaf4280f6817e104",
            "value": "100%"
          }
        },
        "027a19fb65c2478f842f9dd7b87c279e": {
          "model_module": "@jupyter-widgets/controls",
          "model_name": "FloatProgressModel",
          "model_module_version": "1.5.0",
          "state": {
            "_dom_classes": [],
            "_model_module": "@jupyter-widgets/controls",
            "_model_module_version": "1.5.0",
            "_model_name": "FloatProgressModel",
            "_view_count": null,
            "_view_module": "@jupyter-widgets/controls",
            "_view_module_version": "1.5.0",
            "_view_name": "ProgressView",
            "bar_style": "success",
            "description": "",
            "description_tooltip": null,
            "layout": "IPY_MODEL_1e9153a86a2f4d61ad18b36c2c80d53c",
            "max": 79,
            "min": 0,
            "orientation": "horizontal",
            "style": "IPY_MODEL_b15c9768ad7a4ef380e7679cdb51a85d",
            "value": 79
          }
        },
        "b0b67f3556904e1a8099d920813f5bba": {
          "model_module": "@jupyter-widgets/controls",
          "model_name": "HTMLModel",
          "model_module_version": "1.5.0",
          "state": {
            "_dom_classes": [],
            "_model_module": "@jupyter-widgets/controls",
            "_model_module_version": "1.5.0",
            "_model_name": "HTMLModel",
            "_view_count": null,
            "_view_module": "@jupyter-widgets/controls",
            "_view_module_version": "1.5.0",
            "_view_name": "HTMLView",
            "description": "",
            "description_tooltip": null,
            "layout": "IPY_MODEL_48b072f9b6cd42feaa849d1442db51b5",
            "placeholder": "​",
            "style": "IPY_MODEL_20fa04ab09bd4aa1b40fc54ee7e2e640",
            "value": " 79/79 [00:02&lt;00:00, 28.85it/s, epoch=2/3, loss=2.300]"
          }
        },
        "bd2ee774fa5c4bfaae23dec01802f5f5": {
          "model_module": "@jupyter-widgets/base",
          "model_name": "LayoutModel",
          "model_module_version": "1.2.0",
          "state": {
            "_model_module": "@jupyter-widgets/base",
            "_model_module_version": "1.2.0",
            "_model_name": "LayoutModel",
            "_view_count": null,
            "_view_module": "@jupyter-widgets/base",
            "_view_module_version": "1.2.0",
            "_view_name": "LayoutView",
            "align_content": null,
            "align_items": null,
            "align_self": null,
            "border": null,
            "bottom": null,
            "display": null,
            "flex": null,
            "flex_flow": null,
            "grid_area": null,
            "grid_auto_columns": null,
            "grid_auto_flow": null,
            "grid_auto_rows": null,
            "grid_column": null,
            "grid_gap": null,
            "grid_row": null,
            "grid_template_areas": null,
            "grid_template_columns": null,
            "grid_template_rows": null,
            "height": null,
            "justify_content": null,
            "justify_items": null,
            "left": null,
            "margin": null,
            "max_height": null,
            "max_width": null,
            "min_height": null,
            "min_width": null,
            "object_fit": null,
            "object_position": null,
            "order": null,
            "overflow": null,
            "overflow_x": null,
            "overflow_y": null,
            "padding": null,
            "right": null,
            "top": null,
            "visibility": null,
            "width": null
          }
        },
        "4237c74ee0584484b786223f4039fb1e": {
          "model_module": "@jupyter-widgets/base",
          "model_name": "LayoutModel",
          "model_module_version": "1.2.0",
          "state": {
            "_model_module": "@jupyter-widgets/base",
            "_model_module_version": "1.2.0",
            "_model_name": "LayoutModel",
            "_view_count": null,
            "_view_module": "@jupyter-widgets/base",
            "_view_module_version": "1.2.0",
            "_view_name": "LayoutView",
            "align_content": null,
            "align_items": null,
            "align_self": null,
            "border": null,
            "bottom": null,
            "display": null,
            "flex": null,
            "flex_flow": null,
            "grid_area": null,
            "grid_auto_columns": null,
            "grid_auto_flow": null,
            "grid_auto_rows": null,
            "grid_column": null,
            "grid_gap": null,
            "grid_row": null,
            "grid_template_areas": null,
            "grid_template_columns": null,
            "grid_template_rows": null,
            "height": null,
            "justify_content": null,
            "justify_items": null,
            "left": null,
            "margin": null,
            "max_height": null,
            "max_width": null,
            "min_height": null,
            "min_width": null,
            "object_fit": null,
            "object_position": null,
            "order": null,
            "overflow": null,
            "overflow_x": null,
            "overflow_y": null,
            "padding": null,
            "right": null,
            "top": null,
            "visibility": null,
            "width": null
          }
        },
        "062cf8c7768842a3aaf4280f6817e104": {
          "model_module": "@jupyter-widgets/controls",
          "model_name": "DescriptionStyleModel",
          "model_module_version": "1.5.0",
          "state": {
            "_model_module": "@jupyter-widgets/controls",
            "_model_module_version": "1.5.0",
            "_model_name": "DescriptionStyleModel",
            "_view_count": null,
            "_view_module": "@jupyter-widgets/base",
            "_view_module_version": "1.2.0",
            "_view_name": "StyleView",
            "description_width": ""
          }
        },
        "1e9153a86a2f4d61ad18b36c2c80d53c": {
          "model_module": "@jupyter-widgets/base",
          "model_name": "LayoutModel",
          "model_module_version": "1.2.0",
          "state": {
            "_model_module": "@jupyter-widgets/base",
            "_model_module_version": "1.2.0",
            "_model_name": "LayoutModel",
            "_view_count": null,
            "_view_module": "@jupyter-widgets/base",
            "_view_module_version": "1.2.0",
            "_view_name": "LayoutView",
            "align_content": null,
            "align_items": null,
            "align_self": null,
            "border": null,
            "bottom": null,
            "display": null,
            "flex": null,
            "flex_flow": null,
            "grid_area": null,
            "grid_auto_columns": null,
            "grid_auto_flow": null,
            "grid_auto_rows": null,
            "grid_column": null,
            "grid_gap": null,
            "grid_row": null,
            "grid_template_areas": null,
            "grid_template_columns": null,
            "grid_template_rows": null,
            "height": null,
            "justify_content": null,
            "justify_items": null,
            "left": null,
            "margin": null,
            "max_height": null,
            "max_width": null,
            "min_height": null,
            "min_width": null,
            "object_fit": null,
            "object_position": null,
            "order": null,
            "overflow": null,
            "overflow_x": null,
            "overflow_y": null,
            "padding": null,
            "right": null,
            "top": null,
            "visibility": null,
            "width": null
          }
        },
        "b15c9768ad7a4ef380e7679cdb51a85d": {
          "model_module": "@jupyter-widgets/controls",
          "model_name": "ProgressStyleModel",
          "model_module_version": "1.5.0",
          "state": {
            "_model_module": "@jupyter-widgets/controls",
            "_model_module_version": "1.5.0",
            "_model_name": "ProgressStyleModel",
            "_view_count": null,
            "_view_module": "@jupyter-widgets/base",
            "_view_module_version": "1.2.0",
            "_view_name": "StyleView",
            "bar_color": null,
            "description_width": ""
          }
        },
        "48b072f9b6cd42feaa849d1442db51b5": {
          "model_module": "@jupyter-widgets/base",
          "model_name": "LayoutModel",
          "model_module_version": "1.2.0",
          "state": {
            "_model_module": "@jupyter-widgets/base",
            "_model_module_version": "1.2.0",
            "_model_name": "LayoutModel",
            "_view_count": null,
            "_view_module": "@jupyter-widgets/base",
            "_view_module_version": "1.2.0",
            "_view_name": "LayoutView",
            "align_content": null,
            "align_items": null,
            "align_self": null,
            "border": null,
            "bottom": null,
            "display": null,
            "flex": null,
            "flex_flow": null,
            "grid_area": null,
            "grid_auto_columns": null,
            "grid_auto_flow": null,
            "grid_auto_rows": null,
            "grid_column": null,
            "grid_gap": null,
            "grid_row": null,
            "grid_template_areas": null,
            "grid_template_columns": null,
            "grid_template_rows": null,
            "height": null,
            "justify_content": null,
            "justify_items": null,
            "left": null,
            "margin": null,
            "max_height": null,
            "max_width": null,
            "min_height": null,
            "min_width": null,
            "object_fit": null,
            "object_position": null,
            "order": null,
            "overflow": null,
            "overflow_x": null,
            "overflow_y": null,
            "padding": null,
            "right": null,
            "top": null,
            "visibility": null,
            "width": null
          }
        },
        "20fa04ab09bd4aa1b40fc54ee7e2e640": {
          "model_module": "@jupyter-widgets/controls",
          "model_name": "DescriptionStyleModel",
          "model_module_version": "1.5.0",
          "state": {
            "_model_module": "@jupyter-widgets/controls",
            "_model_module_version": "1.5.0",
            "_model_name": "DescriptionStyleModel",
            "_view_count": null,
            "_view_module": "@jupyter-widgets/base",
            "_view_module_version": "1.2.0",
            "_view_name": "StyleView",
            "description_width": ""
          }
        },
        "8d0aefb3ea594f6382f044b467c03b8c": {
          "model_module": "@jupyter-widgets/controls",
          "model_name": "HBoxModel",
          "model_module_version": "1.5.0",
          "state": {
            "_dom_classes": [],
            "_model_module": "@jupyter-widgets/controls",
            "_model_module_version": "1.5.0",
            "_model_name": "HBoxModel",
            "_view_count": null,
            "_view_module": "@jupyter-widgets/controls",
            "_view_module_version": "1.5.0",
            "_view_name": "HBoxView",
            "box_style": "",
            "children": [
              "IPY_MODEL_b32f9c4dfab94af19cc6d9092dc70613",
              "IPY_MODEL_9b3d48bb97734c3a94b22e44d6b05d50",
              "IPY_MODEL_eb0b0a49eef34c34ae731df7c6dbca09"
            ],
            "layout": "IPY_MODEL_725f0fde7848439ea02304bdc9fc944a"
          }
        },
        "b32f9c4dfab94af19cc6d9092dc70613": {
          "model_module": "@jupyter-widgets/controls",
          "model_name": "HTMLModel",
          "model_module_version": "1.5.0",
          "state": {
            "_dom_classes": [],
            "_model_module": "@jupyter-widgets/controls",
            "_model_module_version": "1.5.0",
            "_model_name": "HTMLModel",
            "_view_count": null,
            "_view_module": "@jupyter-widgets/controls",
            "_view_module_version": "1.5.0",
            "_view_name": "HTMLView",
            "description": "",
            "description_tooltip": null,
            "layout": "IPY_MODEL_16c442fc06f74a9b8980c281921e2bf4",
            "placeholder": "​",
            "style": "IPY_MODEL_54b7ebfcb1b6417aab0bacdca8abb9ae",
            "value": "100%"
          }
        },
        "9b3d48bb97734c3a94b22e44d6b05d50": {
          "model_module": "@jupyter-widgets/controls",
          "model_name": "FloatProgressModel",
          "model_module_version": "1.5.0",
          "state": {
            "_dom_classes": [],
            "_model_module": "@jupyter-widgets/controls",
            "_model_module_version": "1.5.0",
            "_model_name": "FloatProgressModel",
            "_view_count": null,
            "_view_module": "@jupyter-widgets/controls",
            "_view_module_version": "1.5.0",
            "_view_name": "ProgressView",
            "bar_style": "success",
            "description": "",
            "description_tooltip": null,
            "layout": "IPY_MODEL_c0c7c1752288445e8490de4bf51fab1d",
            "max": 79,
            "min": 0,
            "orientation": "horizontal",
            "style": "IPY_MODEL_5b70120e7d594e17b9e292dbfb79b6ae",
            "value": 79
          }
        },
        "eb0b0a49eef34c34ae731df7c6dbca09": {
          "model_module": "@jupyter-widgets/controls",
          "model_name": "HTMLModel",
          "model_module_version": "1.5.0",
          "state": {
            "_dom_classes": [],
            "_model_module": "@jupyter-widgets/controls",
            "_model_module_version": "1.5.0",
            "_model_name": "HTMLModel",
            "_view_count": null,
            "_view_module": "@jupyter-widgets/controls",
            "_view_module_version": "1.5.0",
            "_view_name": "HTMLView",
            "description": "",
            "description_tooltip": null,
            "layout": "IPY_MODEL_154d8ce376884fefa6b45fdd1634ffcb",
            "placeholder": "​",
            "style": "IPY_MODEL_d88fca7fe41d4863800b964ca9727c91",
            "value": " 79/79 [00:02&lt;00:00, 30.93it/s, epoch=3/3, loss=2.294]"
          }
        },
        "725f0fde7848439ea02304bdc9fc944a": {
          "model_module": "@jupyter-widgets/base",
          "model_name": "LayoutModel",
          "model_module_version": "1.2.0",
          "state": {
            "_model_module": "@jupyter-widgets/base",
            "_model_module_version": "1.2.0",
            "_model_name": "LayoutModel",
            "_view_count": null,
            "_view_module": "@jupyter-widgets/base",
            "_view_module_version": "1.2.0",
            "_view_name": "LayoutView",
            "align_content": null,
            "align_items": null,
            "align_self": null,
            "border": null,
            "bottom": null,
            "display": null,
            "flex": null,
            "flex_flow": null,
            "grid_area": null,
            "grid_auto_columns": null,
            "grid_auto_flow": null,
            "grid_auto_rows": null,
            "grid_column": null,
            "grid_gap": null,
            "grid_row": null,
            "grid_template_areas": null,
            "grid_template_columns": null,
            "grid_template_rows": null,
            "height": null,
            "justify_content": null,
            "justify_items": null,
            "left": null,
            "margin": null,
            "max_height": null,
            "max_width": null,
            "min_height": null,
            "min_width": null,
            "object_fit": null,
            "object_position": null,
            "order": null,
            "overflow": null,
            "overflow_x": null,
            "overflow_y": null,
            "padding": null,
            "right": null,
            "top": null,
            "visibility": null,
            "width": null
          }
        },
        "16c442fc06f74a9b8980c281921e2bf4": {
          "model_module": "@jupyter-widgets/base",
          "model_name": "LayoutModel",
          "model_module_version": "1.2.0",
          "state": {
            "_model_module": "@jupyter-widgets/base",
            "_model_module_version": "1.2.0",
            "_model_name": "LayoutModel",
            "_view_count": null,
            "_view_module": "@jupyter-widgets/base",
            "_view_module_version": "1.2.0",
            "_view_name": "LayoutView",
            "align_content": null,
            "align_items": null,
            "align_self": null,
            "border": null,
            "bottom": null,
            "display": null,
            "flex": null,
            "flex_flow": null,
            "grid_area": null,
            "grid_auto_columns": null,
            "grid_auto_flow": null,
            "grid_auto_rows": null,
            "grid_column": null,
            "grid_gap": null,
            "grid_row": null,
            "grid_template_areas": null,
            "grid_template_columns": null,
            "grid_template_rows": null,
            "height": null,
            "justify_content": null,
            "justify_items": null,
            "left": null,
            "margin": null,
            "max_height": null,
            "max_width": null,
            "min_height": null,
            "min_width": null,
            "object_fit": null,
            "object_position": null,
            "order": null,
            "overflow": null,
            "overflow_x": null,
            "overflow_y": null,
            "padding": null,
            "right": null,
            "top": null,
            "visibility": null,
            "width": null
          }
        },
        "54b7ebfcb1b6417aab0bacdca8abb9ae": {
          "model_module": "@jupyter-widgets/controls",
          "model_name": "DescriptionStyleModel",
          "model_module_version": "1.5.0",
          "state": {
            "_model_module": "@jupyter-widgets/controls",
            "_model_module_version": "1.5.0",
            "_model_name": "DescriptionStyleModel",
            "_view_count": null,
            "_view_module": "@jupyter-widgets/base",
            "_view_module_version": "1.2.0",
            "_view_name": "StyleView",
            "description_width": ""
          }
        },
        "c0c7c1752288445e8490de4bf51fab1d": {
          "model_module": "@jupyter-widgets/base",
          "model_name": "LayoutModel",
          "model_module_version": "1.2.0",
          "state": {
            "_model_module": "@jupyter-widgets/base",
            "_model_module_version": "1.2.0",
            "_model_name": "LayoutModel",
            "_view_count": null,
            "_view_module": "@jupyter-widgets/base",
            "_view_module_version": "1.2.0",
            "_view_name": "LayoutView",
            "align_content": null,
            "align_items": null,
            "align_self": null,
            "border": null,
            "bottom": null,
            "display": null,
            "flex": null,
            "flex_flow": null,
            "grid_area": null,
            "grid_auto_columns": null,
            "grid_auto_flow": null,
            "grid_auto_rows": null,
            "grid_column": null,
            "grid_gap": null,
            "grid_row": null,
            "grid_template_areas": null,
            "grid_template_columns": null,
            "grid_template_rows": null,
            "height": null,
            "justify_content": null,
            "justify_items": null,
            "left": null,
            "margin": null,
            "max_height": null,
            "max_width": null,
            "min_height": null,
            "min_width": null,
            "object_fit": null,
            "object_position": null,
            "order": null,
            "overflow": null,
            "overflow_x": null,
            "overflow_y": null,
            "padding": null,
            "right": null,
            "top": null,
            "visibility": null,
            "width": null
          }
        },
        "5b70120e7d594e17b9e292dbfb79b6ae": {
          "model_module": "@jupyter-widgets/controls",
          "model_name": "ProgressStyleModel",
          "model_module_version": "1.5.0",
          "state": {
            "_model_module": "@jupyter-widgets/controls",
            "_model_module_version": "1.5.0",
            "_model_name": "ProgressStyleModel",
            "_view_count": null,
            "_view_module": "@jupyter-widgets/base",
            "_view_module_version": "1.2.0",
            "_view_name": "StyleView",
            "bar_color": null,
            "description_width": ""
          }
        },
        "154d8ce376884fefa6b45fdd1634ffcb": {
          "model_module": "@jupyter-widgets/base",
          "model_name": "LayoutModel",
          "model_module_version": "1.2.0",
          "state": {
            "_model_module": "@jupyter-widgets/base",
            "_model_module_version": "1.2.0",
            "_model_name": "LayoutModel",
            "_view_count": null,
            "_view_module": "@jupyter-widgets/base",
            "_view_module_version": "1.2.0",
            "_view_name": "LayoutView",
            "align_content": null,
            "align_items": null,
            "align_self": null,
            "border": null,
            "bottom": null,
            "display": null,
            "flex": null,
            "flex_flow": null,
            "grid_area": null,
            "grid_auto_columns": null,
            "grid_auto_flow": null,
            "grid_auto_rows": null,
            "grid_column": null,
            "grid_gap": null,
            "grid_row": null,
            "grid_template_areas": null,
            "grid_template_columns": null,
            "grid_template_rows": null,
            "height": null,
            "justify_content": null,
            "justify_items": null,
            "left": null,
            "margin": null,
            "max_height": null,
            "max_width": null,
            "min_height": null,
            "min_width": null,
            "object_fit": null,
            "object_position": null,
            "order": null,
            "overflow": null,
            "overflow_x": null,
            "overflow_y": null,
            "padding": null,
            "right": null,
            "top": null,
            "visibility": null,
            "width": null
          }
        },
        "d88fca7fe41d4863800b964ca9727c91": {
          "model_module": "@jupyter-widgets/controls",
          "model_name": "DescriptionStyleModel",
          "model_module_version": "1.5.0",
          "state": {
            "_model_module": "@jupyter-widgets/controls",
            "_model_module_version": "1.5.0",
            "_model_name": "DescriptionStyleModel",
            "_view_count": null,
            "_view_module": "@jupyter-widgets/base",
            "_view_module_version": "1.2.0",
            "_view_name": "StyleView",
            "description_width": ""
          }
        },
        "8d7bcf1433b048c983ed35a2fb9f4e46": {
          "model_module": "@jupyter-widgets/controls",
          "model_name": "HBoxModel",
          "model_module_version": "1.5.0",
          "state": {
            "_dom_classes": [],
            "_model_module": "@jupyter-widgets/controls",
            "_model_module_version": "1.5.0",
            "_model_name": "HBoxModel",
            "_view_count": null,
            "_view_module": "@jupyter-widgets/controls",
            "_view_module_version": "1.5.0",
            "_view_name": "HBoxView",
            "box_style": "",
            "children": [
              "IPY_MODEL_693ca2479b66453ea6993fdb2e0e7dcf",
              "IPY_MODEL_04a2c8ea58c04978b137ed26f1438ac5",
              "IPY_MODEL_cf9e442d6bcd4b90a8af38faebc33db9"
            ],
            "layout": "IPY_MODEL_7b296f6b39174e889c0b2da08ce77c9f"
          }
        },
        "693ca2479b66453ea6993fdb2e0e7dcf": {
          "model_module": "@jupyter-widgets/controls",
          "model_name": "HTMLModel",
          "model_module_version": "1.5.0",
          "state": {
            "_dom_classes": [],
            "_model_module": "@jupyter-widgets/controls",
            "_model_module_version": "1.5.0",
            "_model_name": "HTMLModel",
            "_view_count": null,
            "_view_module": "@jupyter-widgets/controls",
            "_view_module_version": "1.5.0",
            "_view_name": "HTMLView",
            "description": "",
            "description_tooltip": null,
            "layout": "IPY_MODEL_b0d37a527ff940e1a499d09a4cd4d138",
            "placeholder": "​",
            "style": "IPY_MODEL_4e8b24ddb07a40268c9444b73201c3c0",
            "value": "100%"
          }
        },
        "04a2c8ea58c04978b137ed26f1438ac5": {
          "model_module": "@jupyter-widgets/controls",
          "model_name": "FloatProgressModel",
          "model_module_version": "1.5.0",
          "state": {
            "_dom_classes": [],
            "_model_module": "@jupyter-widgets/controls",
            "_model_module_version": "1.5.0",
            "_model_name": "FloatProgressModel",
            "_view_count": null,
            "_view_module": "@jupyter-widgets/controls",
            "_view_module_version": "1.5.0",
            "_view_name": "ProgressView",
            "bar_style": "success",
            "description": "",
            "description_tooltip": null,
            "layout": "IPY_MODEL_5037d5bb5e58441d9ed7196a72c2ace8",
            "max": 157,
            "min": 0,
            "orientation": "horizontal",
            "style": "IPY_MODEL_4af5b1e1def64284a87b3949caece4e1",
            "value": 157
          }
        },
        "cf9e442d6bcd4b90a8af38faebc33db9": {
          "model_module": "@jupyter-widgets/controls",
          "model_name": "HTMLModel",
          "model_module_version": "1.5.0",
          "state": {
            "_dom_classes": [],
            "_model_module": "@jupyter-widgets/controls",
            "_model_module_version": "1.5.0",
            "_model_name": "HTMLModel",
            "_view_count": null,
            "_view_module": "@jupyter-widgets/controls",
            "_view_module_version": "1.5.0",
            "_view_name": "HTMLView",
            "description": "",
            "description_tooltip": null,
            "layout": "IPY_MODEL_72b3b9117fa44cc6b43f70db4f4fbd52",
            "placeholder": "​",
            "style": "IPY_MODEL_1de0a95ebdb44949b42bd6d454d9fe3e",
            "value": " 157/157 [00:03&lt;00:00, 37.69it/s, epoch=1/3, loss=2.297]"
          }
        },
        "7b296f6b39174e889c0b2da08ce77c9f": {
          "model_module": "@jupyter-widgets/base",
          "model_name": "LayoutModel",
          "model_module_version": "1.2.0",
          "state": {
            "_model_module": "@jupyter-widgets/base",
            "_model_module_version": "1.2.0",
            "_model_name": "LayoutModel",
            "_view_count": null,
            "_view_module": "@jupyter-widgets/base",
            "_view_module_version": "1.2.0",
            "_view_name": "LayoutView",
            "align_content": null,
            "align_items": null,
            "align_self": null,
            "border": null,
            "bottom": null,
            "display": null,
            "flex": null,
            "flex_flow": null,
            "grid_area": null,
            "grid_auto_columns": null,
            "grid_auto_flow": null,
            "grid_auto_rows": null,
            "grid_column": null,
            "grid_gap": null,
            "grid_row": null,
            "grid_template_areas": null,
            "grid_template_columns": null,
            "grid_template_rows": null,
            "height": null,
            "justify_content": null,
            "justify_items": null,
            "left": null,
            "margin": null,
            "max_height": null,
            "max_width": null,
            "min_height": null,
            "min_width": null,
            "object_fit": null,
            "object_position": null,
            "order": null,
            "overflow": null,
            "overflow_x": null,
            "overflow_y": null,
            "padding": null,
            "right": null,
            "top": null,
            "visibility": null,
            "width": null
          }
        },
        "b0d37a527ff940e1a499d09a4cd4d138": {
          "model_module": "@jupyter-widgets/base",
          "model_name": "LayoutModel",
          "model_module_version": "1.2.0",
          "state": {
            "_model_module": "@jupyter-widgets/base",
            "_model_module_version": "1.2.0",
            "_model_name": "LayoutModel",
            "_view_count": null,
            "_view_module": "@jupyter-widgets/base",
            "_view_module_version": "1.2.0",
            "_view_name": "LayoutView",
            "align_content": null,
            "align_items": null,
            "align_self": null,
            "border": null,
            "bottom": null,
            "display": null,
            "flex": null,
            "flex_flow": null,
            "grid_area": null,
            "grid_auto_columns": null,
            "grid_auto_flow": null,
            "grid_auto_rows": null,
            "grid_column": null,
            "grid_gap": null,
            "grid_row": null,
            "grid_template_areas": null,
            "grid_template_columns": null,
            "grid_template_rows": null,
            "height": null,
            "justify_content": null,
            "justify_items": null,
            "left": null,
            "margin": null,
            "max_height": null,
            "max_width": null,
            "min_height": null,
            "min_width": null,
            "object_fit": null,
            "object_position": null,
            "order": null,
            "overflow": null,
            "overflow_x": null,
            "overflow_y": null,
            "padding": null,
            "right": null,
            "top": null,
            "visibility": null,
            "width": null
          }
        },
        "4e8b24ddb07a40268c9444b73201c3c0": {
          "model_module": "@jupyter-widgets/controls",
          "model_name": "DescriptionStyleModel",
          "model_module_version": "1.5.0",
          "state": {
            "_model_module": "@jupyter-widgets/controls",
            "_model_module_version": "1.5.0",
            "_model_name": "DescriptionStyleModel",
            "_view_count": null,
            "_view_module": "@jupyter-widgets/base",
            "_view_module_version": "1.2.0",
            "_view_name": "StyleView",
            "description_width": ""
          }
        },
        "5037d5bb5e58441d9ed7196a72c2ace8": {
          "model_module": "@jupyter-widgets/base",
          "model_name": "LayoutModel",
          "model_module_version": "1.2.0",
          "state": {
            "_model_module": "@jupyter-widgets/base",
            "_model_module_version": "1.2.0",
            "_model_name": "LayoutModel",
            "_view_count": null,
            "_view_module": "@jupyter-widgets/base",
            "_view_module_version": "1.2.0",
            "_view_name": "LayoutView",
            "align_content": null,
            "align_items": null,
            "align_self": null,
            "border": null,
            "bottom": null,
            "display": null,
            "flex": null,
            "flex_flow": null,
            "grid_area": null,
            "grid_auto_columns": null,
            "grid_auto_flow": null,
            "grid_auto_rows": null,
            "grid_column": null,
            "grid_gap": null,
            "grid_row": null,
            "grid_template_areas": null,
            "grid_template_columns": null,
            "grid_template_rows": null,
            "height": null,
            "justify_content": null,
            "justify_items": null,
            "left": null,
            "margin": null,
            "max_height": null,
            "max_width": null,
            "min_height": null,
            "min_width": null,
            "object_fit": null,
            "object_position": null,
            "order": null,
            "overflow": null,
            "overflow_x": null,
            "overflow_y": null,
            "padding": null,
            "right": null,
            "top": null,
            "visibility": null,
            "width": null
          }
        },
        "4af5b1e1def64284a87b3949caece4e1": {
          "model_module": "@jupyter-widgets/controls",
          "model_name": "ProgressStyleModel",
          "model_module_version": "1.5.0",
          "state": {
            "_model_module": "@jupyter-widgets/controls",
            "_model_module_version": "1.5.0",
            "_model_name": "ProgressStyleModel",
            "_view_count": null,
            "_view_module": "@jupyter-widgets/base",
            "_view_module_version": "1.2.0",
            "_view_name": "StyleView",
            "bar_color": null,
            "description_width": ""
          }
        },
        "72b3b9117fa44cc6b43f70db4f4fbd52": {
          "model_module": "@jupyter-widgets/base",
          "model_name": "LayoutModel",
          "model_module_version": "1.2.0",
          "state": {
            "_model_module": "@jupyter-widgets/base",
            "_model_module_version": "1.2.0",
            "_model_name": "LayoutModel",
            "_view_count": null,
            "_view_module": "@jupyter-widgets/base",
            "_view_module_version": "1.2.0",
            "_view_name": "LayoutView",
            "align_content": null,
            "align_items": null,
            "align_self": null,
            "border": null,
            "bottom": null,
            "display": null,
            "flex": null,
            "flex_flow": null,
            "grid_area": null,
            "grid_auto_columns": null,
            "grid_auto_flow": null,
            "grid_auto_rows": null,
            "grid_column": null,
            "grid_gap": null,
            "grid_row": null,
            "grid_template_areas": null,
            "grid_template_columns": null,
            "grid_template_rows": null,
            "height": null,
            "justify_content": null,
            "justify_items": null,
            "left": null,
            "margin": null,
            "max_height": null,
            "max_width": null,
            "min_height": null,
            "min_width": null,
            "object_fit": null,
            "object_position": null,
            "order": null,
            "overflow": null,
            "overflow_x": null,
            "overflow_y": null,
            "padding": null,
            "right": null,
            "top": null,
            "visibility": null,
            "width": null
          }
        },
        "1de0a95ebdb44949b42bd6d454d9fe3e": {
          "model_module": "@jupyter-widgets/controls",
          "model_name": "DescriptionStyleModel",
          "model_module_version": "1.5.0",
          "state": {
            "_model_module": "@jupyter-widgets/controls",
            "_model_module_version": "1.5.0",
            "_model_name": "DescriptionStyleModel",
            "_view_count": null,
            "_view_module": "@jupyter-widgets/base",
            "_view_module_version": "1.2.0",
            "_view_name": "StyleView",
            "description_width": ""
          }
        },
        "f8c7c0a1d4f9475082f7dea05710d4b9": {
          "model_module": "@jupyter-widgets/controls",
          "model_name": "HBoxModel",
          "model_module_version": "1.5.0",
          "state": {
            "_dom_classes": [],
            "_model_module": "@jupyter-widgets/controls",
            "_model_module_version": "1.5.0",
            "_model_name": "HBoxModel",
            "_view_count": null,
            "_view_module": "@jupyter-widgets/controls",
            "_view_module_version": "1.5.0",
            "_view_name": "HBoxView",
            "box_style": "",
            "children": [
              "IPY_MODEL_8f58ac9f23b14740a09ea502b66309ce",
              "IPY_MODEL_de39b06691d24764b473e6d23950e8dc",
              "IPY_MODEL_03129f5ce5cd4ecca65016f34ef3dc41"
            ],
            "layout": "IPY_MODEL_bfbb79ebb4454dc1b4e2c7bf1ab6684f"
          }
        },
        "8f58ac9f23b14740a09ea502b66309ce": {
          "model_module": "@jupyter-widgets/controls",
          "model_name": "HTMLModel",
          "model_module_version": "1.5.0",
          "state": {
            "_dom_classes": [],
            "_model_module": "@jupyter-widgets/controls",
            "_model_module_version": "1.5.0",
            "_model_name": "HTMLModel",
            "_view_count": null,
            "_view_module": "@jupyter-widgets/controls",
            "_view_module_version": "1.5.0",
            "_view_name": "HTMLView",
            "description": "",
            "description_tooltip": null,
            "layout": "IPY_MODEL_d0bd0f15d7a7463c8e66bc06d32167bb",
            "placeholder": "​",
            "style": "IPY_MODEL_40f8c920190d438ba1ae572bcf31aaf3",
            "value": "100%"
          }
        },
        "de39b06691d24764b473e6d23950e8dc": {
          "model_module": "@jupyter-widgets/controls",
          "model_name": "FloatProgressModel",
          "model_module_version": "1.5.0",
          "state": {
            "_dom_classes": [],
            "_model_module": "@jupyter-widgets/controls",
            "_model_module_version": "1.5.0",
            "_model_name": "FloatProgressModel",
            "_view_count": null,
            "_view_module": "@jupyter-widgets/controls",
            "_view_module_version": "1.5.0",
            "_view_name": "ProgressView",
            "bar_style": "success",
            "description": "",
            "description_tooltip": null,
            "layout": "IPY_MODEL_26c0454026854227843715455fd97e1a",
            "max": 157,
            "min": 0,
            "orientation": "horizontal",
            "style": "IPY_MODEL_7367861ca9dd40bba039c87d4944c57e",
            "value": 157
          }
        },
        "03129f5ce5cd4ecca65016f34ef3dc41": {
          "model_module": "@jupyter-widgets/controls",
          "model_name": "HTMLModel",
          "model_module_version": "1.5.0",
          "state": {
            "_dom_classes": [],
            "_model_module": "@jupyter-widgets/controls",
            "_model_module_version": "1.5.0",
            "_model_name": "HTMLModel",
            "_view_count": null,
            "_view_module": "@jupyter-widgets/controls",
            "_view_module_version": "1.5.0",
            "_view_name": "HTMLView",
            "description": "",
            "description_tooltip": null,
            "layout": "IPY_MODEL_e0048b87acfc4e29bed6e3de46c77881",
            "placeholder": "​",
            "style": "IPY_MODEL_8e189beeb2c6455c8b016146742f60c3",
            "value": " 157/157 [00:03&lt;00:00, 39.33it/s, epoch=2/3, loss=2.297]"
          }
        },
        "bfbb79ebb4454dc1b4e2c7bf1ab6684f": {
          "model_module": "@jupyter-widgets/base",
          "model_name": "LayoutModel",
          "model_module_version": "1.2.0",
          "state": {
            "_model_module": "@jupyter-widgets/base",
            "_model_module_version": "1.2.0",
            "_model_name": "LayoutModel",
            "_view_count": null,
            "_view_module": "@jupyter-widgets/base",
            "_view_module_version": "1.2.0",
            "_view_name": "LayoutView",
            "align_content": null,
            "align_items": null,
            "align_self": null,
            "border": null,
            "bottom": null,
            "display": null,
            "flex": null,
            "flex_flow": null,
            "grid_area": null,
            "grid_auto_columns": null,
            "grid_auto_flow": null,
            "grid_auto_rows": null,
            "grid_column": null,
            "grid_gap": null,
            "grid_row": null,
            "grid_template_areas": null,
            "grid_template_columns": null,
            "grid_template_rows": null,
            "height": null,
            "justify_content": null,
            "justify_items": null,
            "left": null,
            "margin": null,
            "max_height": null,
            "max_width": null,
            "min_height": null,
            "min_width": null,
            "object_fit": null,
            "object_position": null,
            "order": null,
            "overflow": null,
            "overflow_x": null,
            "overflow_y": null,
            "padding": null,
            "right": null,
            "top": null,
            "visibility": null,
            "width": null
          }
        },
        "d0bd0f15d7a7463c8e66bc06d32167bb": {
          "model_module": "@jupyter-widgets/base",
          "model_name": "LayoutModel",
          "model_module_version": "1.2.0",
          "state": {
            "_model_module": "@jupyter-widgets/base",
            "_model_module_version": "1.2.0",
            "_model_name": "LayoutModel",
            "_view_count": null,
            "_view_module": "@jupyter-widgets/base",
            "_view_module_version": "1.2.0",
            "_view_name": "LayoutView",
            "align_content": null,
            "align_items": null,
            "align_self": null,
            "border": null,
            "bottom": null,
            "display": null,
            "flex": null,
            "flex_flow": null,
            "grid_area": null,
            "grid_auto_columns": null,
            "grid_auto_flow": null,
            "grid_auto_rows": null,
            "grid_column": null,
            "grid_gap": null,
            "grid_row": null,
            "grid_template_areas": null,
            "grid_template_columns": null,
            "grid_template_rows": null,
            "height": null,
            "justify_content": null,
            "justify_items": null,
            "left": null,
            "margin": null,
            "max_height": null,
            "max_width": null,
            "min_height": null,
            "min_width": null,
            "object_fit": null,
            "object_position": null,
            "order": null,
            "overflow": null,
            "overflow_x": null,
            "overflow_y": null,
            "padding": null,
            "right": null,
            "top": null,
            "visibility": null,
            "width": null
          }
        },
        "40f8c920190d438ba1ae572bcf31aaf3": {
          "model_module": "@jupyter-widgets/controls",
          "model_name": "DescriptionStyleModel",
          "model_module_version": "1.5.0",
          "state": {
            "_model_module": "@jupyter-widgets/controls",
            "_model_module_version": "1.5.0",
            "_model_name": "DescriptionStyleModel",
            "_view_count": null,
            "_view_module": "@jupyter-widgets/base",
            "_view_module_version": "1.2.0",
            "_view_name": "StyleView",
            "description_width": ""
          }
        },
        "26c0454026854227843715455fd97e1a": {
          "model_module": "@jupyter-widgets/base",
          "model_name": "LayoutModel",
          "model_module_version": "1.2.0",
          "state": {
            "_model_module": "@jupyter-widgets/base",
            "_model_module_version": "1.2.0",
            "_model_name": "LayoutModel",
            "_view_count": null,
            "_view_module": "@jupyter-widgets/base",
            "_view_module_version": "1.2.0",
            "_view_name": "LayoutView",
            "align_content": null,
            "align_items": null,
            "align_self": null,
            "border": null,
            "bottom": null,
            "display": null,
            "flex": null,
            "flex_flow": null,
            "grid_area": null,
            "grid_auto_columns": null,
            "grid_auto_flow": null,
            "grid_auto_rows": null,
            "grid_column": null,
            "grid_gap": null,
            "grid_row": null,
            "grid_template_areas": null,
            "grid_template_columns": null,
            "grid_template_rows": null,
            "height": null,
            "justify_content": null,
            "justify_items": null,
            "left": null,
            "margin": null,
            "max_height": null,
            "max_width": null,
            "min_height": null,
            "min_width": null,
            "object_fit": null,
            "object_position": null,
            "order": null,
            "overflow": null,
            "overflow_x": null,
            "overflow_y": null,
            "padding": null,
            "right": null,
            "top": null,
            "visibility": null,
            "width": null
          }
        },
        "7367861ca9dd40bba039c87d4944c57e": {
          "model_module": "@jupyter-widgets/controls",
          "model_name": "ProgressStyleModel",
          "model_module_version": "1.5.0",
          "state": {
            "_model_module": "@jupyter-widgets/controls",
            "_model_module_version": "1.5.0",
            "_model_name": "ProgressStyleModel",
            "_view_count": null,
            "_view_module": "@jupyter-widgets/base",
            "_view_module_version": "1.2.0",
            "_view_name": "StyleView",
            "bar_color": null,
            "description_width": ""
          }
        },
        "e0048b87acfc4e29bed6e3de46c77881": {
          "model_module": "@jupyter-widgets/base",
          "model_name": "LayoutModel",
          "model_module_version": "1.2.0",
          "state": {
            "_model_module": "@jupyter-widgets/base",
            "_model_module_version": "1.2.0",
            "_model_name": "LayoutModel",
            "_view_count": null,
            "_view_module": "@jupyter-widgets/base",
            "_view_module_version": "1.2.0",
            "_view_name": "LayoutView",
            "align_content": null,
            "align_items": null,
            "align_self": null,
            "border": null,
            "bottom": null,
            "display": null,
            "flex": null,
            "flex_flow": null,
            "grid_area": null,
            "grid_auto_columns": null,
            "grid_auto_flow": null,
            "grid_auto_rows": null,
            "grid_column": null,
            "grid_gap": null,
            "grid_row": null,
            "grid_template_areas": null,
            "grid_template_columns": null,
            "grid_template_rows": null,
            "height": null,
            "justify_content": null,
            "justify_items": null,
            "left": null,
            "margin": null,
            "max_height": null,
            "max_width": null,
            "min_height": null,
            "min_width": null,
            "object_fit": null,
            "object_position": null,
            "order": null,
            "overflow": null,
            "overflow_x": null,
            "overflow_y": null,
            "padding": null,
            "right": null,
            "top": null,
            "visibility": null,
            "width": null
          }
        },
        "8e189beeb2c6455c8b016146742f60c3": {
          "model_module": "@jupyter-widgets/controls",
          "model_name": "DescriptionStyleModel",
          "model_module_version": "1.5.0",
          "state": {
            "_model_module": "@jupyter-widgets/controls",
            "_model_module_version": "1.5.0",
            "_model_name": "DescriptionStyleModel",
            "_view_count": null,
            "_view_module": "@jupyter-widgets/base",
            "_view_module_version": "1.2.0",
            "_view_name": "StyleView",
            "description_width": ""
          }
        },
        "8ef37609ff61433681a5daadebae0a3e": {
          "model_module": "@jupyter-widgets/controls",
          "model_name": "HBoxModel",
          "model_module_version": "1.5.0",
          "state": {
            "_dom_classes": [],
            "_model_module": "@jupyter-widgets/controls",
            "_model_module_version": "1.5.0",
            "_model_name": "HBoxModel",
            "_view_count": null,
            "_view_module": "@jupyter-widgets/controls",
            "_view_module_version": "1.5.0",
            "_view_name": "HBoxView",
            "box_style": "",
            "children": [
              "IPY_MODEL_4a539e911ce64cc598c26f243e9d670e",
              "IPY_MODEL_f80caff7cb754c3081204d9f59ff696c",
              "IPY_MODEL_8a9c5349e99a411caf65958d38256e36"
            ],
            "layout": "IPY_MODEL_4c56fa136fec4bdd8964f1af178e078b"
          }
        },
        "4a539e911ce64cc598c26f243e9d670e": {
          "model_module": "@jupyter-widgets/controls",
          "model_name": "HTMLModel",
          "model_module_version": "1.5.0",
          "state": {
            "_dom_classes": [],
            "_model_module": "@jupyter-widgets/controls",
            "_model_module_version": "1.5.0",
            "_model_name": "HTMLModel",
            "_view_count": null,
            "_view_module": "@jupyter-widgets/controls",
            "_view_module_version": "1.5.0",
            "_view_name": "HTMLView",
            "description": "",
            "description_tooltip": null,
            "layout": "IPY_MODEL_527c3f0cf7a247d98561c205bf45c007",
            "placeholder": "​",
            "style": "IPY_MODEL_3353511ac8914b00917deba1761b4c2f",
            "value": "100%"
          }
        },
        "f80caff7cb754c3081204d9f59ff696c": {
          "model_module": "@jupyter-widgets/controls",
          "model_name": "FloatProgressModel",
          "model_module_version": "1.5.0",
          "state": {
            "_dom_classes": [],
            "_model_module": "@jupyter-widgets/controls",
            "_model_module_version": "1.5.0",
            "_model_name": "FloatProgressModel",
            "_view_count": null,
            "_view_module": "@jupyter-widgets/controls",
            "_view_module_version": "1.5.0",
            "_view_name": "ProgressView",
            "bar_style": "success",
            "description": "",
            "description_tooltip": null,
            "layout": "IPY_MODEL_e9acfae021c3482788777546f6c3684d",
            "max": 157,
            "min": 0,
            "orientation": "horizontal",
            "style": "IPY_MODEL_f9947ee762864e658c65205846d8d49b",
            "value": 157
          }
        },
        "8a9c5349e99a411caf65958d38256e36": {
          "model_module": "@jupyter-widgets/controls",
          "model_name": "HTMLModel",
          "model_module_version": "1.5.0",
          "state": {
            "_dom_classes": [],
            "_model_module": "@jupyter-widgets/controls",
            "_model_module_version": "1.5.0",
            "_model_name": "HTMLModel",
            "_view_count": null,
            "_view_module": "@jupyter-widgets/controls",
            "_view_module_version": "1.5.0",
            "_view_name": "HTMLView",
            "description": "",
            "description_tooltip": null,
            "layout": "IPY_MODEL_706f85ecfd204db2b2fdf2b4b2a7ede8",
            "placeholder": "​",
            "style": "IPY_MODEL_51255f2b71e64c72912c9caa6e14d9bb",
            "value": " 157/157 [00:04&lt;00:00, 36.31it/s, epoch=3/3, loss=2.302]"
          }
        },
        "4c56fa136fec4bdd8964f1af178e078b": {
          "model_module": "@jupyter-widgets/base",
          "model_name": "LayoutModel",
          "model_module_version": "1.2.0",
          "state": {
            "_model_module": "@jupyter-widgets/base",
            "_model_module_version": "1.2.0",
            "_model_name": "LayoutModel",
            "_view_count": null,
            "_view_module": "@jupyter-widgets/base",
            "_view_module_version": "1.2.0",
            "_view_name": "LayoutView",
            "align_content": null,
            "align_items": null,
            "align_self": null,
            "border": null,
            "bottom": null,
            "display": null,
            "flex": null,
            "flex_flow": null,
            "grid_area": null,
            "grid_auto_columns": null,
            "grid_auto_flow": null,
            "grid_auto_rows": null,
            "grid_column": null,
            "grid_gap": null,
            "grid_row": null,
            "grid_template_areas": null,
            "grid_template_columns": null,
            "grid_template_rows": null,
            "height": null,
            "justify_content": null,
            "justify_items": null,
            "left": null,
            "margin": null,
            "max_height": null,
            "max_width": null,
            "min_height": null,
            "min_width": null,
            "object_fit": null,
            "object_position": null,
            "order": null,
            "overflow": null,
            "overflow_x": null,
            "overflow_y": null,
            "padding": null,
            "right": null,
            "top": null,
            "visibility": null,
            "width": null
          }
        },
        "527c3f0cf7a247d98561c205bf45c007": {
          "model_module": "@jupyter-widgets/base",
          "model_name": "LayoutModel",
          "model_module_version": "1.2.0",
          "state": {
            "_model_module": "@jupyter-widgets/base",
            "_model_module_version": "1.2.0",
            "_model_name": "LayoutModel",
            "_view_count": null,
            "_view_module": "@jupyter-widgets/base",
            "_view_module_version": "1.2.0",
            "_view_name": "LayoutView",
            "align_content": null,
            "align_items": null,
            "align_self": null,
            "border": null,
            "bottom": null,
            "display": null,
            "flex": null,
            "flex_flow": null,
            "grid_area": null,
            "grid_auto_columns": null,
            "grid_auto_flow": null,
            "grid_auto_rows": null,
            "grid_column": null,
            "grid_gap": null,
            "grid_row": null,
            "grid_template_areas": null,
            "grid_template_columns": null,
            "grid_template_rows": null,
            "height": null,
            "justify_content": null,
            "justify_items": null,
            "left": null,
            "margin": null,
            "max_height": null,
            "max_width": null,
            "min_height": null,
            "min_width": null,
            "object_fit": null,
            "object_position": null,
            "order": null,
            "overflow": null,
            "overflow_x": null,
            "overflow_y": null,
            "padding": null,
            "right": null,
            "top": null,
            "visibility": null,
            "width": null
          }
        },
        "3353511ac8914b00917deba1761b4c2f": {
          "model_module": "@jupyter-widgets/controls",
          "model_name": "DescriptionStyleModel",
          "model_module_version": "1.5.0",
          "state": {
            "_model_module": "@jupyter-widgets/controls",
            "_model_module_version": "1.5.0",
            "_model_name": "DescriptionStyleModel",
            "_view_count": null,
            "_view_module": "@jupyter-widgets/base",
            "_view_module_version": "1.2.0",
            "_view_name": "StyleView",
            "description_width": ""
          }
        },
        "e9acfae021c3482788777546f6c3684d": {
          "model_module": "@jupyter-widgets/base",
          "model_name": "LayoutModel",
          "model_module_version": "1.2.0",
          "state": {
            "_model_module": "@jupyter-widgets/base",
            "_model_module_version": "1.2.0",
            "_model_name": "LayoutModel",
            "_view_count": null,
            "_view_module": "@jupyter-widgets/base",
            "_view_module_version": "1.2.0",
            "_view_name": "LayoutView",
            "align_content": null,
            "align_items": null,
            "align_self": null,
            "border": null,
            "bottom": null,
            "display": null,
            "flex": null,
            "flex_flow": null,
            "grid_area": null,
            "grid_auto_columns": null,
            "grid_auto_flow": null,
            "grid_auto_rows": null,
            "grid_column": null,
            "grid_gap": null,
            "grid_row": null,
            "grid_template_areas": null,
            "grid_template_columns": null,
            "grid_template_rows": null,
            "height": null,
            "justify_content": null,
            "justify_items": null,
            "left": null,
            "margin": null,
            "max_height": null,
            "max_width": null,
            "min_height": null,
            "min_width": null,
            "object_fit": null,
            "object_position": null,
            "order": null,
            "overflow": null,
            "overflow_x": null,
            "overflow_y": null,
            "padding": null,
            "right": null,
            "top": null,
            "visibility": null,
            "width": null
          }
        },
        "f9947ee762864e658c65205846d8d49b": {
          "model_module": "@jupyter-widgets/controls",
          "model_name": "ProgressStyleModel",
          "model_module_version": "1.5.0",
          "state": {
            "_model_module": "@jupyter-widgets/controls",
            "_model_module_version": "1.5.0",
            "_model_name": "ProgressStyleModel",
            "_view_count": null,
            "_view_module": "@jupyter-widgets/base",
            "_view_module_version": "1.2.0",
            "_view_name": "StyleView",
            "bar_color": null,
            "description_width": ""
          }
        },
        "706f85ecfd204db2b2fdf2b4b2a7ede8": {
          "model_module": "@jupyter-widgets/base",
          "model_name": "LayoutModel",
          "model_module_version": "1.2.0",
          "state": {
            "_model_module": "@jupyter-widgets/base",
            "_model_module_version": "1.2.0",
            "_model_name": "LayoutModel",
            "_view_count": null,
            "_view_module": "@jupyter-widgets/base",
            "_view_module_version": "1.2.0",
            "_view_name": "LayoutView",
            "align_content": null,
            "align_items": null,
            "align_self": null,
            "border": null,
            "bottom": null,
            "display": null,
            "flex": null,
            "flex_flow": null,
            "grid_area": null,
            "grid_auto_columns": null,
            "grid_auto_flow": null,
            "grid_auto_rows": null,
            "grid_column": null,
            "grid_gap": null,
            "grid_row": null,
            "grid_template_areas": null,
            "grid_template_columns": null,
            "grid_template_rows": null,
            "height": null,
            "justify_content": null,
            "justify_items": null,
            "left": null,
            "margin": null,
            "max_height": null,
            "max_width": null,
            "min_height": null,
            "min_width": null,
            "object_fit": null,
            "object_position": null,
            "order": null,
            "overflow": null,
            "overflow_x": null,
            "overflow_y": null,
            "padding": null,
            "right": null,
            "top": null,
            "visibility": null,
            "width": null
          }
        },
        "51255f2b71e64c72912c9caa6e14d9bb": {
          "model_module": "@jupyter-widgets/controls",
          "model_name": "DescriptionStyleModel",
          "model_module_version": "1.5.0",
          "state": {
            "_model_module": "@jupyter-widgets/controls",
            "_model_module_version": "1.5.0",
            "_model_name": "DescriptionStyleModel",
            "_view_count": null,
            "_view_module": "@jupyter-widgets/base",
            "_view_module_version": "1.2.0",
            "_view_name": "StyleView",
            "description_width": ""
          }
        }
      }
    }
  },
  "nbformat": 4,
  "nbformat_minor": 0
}